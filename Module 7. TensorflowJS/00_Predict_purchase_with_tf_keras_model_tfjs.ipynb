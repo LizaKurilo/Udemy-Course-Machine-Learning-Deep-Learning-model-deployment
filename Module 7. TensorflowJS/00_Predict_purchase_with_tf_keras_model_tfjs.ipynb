{
  "nbformat": 4,
  "nbformat_minor": 0,
  "metadata": {
    "colab": {
      "name": "00-Predict_purchase_with_tf_keras_model_tfjs.ipynb",
      "provenance": [],
      "collapsed_sections": []
    },
    "kernelspec": {
      "name": "python3",
      "display_name": "Python 3"
    }
  },
  "cells": [
    {
      "cell_type": "markdown",
      "metadata": {
        "id": "GSLNqHCrOWhq"
      },
      "source": [
        "## Imports"
      ]
    },
    {
      "cell_type": "code",
      "metadata": {
        "id": "Ut2TwOTP8J0q"
      },
      "source": [
        "import numpy as np\n",
        "import pandas as pd\n",
        "import tensorflow as tf"
      ],
      "execution_count": 1,
      "outputs": []
    },
    {
      "cell_type": "code",
      "metadata": {
        "id": "39M7G2r48Q5b"
      },
      "source": [
        "dataset = pd.read_csv('https://raw.githubusercontent.com/futurexskill/ml-model-deployment/main/storepurchasedata_large.csv')\n"
      ],
      "execution_count": 2,
      "outputs": []
    },
    {
      "cell_type": "code",
      "metadata": {
        "id": "WZCuiO_QN9K9",
        "colab": {
          "base_uri": "https://localhost:8080/",
          "height": 204
        },
        "outputId": "d7f667a1-d262-4ed0-96cd-85ea86621f80"
      },
      "source": [
        "dataset.head()"
      ],
      "execution_count": 3,
      "outputs": [
        {
          "output_type": "execute_result",
          "data": {
            "text/html": [
              "<div>\n",
              "<style scoped>\n",
              "    .dataframe tbody tr th:only-of-type {\n",
              "        vertical-align: middle;\n",
              "    }\n",
              "\n",
              "    .dataframe tbody tr th {\n",
              "        vertical-align: top;\n",
              "    }\n",
              "\n",
              "    .dataframe thead th {\n",
              "        text-align: right;\n",
              "    }\n",
              "</style>\n",
              "<table border=\"1\" class=\"dataframe\">\n",
              "  <thead>\n",
              "    <tr style=\"text-align: right;\">\n",
              "      <th></th>\n",
              "      <th>Age</th>\n",
              "      <th>Salary</th>\n",
              "      <th>Purchased</th>\n",
              "    </tr>\n",
              "  </thead>\n",
              "  <tbody>\n",
              "    <tr>\n",
              "      <th>0</th>\n",
              "      <td>18</td>\n",
              "      <td>20000</td>\n",
              "      <td>0</td>\n",
              "    </tr>\n",
              "    <tr>\n",
              "      <th>1</th>\n",
              "      <td>19</td>\n",
              "      <td>22000</td>\n",
              "      <td>0</td>\n",
              "    </tr>\n",
              "    <tr>\n",
              "      <th>2</th>\n",
              "      <td>20</td>\n",
              "      <td>24000</td>\n",
              "      <td>0</td>\n",
              "    </tr>\n",
              "    <tr>\n",
              "      <th>3</th>\n",
              "      <td>21</td>\n",
              "      <td>28000</td>\n",
              "      <td>0</td>\n",
              "    </tr>\n",
              "    <tr>\n",
              "      <th>4</th>\n",
              "      <td>22</td>\n",
              "      <td>60000</td>\n",
              "      <td>1</td>\n",
              "    </tr>\n",
              "  </tbody>\n",
              "</table>\n",
              "</div>"
            ],
            "text/plain": [
              "   Age  Salary  Purchased\n",
              "0   18   20000          0\n",
              "1   19   22000          0\n",
              "2   20   24000          0\n",
              "3   21   28000          0\n",
              "4   22   60000          1"
            ]
          },
          "metadata": {
            "tags": []
          },
          "execution_count": 3
        }
      ]
    },
    {
      "cell_type": "code",
      "metadata": {
        "id": "HcnIwi_ROBkM",
        "colab": {
          "base_uri": "https://localhost:8080/",
          "height": 297
        },
        "outputId": "6596eda9-3310-450b-b4ac-321bab77a5d4"
      },
      "source": [
        "dataset.describe()"
      ],
      "execution_count": 4,
      "outputs": [
        {
          "output_type": "execute_result",
          "data": {
            "text/html": [
              "<div>\n",
              "<style scoped>\n",
              "    .dataframe tbody tr th:only-of-type {\n",
              "        vertical-align: middle;\n",
              "    }\n",
              "\n",
              "    .dataframe tbody tr th {\n",
              "        vertical-align: top;\n",
              "    }\n",
              "\n",
              "    .dataframe thead th {\n",
              "        text-align: right;\n",
              "    }\n",
              "</style>\n",
              "<table border=\"1\" class=\"dataframe\">\n",
              "  <thead>\n",
              "    <tr style=\"text-align: right;\">\n",
              "      <th></th>\n",
              "      <th>Age</th>\n",
              "      <th>Salary</th>\n",
              "      <th>Purchased</th>\n",
              "    </tr>\n",
              "  </thead>\n",
              "  <tbody>\n",
              "    <tr>\n",
              "      <th>count</th>\n",
              "      <td>1554.000000</td>\n",
              "      <td>1554.000000</td>\n",
              "      <td>1554.000000</td>\n",
              "    </tr>\n",
              "    <tr>\n",
              "      <th>mean</th>\n",
              "      <td>44.296010</td>\n",
              "      <td>57042.471042</td>\n",
              "      <td>0.694981</td>\n",
              "    </tr>\n",
              "    <tr>\n",
              "      <th>std</th>\n",
              "      <td>17.462458</td>\n",
              "      <td>21209.244800</td>\n",
              "      <td>0.460564</td>\n",
              "    </tr>\n",
              "    <tr>\n",
              "      <th>min</th>\n",
              "      <td>18.000000</td>\n",
              "      <td>20000.000000</td>\n",
              "      <td>0.000000</td>\n",
              "    </tr>\n",
              "    <tr>\n",
              "      <th>25%</th>\n",
              "      <td>27.000000</td>\n",
              "      <td>46000.000000</td>\n",
              "      <td>0.000000</td>\n",
              "    </tr>\n",
              "    <tr>\n",
              "      <th>50%</th>\n",
              "      <td>43.000000</td>\n",
              "      <td>60000.000000</td>\n",
              "      <td>1.000000</td>\n",
              "    </tr>\n",
              "    <tr>\n",
              "      <th>75%</th>\n",
              "      <td>62.000000</td>\n",
              "      <td>66000.000000</td>\n",
              "      <td>1.000000</td>\n",
              "    </tr>\n",
              "    <tr>\n",
              "      <th>max</th>\n",
              "      <td>69.000000</td>\n",
              "      <td>96000.000000</td>\n",
              "      <td>1.000000</td>\n",
              "    </tr>\n",
              "  </tbody>\n",
              "</table>\n",
              "</div>"
            ],
            "text/plain": [
              "               Age        Salary    Purchased\n",
              "count  1554.000000   1554.000000  1554.000000\n",
              "mean     44.296010  57042.471042     0.694981\n",
              "std      17.462458  21209.244800     0.460564\n",
              "min      18.000000  20000.000000     0.000000\n",
              "25%      27.000000  46000.000000     0.000000\n",
              "50%      43.000000  60000.000000     1.000000\n",
              "75%      62.000000  66000.000000     1.000000\n",
              "max      69.000000  96000.000000     1.000000"
            ]
          },
          "metadata": {
            "tags": []
          },
          "execution_count": 4
        }
      ]
    },
    {
      "cell_type": "markdown",
      "metadata": {
        "id": "CJKHoYbUO2OB"
      },
      "source": [
        "## Modelling"
      ]
    },
    {
      "cell_type": "code",
      "metadata": {
        "id": "UeKr8HwTNwa6"
      },
      "source": [
        "X = dataset.iloc[:, :-1].values\n",
        "y = dataset.iloc[:,-1].values"
      ],
      "execution_count": 6,
      "outputs": []
    },
    {
      "cell_type": "code",
      "metadata": {
        "id": "rXupAm40Oh4p"
      },
      "source": [
        "from sklearn.model_selection import train_test_split\n",
        "X_train, X_test, y_train, y_test = train_test_split(X, y, test_size =.20,random_state=0)"
      ],
      "execution_count": 7,
      "outputs": []
    },
    {
      "cell_type": "code",
      "metadata": {
        "id": "P4U9716S0pAM"
      },
      "source": [
        "from sklearn.preprocessing import StandardScaler\n",
        "sc = StandardScaler()\n",
        "X_train = sc.fit_transform(X_train)\n",
        "X_test = sc.transform(X_test)"
      ],
      "execution_count": 8,
      "outputs": []
    },
    {
      "cell_type": "code",
      "metadata": {
        "id": "9rZo2iwTcW2V"
      },
      "source": [
        "model = tf.keras.models.Sequential([\n",
        "  tf.keras.layers.Dense(10, activation='relu'),\n",
        "  tf.keras.layers.Dense(10, activation='relu'),\n",
        "  tf.keras.layers.Dense(2, activation='softmax')\n",
        "])"
      ],
      "execution_count": 9,
      "outputs": []
    },
    {
      "cell_type": "code",
      "metadata": {
        "id": "lKp_1GanzVym"
      },
      "source": [
        "model.compile(optimizer='adam',\n",
        "              loss='sparse_categorical_crossentropy',\n",
        "              metrics=['accuracy'])"
      ],
      "execution_count": 10,
      "outputs": []
    },
    {
      "cell_type": "code",
      "metadata": {
        "id": "Tq5WTRIszYho",
        "colab": {
          "base_uri": "https://localhost:8080/"
        },
        "outputId": "53e8b793-8c61-47d5-f70d-7c812a3e2043"
      },
      "source": [
        "model.fit(X_train, y_train, epochs=50)\n"
      ],
      "execution_count": 11,
      "outputs": [
        {
          "output_type": "stream",
          "text": [
            "Epoch 1/50\n",
            "39/39 [==============================] - 1s 1ms/step - loss: 0.8186 - accuracy: 0.4342\n",
            "Epoch 2/50\n",
            "39/39 [==============================] - 0s 1ms/step - loss: 0.6033 - accuracy: 0.6718\n",
            "Epoch 3/50\n",
            "39/39 [==============================] - 0s 1ms/step - loss: 0.4416 - accuracy: 0.9337\n",
            "Epoch 4/50\n",
            "39/39 [==============================] - 0s 1ms/step - loss: 0.3144 - accuracy: 0.9552\n",
            "Epoch 5/50\n",
            "39/39 [==============================] - 0s 2ms/step - loss: 0.2385 - accuracy: 0.9491\n",
            "Epoch 6/50\n",
            "39/39 [==============================] - 0s 2ms/step - loss: 0.1966 - accuracy: 0.9484\n",
            "Epoch 7/50\n",
            "39/39 [==============================] - 0s 1ms/step - loss: 0.1642 - accuracy: 0.9565\n",
            "Epoch 8/50\n",
            "39/39 [==============================] - 0s 1ms/step - loss: 0.1611 - accuracy: 0.9491\n",
            "Epoch 9/50\n",
            "39/39 [==============================] - 0s 1ms/step - loss: 0.1364 - accuracy: 0.9587\n",
            "Epoch 10/50\n",
            "39/39 [==============================] - 0s 1ms/step - loss: 0.1484 - accuracy: 0.9522\n",
            "Epoch 11/50\n",
            "39/39 [==============================] - 0s 1ms/step - loss: 0.1231 - accuracy: 0.9574\n",
            "Epoch 12/50\n",
            "39/39 [==============================] - 0s 1ms/step - loss: 0.1353 - accuracy: 0.9585\n",
            "Epoch 13/50\n",
            "39/39 [==============================] - 0s 1ms/step - loss: 0.1362 - accuracy: 0.9501\n",
            "Epoch 14/50\n",
            "39/39 [==============================] - 0s 1ms/step - loss: 0.1114 - accuracy: 0.9624\n",
            "Epoch 15/50\n",
            "39/39 [==============================] - 0s 2ms/step - loss: 0.1333 - accuracy: 0.9511\n",
            "Epoch 16/50\n",
            "39/39 [==============================] - 0s 1ms/step - loss: 0.1108 - accuracy: 0.9617\n",
            "Epoch 17/50\n",
            "39/39 [==============================] - 0s 1ms/step - loss: 0.1134 - accuracy: 0.9604\n",
            "Epoch 18/50\n",
            "39/39 [==============================] - 0s 1ms/step - loss: 0.1054 - accuracy: 0.9637\n",
            "Epoch 19/50\n",
            "39/39 [==============================] - 0s 1ms/step - loss: 0.1119 - accuracy: 0.9590\n",
            "Epoch 20/50\n",
            "39/39 [==============================] - 0s 1ms/step - loss: 0.1170 - accuracy: 0.9558\n",
            "Epoch 21/50\n",
            "39/39 [==============================] - 0s 1ms/step - loss: 0.1034 - accuracy: 0.9593\n",
            "Epoch 22/50\n",
            "39/39 [==============================] - 0s 2ms/step - loss: 0.1178 - accuracy: 0.9638\n",
            "Epoch 23/50\n",
            "39/39 [==============================] - 0s 1ms/step - loss: 0.1273 - accuracy: 0.9601\n",
            "Epoch 24/50\n",
            "39/39 [==============================] - 0s 1ms/step - loss: 0.1068 - accuracy: 0.9603\n",
            "Epoch 25/50\n",
            "39/39 [==============================] - 0s 2ms/step - loss: 0.1069 - accuracy: 0.9625\n",
            "Epoch 26/50\n",
            "39/39 [==============================] - 0s 1ms/step - loss: 0.0923 - accuracy: 0.9707\n",
            "Epoch 27/50\n",
            "39/39 [==============================] - 0s 2ms/step - loss: 0.0897 - accuracy: 0.9644\n",
            "Epoch 28/50\n",
            "39/39 [==============================] - 0s 1ms/step - loss: 0.1113 - accuracy: 0.9598\n",
            "Epoch 29/50\n",
            "39/39 [==============================] - 0s 1ms/step - loss: 0.1078 - accuracy: 0.9597\n",
            "Epoch 30/50\n",
            "39/39 [==============================] - 0s 1ms/step - loss: 0.1150 - accuracy: 0.9593\n",
            "Epoch 31/50\n",
            "39/39 [==============================] - 0s 2ms/step - loss: 0.0842 - accuracy: 0.9728\n",
            "Epoch 32/50\n",
            "39/39 [==============================] - 0s 1ms/step - loss: 0.0980 - accuracy: 0.9678\n",
            "Epoch 33/50\n",
            "39/39 [==============================] - 0s 1ms/step - loss: 0.0908 - accuracy: 0.9653\n",
            "Epoch 34/50\n",
            "39/39 [==============================] - 0s 1ms/step - loss: 0.0931 - accuracy: 0.9632\n",
            "Epoch 35/50\n",
            "39/39 [==============================] - 0s 2ms/step - loss: 0.1060 - accuracy: 0.9587\n",
            "Epoch 36/50\n",
            "39/39 [==============================] - 0s 2ms/step - loss: 0.1070 - accuracy: 0.9628\n",
            "Epoch 37/50\n",
            "39/39 [==============================] - 0s 1ms/step - loss: 0.1073 - accuracy: 0.9512\n",
            "Epoch 38/50\n",
            "39/39 [==============================] - 0s 1ms/step - loss: 0.1001 - accuracy: 0.9611\n",
            "Epoch 39/50\n",
            "39/39 [==============================] - 0s 1ms/step - loss: 0.1097 - accuracy: 0.9494\n",
            "Epoch 40/50\n",
            "39/39 [==============================] - 0s 1ms/step - loss: 0.0939 - accuracy: 0.9611\n",
            "Epoch 41/50\n",
            "39/39 [==============================] - 0s 1ms/step - loss: 0.0964 - accuracy: 0.9584\n",
            "Epoch 42/50\n",
            "39/39 [==============================] - 0s 1ms/step - loss: 0.0956 - accuracy: 0.9593\n",
            "Epoch 43/50\n",
            "39/39 [==============================] - 0s 1ms/step - loss: 0.1054 - accuracy: 0.9546\n",
            "Epoch 44/50\n",
            "39/39 [==============================] - 0s 1ms/step - loss: 0.1076 - accuracy: 0.9597\n",
            "Epoch 45/50\n",
            "39/39 [==============================] - 0s 1ms/step - loss: 0.1254 - accuracy: 0.9454\n",
            "Epoch 46/50\n",
            "39/39 [==============================] - 0s 1ms/step - loss: 0.0901 - accuracy: 0.9611\n",
            "Epoch 47/50\n",
            "39/39 [==============================] - 0s 1ms/step - loss: 0.0924 - accuracy: 0.9539\n",
            "Epoch 48/50\n",
            "39/39 [==============================] - 0s 2ms/step - loss: 0.0931 - accuracy: 0.9552\n",
            "Epoch 49/50\n",
            "39/39 [==============================] - 0s 1ms/step - loss: 0.1021 - accuracy: 0.9511\n",
            "Epoch 50/50\n",
            "39/39 [==============================] - 0s 2ms/step - loss: 0.1034 - accuracy: 0.9569\n"
          ],
          "name": "stdout"
        },
        {
          "output_type": "execute_result",
          "data": {
            "text/plain": [
              "<tensorflow.python.keras.callbacks.History at 0x7fa72b599750>"
            ]
          },
          "metadata": {
            "tags": []
          },
          "execution_count": 11
        }
      ]
    },
    {
      "cell_type": "code",
      "metadata": {
        "id": "DjDiT-NlzaSO",
        "colab": {
          "base_uri": "https://localhost:8080/"
        },
        "outputId": "62a24910-1d08-4d30-bf37-02e2c42cb3a9"
      },
      "source": [
        "loss, accuracy =model.evaluate(X_test, y_test)\n"
      ],
      "execution_count": 12,
      "outputs": [
        {
          "output_type": "stream",
          "text": [
            "10/10 [==============================] - 0s 2ms/step - loss: 0.1040 - accuracy: 0.9711\n"
          ],
          "name": "stdout"
        }
      ]
    },
    {
      "cell_type": "code",
      "metadata": {
        "id": "tz9bvd6l0fxy",
        "colab": {
          "base_uri": "https://localhost:8080/"
        },
        "outputId": "1e20b458-b351-4dc3-edcb-cde1a684c102"
      },
      "source": [
        "loss, accuracy"
      ],
      "execution_count": 14,
      "outputs": [
        {
          "output_type": "execute_result",
          "data": {
            "text/plain": [
              "(0.10402051359415054, 0.971061110496521)"
            ]
          },
          "metadata": {
            "tags": []
          },
          "execution_count": 14
        }
      ]
    },
    {
      "cell_type": "code",
      "metadata": {
        "id": "ugyZh1S7ze0W",
        "colab": {
          "base_uri": "https://localhost:8080/"
        },
        "outputId": "ac399759-860a-4059-e25e-967074bf7cac"
      },
      "source": [
        "model.summary()\n"
      ],
      "execution_count": 15,
      "outputs": [
        {
          "output_type": "stream",
          "text": [
            "Model: \"sequential\"\n",
            "_________________________________________________________________\n",
            "Layer (type)                 Output Shape              Param #   \n",
            "=================================================================\n",
            "dense (Dense)                (None, 10)                30        \n",
            "_________________________________________________________________\n",
            "dense_1 (Dense)              (None, 10)                110       \n",
            "_________________________________________________________________\n",
            "dense_2 (Dense)              (None, 2)                 22        \n",
            "=================================================================\n",
            "Total params: 162\n",
            "Trainable params: 162\n",
            "Non-trainable params: 0\n",
            "_________________________________________________________________\n"
          ],
          "name": "stdout"
        }
      ]
    },
    {
      "cell_type": "markdown",
      "metadata": {
        "id": "My0svFltPAMq"
      },
      "source": [
        "## Testing"
      ]
    },
    {
      "cell_type": "code",
      "metadata": {
        "id": "PelMe-Vn0RZ7",
        "colab": {
          "base_uri": "https://localhost:8080/"
        },
        "outputId": "f34380e5-2b42-4a9e-bfa6-908bd61d8365"
      },
      "source": [
        " prediction1 = model.predict(sc.transform(np.array([[42,50000]])))[:,1]\n",
        " prediction1"
      ],
      "execution_count": 16,
      "outputs": [
        {
          "output_type": "execute_result",
          "data": {
            "text/plain": [
              "array([0.7534793], dtype=float32)"
            ]
          },
          "metadata": {
            "tags": []
          },
          "execution_count": 16
        }
      ]
    },
    {
      "cell_type": "code",
      "metadata": {
        "id": "d2TKXeUx1JgU",
        "colab": {
          "base_uri": "https://localhost:8080/"
        },
        "outputId": "70d5a8c3-141b-49f7-d138-917721f6f37e"
      },
      "source": [
        "predict2 = model.predict(sc.transform(np.array([[20,40000]])))[:,1]\n",
        "predict2"
      ],
      "execution_count": 17,
      "outputs": [
        {
          "output_type": "execute_result",
          "data": {
            "text/plain": [
              "array([0.00263595], dtype=float32)"
            ]
          },
          "metadata": {
            "tags": []
          },
          "execution_count": 17
        }
      ]
    },
    {
      "cell_type": "markdown",
      "metadata": {
        "id": "TlXZHZM3PG2d"
      },
      "source": [
        "## Saving"
      ]
    },
    {
      "cell_type": "code",
      "metadata": {
        "id": "ItRgLbOh1QD-",
        "colab": {
          "base_uri": "https://localhost:8080/"
        },
        "outputId": "2cc75db0-dc86-4701-d3a7-15d65c252827"
      },
      "source": [
        "model.save('customer_behavior_model/1')\n"
      ],
      "execution_count": 18,
      "outputs": [
        {
          "output_type": "stream",
          "text": [
            "INFO:tensorflow:Assets written to: customer_behavior_model/1/assets\n"
          ],
          "name": "stdout"
        }
      ]
    },
    {
      "cell_type": "code",
      "metadata": {
        "id": "pwUt_LN52ac9",
        "colab": {
          "base_uri": "https://localhost:8080/"
        },
        "outputId": "84db6137-6650-4fe2-af92-dd94f288b25c"
      },
      "source": [
        "!ls"
      ],
      "execution_count": 19,
      "outputs": [
        {
          "output_type": "stream",
          "text": [
            "customer_behavior_model  sample_data\n"
          ],
          "name": "stdout"
        }
      ]
    },
    {
      "cell_type": "code",
      "metadata": {
        "id": "6FTj_HA12cIq",
        "colab": {
          "base_uri": "https://localhost:8080/"
        },
        "outputId": "78c3fbdb-61d9-4c75-da37-1fadb32f8bc1"
      },
      "source": [
        "!ls customer_behavior_model/1"
      ],
      "execution_count": 20,
      "outputs": [
        {
          "output_type": "stream",
          "text": [
            "assets\tsaved_model.pb\tvariables\n"
          ],
          "name": "stdout"
        }
      ]
    },
    {
      "cell_type": "markdown",
      "metadata": {
        "id": "GYgYwmepPI3A"
      },
      "source": [
        "## Check saved model"
      ]
    },
    {
      "cell_type": "code",
      "metadata": {
        "id": "IXuMmkah2gYh"
      },
      "source": [
        "from tensorflow.keras.models import load_model\n"
      ],
      "execution_count": 23,
      "outputs": []
    },
    {
      "cell_type": "code",
      "metadata": {
        "id": "RE6SV79J2lIc"
      },
      "source": [
        "cust_model = load_model('customer_behavior_model/1/')"
      ],
      "execution_count": 24,
      "outputs": []
    },
    {
      "cell_type": "code",
      "metadata": {
        "id": "yGpuDs2S2tLw",
        "colab": {
          "base_uri": "https://localhost:8080/"
        },
        "outputId": "733b0547-2148-4726-ad2e-3f649206d406"
      },
      "source": [
        " prediction3 = cust_model.predict(sc.transform(np.array([[42,50000]])))[:,1]\n",
        " prediction3"
      ],
      "execution_count": 25,
      "outputs": [
        {
          "output_type": "execute_result",
          "data": {
            "text/plain": [
              "array([0.7534793], dtype=float32)"
            ]
          },
          "metadata": {
            "tags": []
          },
          "execution_count": 25
        }
      ]
    },
    {
      "cell_type": "code",
      "metadata": {
        "id": "BTvXQ14F20QE",
        "colab": {
          "base_uri": "https://localhost:8080/"
        },
        "outputId": "acea76f5-3602-4a38-8d3b-ac0341707e41"
      },
      "source": [
        "predict4 = model.predict(sc.transform(np.array([[20,40000]])))[:,1]\n",
        "predict4"
      ],
      "execution_count": 26,
      "outputs": [
        {
          "output_type": "execute_result",
          "data": {
            "text/plain": [
              "array([0.00263595], dtype=float32)"
            ]
          },
          "metadata": {
            "tags": []
          },
          "execution_count": 26
        }
      ]
    },
    {
      "cell_type": "code",
      "metadata": {
        "colab": {
          "base_uri": "https://localhost:8080/"
        },
        "id": "O7yKcxubjK3k",
        "outputId": "65d586b6-656c-4c7a-866b-d053a6bb62d2"
      },
      "source": [
        "sc.transform(np.array([[20,40000]]))"
      ],
      "execution_count": 27,
      "outputs": [
        {
          "output_type": "execute_result",
          "data": {
            "text/plain": [
              "array([[-1.40863043, -0.81755432]])"
            ]
          },
          "metadata": {
            "tags": []
          },
          "execution_count": 27
        }
      ]
    },
    {
      "cell_type": "code",
      "metadata": {
        "colab": {
          "base_uri": "https://localhost:8080/"
        },
        "id": "xIjsno1cnVo_",
        "outputId": "6c104d66-c53e-49c1-e373-91b931ff991c"
      },
      "source": [
        "sc.transform(np.array([[42,50000]]))"
      ],
      "execution_count": 28,
      "outputs": [
        {
          "output_type": "execute_result",
          "data": {
            "text/plain": [
              "array([[-0.15065689, -0.34524533]])"
            ]
          },
          "metadata": {
            "tags": []
          },
          "execution_count": 28
        }
      ]
    },
    {
      "cell_type": "code",
      "metadata": {
        "id": "r36eonXT24Di",
        "colab": {
          "base_uri": "https://localhost:8080/"
        },
        "outputId": "5532ea76-fff5-452b-8f46-1d11cc4cf6af"
      },
      "source": [
        "!ls"
      ],
      "execution_count": 29,
      "outputs": [
        {
          "output_type": "stream",
          "text": [
            "customer_behavior_model  sample_data\n"
          ],
          "name": "stdout"
        }
      ]
    },
    {
      "cell_type": "code",
      "metadata": {
        "id": "no_ki8mDXUcB",
        "colab": {
          "base_uri": "https://localhost:8080/"
        },
        "outputId": "0570a82e-c4a3-4eef-a15a-283aecc4cf85"
      },
      "source": [
        "!zip -r customermodel.zip customer_behavior_model  "
      ],
      "execution_count": 30,
      "outputs": [
        {
          "output_type": "stream",
          "text": [
            "  adding: customer_behavior_model/ (stored 0%)\n",
            "  adding: customer_behavior_model/1/ (stored 0%)\n",
            "  adding: customer_behavior_model/1/assets/ (stored 0%)\n",
            "  adding: customer_behavior_model/1/saved_model.pb (deflated 87%)\n",
            "  adding: customer_behavior_model/1/variables/ (stored 0%)\n",
            "  adding: customer_behavior_model/1/variables/variables.data-00000-of-00001 (deflated 54%)\n",
            "  adding: customer_behavior_model/1/variables/variables.index (deflated 64%)\n"
          ],
          "name": "stdout"
        }
      ]
    },
    {
      "cell_type": "code",
      "metadata": {
        "id": "df_N49lcXaGt",
        "colab": {
          "base_uri": "https://localhost:8080/"
        },
        "outputId": "4f375870-f33f-4db5-8644-0edada8941b8"
      },
      "source": [
        "!ls\n"
      ],
      "execution_count": 31,
      "outputs": [
        {
          "output_type": "stream",
          "text": [
            "customer_behavior_model  customermodel.zip  sample_data\n"
          ],
          "name": "stdout"
        }
      ]
    },
    {
      "cell_type": "code",
      "metadata": {
        "id": "abcMEBptXa_f"
      },
      "source": [
        "from google.colab import files\n"
      ],
      "execution_count": 32,
      "outputs": []
    },
    {
      "cell_type": "markdown",
      "metadata": {
        "id": "PTQUxGYjPQxE"
      },
      "source": [
        "## Save in tf.js format"
      ]
    },
    {
      "cell_type": "code",
      "metadata": {
        "id": "KxjYqRywXeFh"
      },
      "source": [
        "# !pip install tensorflowjs"
      ],
      "execution_count": 34,
      "outputs": []
    },
    {
      "cell_type": "code",
      "metadata": {
        "id": "W2brrCcpQVZU"
      },
      "source": [
        "import tensorflowjs as tfjs"
      ],
      "execution_count": 35,
      "outputs": []
    },
    {
      "cell_type": "code",
      "metadata": {
        "id": "Kuisj7cHQByS"
      },
      "source": [
        "tfjs.converters.save_keras_model(model, \"/content/\")"
      ],
      "execution_count": 36,
      "outputs": []
    },
    {
      "cell_type": "code",
      "metadata": {
        "colab": {
          "base_uri": "https://localhost:8080/"
        },
        "id": "llnhtCg9QQ3B",
        "outputId": "aa197226-a184-4f6f-bf38-e64badff05ae"
      },
      "source": [
        "!ls"
      ],
      "execution_count": 37,
      "outputs": [
        {
          "output_type": "stream",
          "text": [
            "customer_behavior_model  group1-shard1of1.bin  sample_data\n",
            "customermodel.zip\t model.json\n"
          ],
          "name": "stdout"
        }
      ]
    },
    {
      "cell_type": "code",
      "metadata": {
        "colab": {
          "base_uri": "https://localhost:8080/"
        },
        "id": "OGuVUJR-Qbk3",
        "outputId": "b832fffe-8e5f-40fd-94c3-266be449e25d"
      },
      "source": [
        "!cat model.json"
      ],
      "execution_count": 38,
      "outputs": [
        {
          "output_type": "stream",
          "text": [
            "{\"format\": \"layers-model\", \"generatedBy\": \"keras v2.4.0\", \"convertedBy\": \"TensorFlow.js Converter v3.6.0\", \"modelTopology\": {\"keras_version\": \"2.4.0\", \"backend\": \"tensorflow\", \"model_config\": {\"class_name\": \"Sequential\", \"config\": {\"name\": \"sequential\", \"layers\": [{\"class_name\": \"InputLayer\", \"config\": {\"batch_input_shape\": [null, 2], \"dtype\": \"float32\", \"sparse\": false, \"ragged\": false, \"name\": \"dense_input\"}}, {\"class_name\": \"Dense\", \"config\": {\"name\": \"dense\", \"trainable\": true, \"dtype\": \"float32\", \"units\": 10, \"activation\": \"relu\", \"use_bias\": true, \"kernel_initializer\": {\"class_name\": \"GlorotUniform\", \"config\": {\"seed\": null}}, \"bias_initializer\": {\"class_name\": \"Zeros\", \"config\": {}}, \"kernel_regularizer\": null, \"bias_regularizer\": null, \"activity_regularizer\": null, \"kernel_constraint\": null, \"bias_constraint\": null}}, {\"class_name\": \"Dense\", \"config\": {\"name\": \"dense_1\", \"trainable\": true, \"dtype\": \"float32\", \"units\": 10, \"activation\": \"relu\", \"use_bias\": true, \"kernel_initializer\": {\"class_name\": \"GlorotUniform\", \"config\": {\"seed\": null}}, \"bias_initializer\": {\"class_name\": \"Zeros\", \"config\": {}}, \"kernel_regularizer\": null, \"bias_regularizer\": null, \"activity_regularizer\": null, \"kernel_constraint\": null, \"bias_constraint\": null}}, {\"class_name\": \"Dense\", \"config\": {\"name\": \"dense_2\", \"trainable\": true, \"dtype\": \"float32\", \"units\": 2, \"activation\": \"softmax\", \"use_bias\": true, \"kernel_initializer\": {\"class_name\": \"GlorotUniform\", \"config\": {\"seed\": null}}, \"bias_initializer\": {\"class_name\": \"Zeros\", \"config\": {}}, \"kernel_regularizer\": null, \"bias_regularizer\": null, \"activity_regularizer\": null, \"kernel_constraint\": null, \"bias_constraint\": null}}]}}, \"training_config\": {\"loss\": \"sparse_categorical_crossentropy\", \"metrics\": [[{\"class_name\": \"MeanMetricWrapper\", \"config\": {\"name\": \"accuracy\", \"dtype\": \"float32\", \"fn\": \"sparse_categorical_accuracy\"}}]], \"weighted_metrics\": null, \"loss_weights\": null, \"optimizer_config\": {\"class_name\": \"Adam\", \"config\": {\"name\": \"Adam\", \"learning_rate\": 0.0010000000474974513, \"decay\": 0.0, \"beta_1\": 0.8999999761581421, \"beta_2\": 0.9990000128746033, \"epsilon\": 1e-07, \"amsgrad\": false}}}}, \"weightsManifest\": [{\"paths\": [\"group1-shard1of1.bin\"], \"weights\": [{\"name\": \"dense/kernel\", \"shape\": [2, 10], \"dtype\": \"float32\"}, {\"name\": \"dense/bias\", \"shape\": [10], \"dtype\": \"float32\"}, {\"name\": \"dense_1/kernel\", \"shape\": [10, 10], \"dtype\": \"float32\"}, {\"name\": \"dense_1/bias\", \"shape\": [10], \"dtype\": \"float32\"}, {\"name\": \"dense_2/kernel\", \"shape\": [10, 2], \"dtype\": \"float32\"}, {\"name\": \"dense_2/bias\", \"shape\": [2], \"dtype\": \"float32\"}]}]}"
          ],
          "name": "stdout"
        }
      ]
    },
    {
      "cell_type": "code",
      "metadata": {
        "id": "YpNVnh5bQkAG"
      },
      "source": [
        "from google.colab import files\n"
      ],
      "execution_count": 39,
      "outputs": []
    },
    {
      "cell_type": "code",
      "metadata": {
        "id": "rJxeGMBGRIBL"
      },
      "source": [
        "files.download('model.json')"
      ],
      "execution_count": null,
      "outputs": []
    },
    {
      "cell_type": "code",
      "metadata": {
        "id": "Ggu_qds2ROWt",
        "colab": {
          "base_uri": "https://localhost:8080/"
        },
        "outputId": "bde55c03-c3ff-482d-8e61-056c96bcd86c"
      },
      "source": [
        "!ls"
      ],
      "execution_count": 42,
      "outputs": [
        {
          "output_type": "stream",
          "text": [
            "customer_behavior_model  group1-shard1of1.bin  sample_data\n",
            "customermodel.zip\t model.json\n"
          ],
          "name": "stdout"
        }
      ]
    },
    {
      "cell_type": "code",
      "metadata": {
        "id": "ngqSnwrVmm_w"
      },
      "source": [
        "files.download('group1-shard1of1.bin')"
      ],
      "execution_count": null,
      "outputs": []
    },
    {
      "cell_type": "code",
      "metadata": {
        "id": "7Ac33aKomrVX"
      },
      "source": [
        ""
      ],
      "execution_count": null,
      "outputs": []
    }
  ]
}