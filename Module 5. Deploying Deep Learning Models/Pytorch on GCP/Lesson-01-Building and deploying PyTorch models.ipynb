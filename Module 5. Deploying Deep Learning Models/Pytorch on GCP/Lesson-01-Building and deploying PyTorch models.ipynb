{
  "nbformat": 4,
  "nbformat_minor": 0,
  "metadata": {
    "colab": {
      "name": "pytorch_create_save.ipynb",
      "provenance": [],
      "collapsed_sections": []
    },
    "kernelspec": {
      "name": "python3",
      "display_name": "Python 3"
    },
    "language_info": {
      "name": "python"
    }
  },
  "cells": [
    {
      "cell_type": "markdown",
      "metadata": {
        "id": "UDX7i16BXqBx"
      },
      "source": [
        "## Import"
      ]
    },
    {
      "cell_type": "code",
      "metadata": {
        "id": "YB-9PuXXNdob"
      },
      "source": [
        "import torch\n",
        "import torch.nn as nn\n",
        "from torch.nn import functional as F\n",
        "\n",
        "import pandas as pd\n",
        "import numpy as np"
      ],
      "execution_count": 1,
      "outputs": []
    },
    {
      "cell_type": "markdown",
      "metadata": {
        "id": "LXB1EbmHXtFS"
      },
      "source": [
        "## Read Data"
      ]
    },
    {
      "cell_type": "code",
      "metadata": {
        "id": "LdDE9csIOLdi"
      },
      "source": [
        "dataset = pd.read_csv('https://raw.githubusercontent.com/futurexskill/ml-model-deployment/main/storepurchasedata_large.csv')"
      ],
      "execution_count": 2,
      "outputs": []
    },
    {
      "cell_type": "code",
      "metadata": {
        "colab": {
          "base_uri": "https://localhost:8080/",
          "height": 195
        },
        "id": "MhW1P83sN1p0",
        "outputId": "9709592b-5ee7-4908-e1b9-e6c21b0bc84a"
      },
      "source": [
        "dataset.head()"
      ],
      "execution_count": 3,
      "outputs": [
        {
          "output_type": "execute_result",
          "data": {
            "text/html": [
              "<div>\n",
              "<style scoped>\n",
              "    .dataframe tbody tr th:only-of-type {\n",
              "        vertical-align: middle;\n",
              "    }\n",
              "\n",
              "    .dataframe tbody tr th {\n",
              "        vertical-align: top;\n",
              "    }\n",
              "\n",
              "    .dataframe thead th {\n",
              "        text-align: right;\n",
              "    }\n",
              "</style>\n",
              "<table border=\"1\" class=\"dataframe\">\n",
              "  <thead>\n",
              "    <tr style=\"text-align: right;\">\n",
              "      <th></th>\n",
              "      <th>Age</th>\n",
              "      <th>Salary</th>\n",
              "      <th>Purchased</th>\n",
              "    </tr>\n",
              "  </thead>\n",
              "  <tbody>\n",
              "    <tr>\n",
              "      <th>0</th>\n",
              "      <td>18</td>\n",
              "      <td>20000</td>\n",
              "      <td>0</td>\n",
              "    </tr>\n",
              "    <tr>\n",
              "      <th>1</th>\n",
              "      <td>19</td>\n",
              "      <td>22000</td>\n",
              "      <td>0</td>\n",
              "    </tr>\n",
              "    <tr>\n",
              "      <th>2</th>\n",
              "      <td>20</td>\n",
              "      <td>24000</td>\n",
              "      <td>0</td>\n",
              "    </tr>\n",
              "    <tr>\n",
              "      <th>3</th>\n",
              "      <td>21</td>\n",
              "      <td>28000</td>\n",
              "      <td>0</td>\n",
              "    </tr>\n",
              "    <tr>\n",
              "      <th>4</th>\n",
              "      <td>22</td>\n",
              "      <td>60000</td>\n",
              "      <td>1</td>\n",
              "    </tr>\n",
              "  </tbody>\n",
              "</table>\n",
              "</div>"
            ],
            "text/plain": [
              "   Age  Salary  Purchased\n",
              "0   18   20000          0\n",
              "1   19   22000          0\n",
              "2   20   24000          0\n",
              "3   21   28000          0\n",
              "4   22   60000          1"
            ]
          },
          "metadata": {
            "tags": []
          },
          "execution_count": 3
        }
      ]
    },
    {
      "cell_type": "code",
      "metadata": {
        "colab": {
          "base_uri": "https://localhost:8080/",
          "height": 284
        },
        "id": "qrchC6f8OjGS",
        "outputId": "a4e0a587-ecbb-45b6-aec7-5f99c88b0f49"
      },
      "source": [
        "dataset.describe()"
      ],
      "execution_count": 4,
      "outputs": [
        {
          "output_type": "execute_result",
          "data": {
            "text/html": [
              "<div>\n",
              "<style scoped>\n",
              "    .dataframe tbody tr th:only-of-type {\n",
              "        vertical-align: middle;\n",
              "    }\n",
              "\n",
              "    .dataframe tbody tr th {\n",
              "        vertical-align: top;\n",
              "    }\n",
              "\n",
              "    .dataframe thead th {\n",
              "        text-align: right;\n",
              "    }\n",
              "</style>\n",
              "<table border=\"1\" class=\"dataframe\">\n",
              "  <thead>\n",
              "    <tr style=\"text-align: right;\">\n",
              "      <th></th>\n",
              "      <th>Age</th>\n",
              "      <th>Salary</th>\n",
              "      <th>Purchased</th>\n",
              "    </tr>\n",
              "  </thead>\n",
              "  <tbody>\n",
              "    <tr>\n",
              "      <th>count</th>\n",
              "      <td>1554.000000</td>\n",
              "      <td>1554.000000</td>\n",
              "      <td>1554.000000</td>\n",
              "    </tr>\n",
              "    <tr>\n",
              "      <th>mean</th>\n",
              "      <td>44.296010</td>\n",
              "      <td>57042.471042</td>\n",
              "      <td>0.694981</td>\n",
              "    </tr>\n",
              "    <tr>\n",
              "      <th>std</th>\n",
              "      <td>17.462458</td>\n",
              "      <td>21209.244800</td>\n",
              "      <td>0.460564</td>\n",
              "    </tr>\n",
              "    <tr>\n",
              "      <th>min</th>\n",
              "      <td>18.000000</td>\n",
              "      <td>20000.000000</td>\n",
              "      <td>0.000000</td>\n",
              "    </tr>\n",
              "    <tr>\n",
              "      <th>25%</th>\n",
              "      <td>27.000000</td>\n",
              "      <td>46000.000000</td>\n",
              "      <td>0.000000</td>\n",
              "    </tr>\n",
              "    <tr>\n",
              "      <th>50%</th>\n",
              "      <td>43.000000</td>\n",
              "      <td>60000.000000</td>\n",
              "      <td>1.000000</td>\n",
              "    </tr>\n",
              "    <tr>\n",
              "      <th>75%</th>\n",
              "      <td>62.000000</td>\n",
              "      <td>66000.000000</td>\n",
              "      <td>1.000000</td>\n",
              "    </tr>\n",
              "    <tr>\n",
              "      <th>max</th>\n",
              "      <td>69.000000</td>\n",
              "      <td>96000.000000</td>\n",
              "      <td>1.000000</td>\n",
              "    </tr>\n",
              "  </tbody>\n",
              "</table>\n",
              "</div>"
            ],
            "text/plain": [
              "               Age        Salary    Purchased\n",
              "count  1554.000000   1554.000000  1554.000000\n",
              "mean     44.296010  57042.471042     0.694981\n",
              "std      17.462458  21209.244800     0.460564\n",
              "min      18.000000  20000.000000     0.000000\n",
              "25%      27.000000  46000.000000     0.000000\n",
              "50%      43.000000  60000.000000     1.000000\n",
              "75%      62.000000  66000.000000     1.000000\n",
              "max      69.000000  96000.000000     1.000000"
            ]
          },
          "metadata": {
            "tags": []
          },
          "execution_count": 4
        }
      ]
    },
    {
      "cell_type": "markdown",
      "metadata": {
        "id": "7zdfypMFXvis"
      },
      "source": [
        "## Modelling"
      ]
    },
    {
      "cell_type": "code",
      "metadata": {
        "id": "vIkEtuo4Om52"
      },
      "source": [
        "X = dataset.iloc[:, :-1].values\n",
        "y = dataset.iloc[:,-1].values"
      ],
      "execution_count": 5,
      "outputs": []
    },
    {
      "cell_type": "code",
      "metadata": {
        "id": "aXIpbGixOzlJ"
      },
      "source": [
        "from sklearn.model_selection import train_test_split\n",
        "X_train, X_test, y_train, y_test = train_test_split(X, y, test_size=.20, random_state=0)"
      ],
      "execution_count": 6,
      "outputs": []
    },
    {
      "cell_type": "code",
      "metadata": {
        "id": "NTd4nhmEPEZ5"
      },
      "source": [
        "from sklearn.preprocessing import StandardScaler\n",
        "sc = StandardScaler()\n",
        "X_train = sc.fit_transform(X_train)\n",
        "X_test = sc.transform(X_test)"
      ],
      "execution_count": 7,
      "outputs": []
    },
    {
      "cell_type": "markdown",
      "metadata": {
        "id": "z8H7UKS-XxdO"
      },
      "source": [
        "Save scaler for future work"
      ]
    },
    {
      "cell_type": "code",
      "metadata": {
        "id": "wXlYJ5u1mgoT"
      },
      "source": [
        "import pickle\n",
        "pickle.dump(sc, open('sc.pickle', 'wb'))"
      ],
      "execution_count": 8,
      "outputs": []
    },
    {
      "cell_type": "code",
      "metadata": {
        "id": "LiDwhV8jPVpO"
      },
      "source": [
        "Xtrain = torch.from_numpy(X_train).float()\n",
        "Xtest = torch.from_numpy(X_test).float()"
      ],
      "execution_count": 9,
      "outputs": []
    },
    {
      "cell_type": "code",
      "metadata": {
        "id": "II0ZRInLdpvw"
      },
      "source": [
        "ytrain = torch.from_numpy(y_train)\n",
        "ytest = torch.from_numpy(y_test)"
      ],
      "execution_count": 10,
      "outputs": []
    },
    {
      "cell_type": "code",
      "metadata": {
        "colab": {
          "base_uri": "https://localhost:8080/"
        },
        "id": "nbQDVn0hPuVk",
        "outputId": "da7bb23b-09d8-4a18-924f-933e0f3d19b3"
      },
      "source": [
        "Xtrain.shape, ytrain.shape"
      ],
      "execution_count": 11,
      "outputs": [
        {
          "output_type": "execute_result",
          "data": {
            "text/plain": [
              "(torch.Size([1243, 2]), torch.Size([1243]))"
            ]
          },
          "metadata": {
            "tags": []
          },
          "execution_count": 11
        }
      ]
    },
    {
      "cell_type": "code",
      "metadata": {
        "colab": {
          "base_uri": "https://localhost:8080/"
        },
        "id": "c3m7h38jdt-7",
        "outputId": "88a131f5-d0ae-4012-99ea-bf0835a68389"
      },
      "source": [
        "Xtest.shape, ytest.shape"
      ],
      "execution_count": 12,
      "outputs": [
        {
          "output_type": "execute_result",
          "data": {
            "text/plain": [
              "(torch.Size([311, 2]), torch.Size([311]))"
            ]
          },
          "metadata": {
            "tags": []
          },
          "execution_count": 12
        }
      ]
    },
    {
      "cell_type": "code",
      "metadata": {
        "id": "sqsZA0mcdyJe"
      },
      "source": [
        "input_size=2\n",
        "output_size=2\n",
        "hidden_size=10"
      ],
      "execution_count": 13,
      "outputs": []
    },
    {
      "cell_type": "code",
      "metadata": {
        "id": "iTlfLRwld6UR"
      },
      "source": [
        "class Net(nn.Module):\n",
        "  def __init__(self):\n",
        "    super(Net, self).__init__()\n",
        "    self.fc1 = torch.nn.Linear(input_size, hidden_size)\n",
        "    self.fc2 = torch.nn.Linear(hidden_size, hidden_size)\n",
        "    self.fc3 = torch.nn.Linear(hidden_size, output_size)\n",
        "\n",
        "  def forward(self, X):\n",
        "    X = torch.relu((self.fc1(X)))\n",
        "    X = torch.relu((self.fc2(X)))\n",
        "    X = self.fc3(X)\n",
        "\n",
        "    return F.log_softmax(X, dim=1)"
      ],
      "execution_count": 14,
      "outputs": []
    },
    {
      "cell_type": "code",
      "metadata": {
        "id": "qkf4jx2bd-03"
      },
      "source": [
        "model = Net()"
      ],
      "execution_count": 15,
      "outputs": []
    },
    {
      "cell_type": "code",
      "metadata": {
        "id": "JFBb5nZgd-2Q"
      },
      "source": [
        "import torch.optim as optim\n",
        "optimizer = optim.Adam(model.parameters(), lr=0.01)\n",
        "loss_fn = nn.NLLLoss()"
      ],
      "execution_count": 16,
      "outputs": []
    },
    {
      "cell_type": "code",
      "metadata": {
        "id": "ONuSJAWuiFtP"
      },
      "source": [
        "epochs = 100"
      ],
      "execution_count": 17,
      "outputs": []
    },
    {
      "cell_type": "code",
      "metadata": {
        "colab": {
          "base_uri": "https://localhost:8080/"
        },
        "id": "hjhX8_TyiTRy",
        "outputId": "490f8739-e4d1-4ba5-ca12-6b4d221595db"
      },
      "source": [
        "for epoch in range(epochs):\n",
        "  optimizer.zero_grad()\n",
        "  Y_pred = model(Xtrain)\n",
        "  loss = loss_fn(Y_pred, ytrain)\n",
        "  loss.backward()\n",
        "  optimizer.step()\n",
        "  print('Epoch', epoch, 'loss', loss.item())"
      ],
      "execution_count": 18,
      "outputs": [
        {
          "output_type": "stream",
          "text": [
            "Epoch 0 loss 0.6258062720298767\n",
            "Epoch 1 loss 0.5864478349685669\n",
            "Epoch 2 loss 0.5502930879592896\n",
            "Epoch 3 loss 0.5202417969703674\n",
            "Epoch 4 loss 0.4928760230541229\n",
            "Epoch 5 loss 0.4663565754890442\n",
            "Epoch 6 loss 0.4400068521499634\n",
            "Epoch 7 loss 0.4135989248752594\n",
            "Epoch 8 loss 0.3869844675064087\n",
            "Epoch 9 loss 0.3605712354183197\n",
            "Epoch 10 loss 0.33454740047454834\n",
            "Epoch 11 loss 0.3093789219856262\n",
            "Epoch 12 loss 0.2856661379337311\n",
            "Epoch 13 loss 0.2640449106693268\n",
            "Epoch 14 loss 0.24472397565841675\n",
            "Epoch 15 loss 0.22778232395648956\n",
            "Epoch 16 loss 0.21317827701568604\n",
            "Epoch 17 loss 0.20080089569091797\n",
            "Epoch 18 loss 0.19026145339012146\n",
            "Epoch 19 loss 0.18116918206214905\n",
            "Epoch 20 loss 0.17334693670272827\n",
            "Epoch 21 loss 0.16658364236354828\n",
            "Epoch 22 loss 0.16074134409427643\n",
            "Epoch 23 loss 0.15588413178920746\n",
            "Epoch 24 loss 0.1518249809741974\n",
            "Epoch 25 loss 0.14849860966205597\n",
            "Epoch 26 loss 0.14577896893024445\n",
            "Epoch 27 loss 0.1434808075428009\n",
            "Epoch 28 loss 0.1413809359073639\n",
            "Epoch 29 loss 0.1394231915473938\n",
            "Epoch 30 loss 0.137625589966774\n",
            "Epoch 31 loss 0.13603687286376953\n",
            "Epoch 32 loss 0.1348966509103775\n",
            "Epoch 33 loss 0.13401177525520325\n",
            "Epoch 34 loss 0.13329608738422394\n",
            "Epoch 35 loss 0.13247287273406982\n",
            "Epoch 36 loss 0.1314850151538849\n",
            "Epoch 37 loss 0.13037832081317902\n",
            "Epoch 38 loss 0.12932734191417694\n",
            "Epoch 39 loss 0.1286333054304123\n",
            "Epoch 40 loss 0.12802483141422272\n",
            "Epoch 41 loss 0.12738807499408722\n",
            "Epoch 42 loss 0.12666457891464233\n",
            "Epoch 43 loss 0.1258782148361206\n",
            "Epoch 44 loss 0.12513133883476257\n",
            "Epoch 45 loss 0.1243988573551178\n",
            "Epoch 46 loss 0.12370616942644119\n",
            "Epoch 47 loss 0.12305089086294174\n",
            "Epoch 48 loss 0.12240693718194962\n",
            "Epoch 49 loss 0.12175535410642624\n",
            "Epoch 50 loss 0.12108504772186279\n",
            "Epoch 51 loss 0.12043025344610214\n",
            "Epoch 52 loss 0.11980529874563217\n",
            "Epoch 53 loss 0.11924517899751663\n",
            "Epoch 54 loss 0.11874888092279434\n",
            "Epoch 55 loss 0.11827997118234634\n",
            "Epoch 56 loss 0.11779113858938217\n",
            "Epoch 57 loss 0.11735446006059647\n",
            "Epoch 58 loss 0.11696074157953262\n",
            "Epoch 59 loss 0.11657483130693436\n",
            "Epoch 60 loss 0.11625635623931885\n",
            "Epoch 61 loss 0.11597912013530731\n",
            "Epoch 62 loss 0.11568840593099594\n",
            "Epoch 63 loss 0.11538383364677429\n",
            "Epoch 64 loss 0.1151411384344101\n",
            "Epoch 65 loss 0.11490871012210846\n",
            "Epoch 66 loss 0.1146981418132782\n",
            "Epoch 67 loss 0.1144813820719719\n",
            "Epoch 68 loss 0.11425472050905228\n",
            "Epoch 69 loss 0.1141151711344719\n",
            "Epoch 70 loss 0.11394459754228592\n",
            "Epoch 71 loss 0.11374332010746002\n",
            "Epoch 72 loss 0.11354301869869232\n",
            "Epoch 73 loss 0.11335302889347076\n",
            "Epoch 74 loss 0.1131945252418518\n",
            "Epoch 75 loss 0.11307401955127716\n",
            "Epoch 76 loss 0.11292150616645813\n",
            "Epoch 77 loss 0.11277224868535995\n",
            "Epoch 78 loss 0.11270499974489212\n",
            "Epoch 79 loss 0.11264356970787048\n",
            "Epoch 80 loss 0.11256947368383408\n",
            "Epoch 81 loss 0.11247873306274414\n",
            "Epoch 82 loss 0.11237438768148422\n",
            "Epoch 83 loss 0.11227069795131683\n",
            "Epoch 84 loss 0.11222343146800995\n",
            "Epoch 85 loss 0.1121407076716423\n",
            "Epoch 86 loss 0.11207590252161026\n",
            "Epoch 87 loss 0.11202028393745422\n",
            "Epoch 88 loss 0.11195234954357147\n",
            "Epoch 89 loss 0.11187514662742615\n",
            "Epoch 90 loss 0.11182743310928345\n",
            "Epoch 91 loss 0.11177389323711395\n",
            "Epoch 92 loss 0.11169572174549103\n",
            "Epoch 93 loss 0.11163735389709473\n",
            "Epoch 94 loss 0.11158822476863861\n",
            "Epoch 95 loss 0.11152882128953934\n",
            "Epoch 96 loss 0.11146492511034012\n",
            "Epoch 97 loss 0.11140094697475433\n",
            "Epoch 98 loss 0.11134910583496094\n",
            "Epoch 99 loss 0.11129334568977356\n"
          ],
          "name": "stdout"
        }
      ]
    },
    {
      "cell_type": "code",
      "metadata": {
        "colab": {
          "base_uri": "https://localhost:8080/"
        },
        "id": "_C4rAWkFismg",
        "outputId": "a2a3c695-e073-4295-b65b-a7297433cff8"
      },
      "source": [
        "list(model.parameters())"
      ],
      "execution_count": 19,
      "outputs": [
        {
          "output_type": "execute_result",
          "data": {
            "text/plain": [
              "[Parameter containing:\n",
              " tensor([[-0.6965, -0.5971],\n",
              "         [ 0.4648,  0.4236],\n",
              "         [-0.5152, -0.4653],\n",
              "         [-0.3549,  1.0781],\n",
              "         [ 0.7935, -0.2453],\n",
              "         [-0.6750, -0.4961],\n",
              "         [-0.4204,  0.7933],\n",
              "         [-0.0262, -0.2128],\n",
              "         [ 1.1619,  0.4457],\n",
              "         [-0.2803, -0.8764]], requires_grad=True), Parameter containing:\n",
              " tensor([ 0.1352,  0.5762,  0.1342,  0.5722, -0.0127,  0.6255,  0.3634,  0.6535,\n",
              "          0.5605,  0.1210], requires_grad=True), Parameter containing:\n",
              " tensor([[ 0.5279,  0.1811,  0.4672, -0.0531, -0.6590,  0.2994, -0.3117,  0.1240,\n",
              "          -0.1266,  0.2877],\n",
              "         [-0.3570,  0.4101, -0.2478,  0.5456,  0.2854, -0.2392,  0.3276,  0.3720,\n",
              "           0.5992,  0.1509],\n",
              "         [-0.0258,  0.5162, -0.2151,  0.2517,  0.7093, -0.0744,  0.4304, -0.0263,\n",
              "           0.6077, -0.2077],\n",
              "         [ 0.5136, -0.0617,  0.5159, -0.3166, -0.1846,  0.0510, -0.4339,  0.2066,\n",
              "          -0.0948,  0.3731],\n",
              "         [ 0.3455, -0.1829,  0.1766, -0.2761, -1.0155,  0.4813, -0.4922,  0.6012,\n",
              "          -0.2875,  0.1766],\n",
              "         [ 0.3840,  0.1167,  0.1410, -0.1159, -0.1148,  0.4084, -0.2356,  0.3730,\n",
              "          -0.3192, -0.2065],\n",
              "         [ 0.5158,  0.1361, -0.0059, -0.0660, -0.0146,  0.5212, -0.4551,  0.1599,\n",
              "          -0.4768,  0.3231],\n",
              "         [-0.0607,  0.5449, -0.2124,  0.2409,  0.7691,  0.0511,  0.6897,  0.3147,\n",
              "           0.4527,  0.1224],\n",
              "         [-0.0543, -0.0105, -0.0201,  0.0655, -0.0023, -0.0890,  0.3635,  0.3692,\n",
              "           0.4376, -0.4942],\n",
              "         [-0.3249,  0.2796, -0.2463,  0.4015,  0.6475,  0.2656,  0.1362,  0.3009,\n",
              "           0.2158,  0.4879]], requires_grad=True), Parameter containing:\n",
              " tensor([-0.0726,  0.4321,  0.3778,  0.3584,  0.0447, -0.0107,  0.1058,  0.2023,\n",
              "          0.2714,  0.2810], requires_grad=True), Parameter containing:\n",
              " tensor([[ 0.2994, -0.5389, -0.2005,  0.4199,  0.6065,  0.1400,  0.4885, -0.3010,\n",
              "          -0.2784, -0.6564],\n",
              "         [-0.1140,  0.1648,  0.5108, -0.2740, -0.1633, -0.3030, -0.3319,  0.3745,\n",
              "           0.3754,  0.2419]], requires_grad=True), Parameter containing:\n",
              " tensor([-0.2842,  0.2712], requires_grad=True)]"
            ]
          },
          "metadata": {
            "tags": []
          },
          "execution_count": 19
        }
      ]
    },
    {
      "cell_type": "markdown",
      "metadata": {
        "id": "yxGhgbFJX6vm"
      },
      "source": [
        "Check model "
      ]
    },
    {
      "cell_type": "code",
      "metadata": {
        "id": "Ddr_kCFvjIWp"
      },
      "source": [
        "new_data = torch.from_numpy(sc.transform(np.array([[42, 50000]]))).float()"
      ],
      "execution_count": 20,
      "outputs": []
    },
    {
      "cell_type": "code",
      "metadata": {
        "colab": {
          "base_uri": "https://localhost:8080/"
        },
        "id": "IOFTC0JgjX0V",
        "outputId": "cf7a16b8-67ea-4707-9d6b-f9b1eb3b63b5"
      },
      "source": [
        "y_cust = model(new_data)\n",
        "y_cust"
      ],
      "execution_count": 21,
      "outputs": [
        {
          "output_type": "execute_result",
          "data": {
            "text/plain": [
              "tensor([[-0.9621, -0.4814]], grad_fn=<LogSoftmaxBackward>)"
            ]
          },
          "metadata": {
            "tags": []
          },
          "execution_count": 21
        }
      ]
    },
    {
      "cell_type": "code",
      "metadata": {
        "colab": {
          "base_uri": "https://localhost:8080/"
        },
        "id": "qSSRnppPj7ZZ",
        "outputId": "7037057c-ac39-46c4-f493-005056d97e10"
      },
      "source": [
        "_, predicted = torch.max(y_cust, -1)\n",
        "predicted"
      ],
      "execution_count": 22,
      "outputs": [
        {
          "output_type": "execute_result",
          "data": {
            "text/plain": [
              "tensor([1])"
            ]
          },
          "metadata": {
            "tags": []
          },
          "execution_count": 22
        }
      ]
    },
    {
      "cell_type": "markdown",
      "metadata": {
        "id": "IqCPi-ELX9Xy"
      },
      "source": [
        "Save model for future work"
      ]
    },
    {
      "cell_type": "code",
      "metadata": {
        "id": "L6enfJaskK7Y"
      },
      "source": [
        "torch.save(model, 'customer_buy.pt')"
      ],
      "execution_count": 23,
      "outputs": []
    },
    {
      "cell_type": "code",
      "metadata": {
        "id": "XoCVCQR9kb1T"
      },
      "source": [
        "torch.save(model.state_dict(), 'customer_buy_state_dict')"
      ],
      "execution_count": 25,
      "outputs": []
    },
    {
      "cell_type": "code",
      "metadata": {
        "id": "AyIU-xnhk0F_"
      },
      "source": [
        "# !zip -r customer_buy_state_dict.zip customer_buy_state_dict"
      ],
      "execution_count": 26,
      "outputs": []
    },
    {
      "cell_type": "code",
      "metadata": {
        "id": "rD8aNxM0lAAN"
      },
      "source": [
        "# new_predictor = Net()"
      ],
      "execution_count": 27,
      "outputs": []
    },
    {
      "cell_type": "code",
      "metadata": {
        "id": "4oN9I3nblEtF"
      },
      "source": [
        "# from google.colab import files\n"
      ],
      "execution_count": 28,
      "outputs": []
    },
    {
      "cell_type": "code",
      "metadata": {
        "id": "TRiFJWIPlY4U"
      },
      "source": [
        "# files.download('customer_buy_state_dict.zip')"
      ],
      "execution_count": 29,
      "outputs": []
    },
    {
      "cell_type": "code",
      "metadata": {
        "id": "-H5uvyhhlh2N"
      },
      "source": [
        ""
      ],
      "execution_count": null,
      "outputs": []
    }
  ]
}