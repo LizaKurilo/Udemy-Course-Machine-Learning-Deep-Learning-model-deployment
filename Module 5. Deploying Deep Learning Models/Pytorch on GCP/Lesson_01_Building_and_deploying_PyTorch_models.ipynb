{
  "nbformat": 4,
  "nbformat_minor": 0,
  "metadata": {
    "colab": {
      "name": "Lesson-01-Building and deploying PyTorch models.ipynb",
      "provenance": [],
      "collapsed_sections": [],
      "toc_visible": true
    },
    "kernelspec": {
      "name": "python3",
      "display_name": "Python 3"
    },
    "language_info": {
      "name": "python"
    }
  },
  "cells": [
    {
      "cell_type": "markdown",
      "metadata": {
        "id": "UDX7i16BXqBx"
      },
      "source": [
        "## Import"
      ]
    },
    {
      "cell_type": "code",
      "metadata": {
        "id": "YB-9PuXXNdob"
      },
      "source": [
        "import torch\n",
        "import torch.nn as nn\n",
        "from torch.nn import functional as F\n",
        "\n",
        "import pandas as pd\n",
        "import numpy as np"
      ],
      "execution_count": 1,
      "outputs": []
    },
    {
      "cell_type": "markdown",
      "metadata": {
        "id": "LXB1EbmHXtFS"
      },
      "source": [
        "## Read Data"
      ]
    },
    {
      "cell_type": "code",
      "metadata": {
        "id": "LdDE9csIOLdi"
      },
      "source": [
        "dataset = pd.read_csv('https://raw.githubusercontent.com/futurexskill/ml-model-deployment/main/storepurchasedata_large.csv')"
      ],
      "execution_count": 2,
      "outputs": []
    },
    {
      "cell_type": "code",
      "metadata": {
        "colab": {
          "base_uri": "https://localhost:8080/",
          "height": 204
        },
        "id": "MhW1P83sN1p0",
        "outputId": "eb5db9b2-a10d-4a9d-c621-8d684c5d109c"
      },
      "source": [
        "dataset.head()"
      ],
      "execution_count": 3,
      "outputs": [
        {
          "output_type": "execute_result",
          "data": {
            "text/html": [
              "<div>\n",
              "<style scoped>\n",
              "    .dataframe tbody tr th:only-of-type {\n",
              "        vertical-align: middle;\n",
              "    }\n",
              "\n",
              "    .dataframe tbody tr th {\n",
              "        vertical-align: top;\n",
              "    }\n",
              "\n",
              "    .dataframe thead th {\n",
              "        text-align: right;\n",
              "    }\n",
              "</style>\n",
              "<table border=\"1\" class=\"dataframe\">\n",
              "  <thead>\n",
              "    <tr style=\"text-align: right;\">\n",
              "      <th></th>\n",
              "      <th>Age</th>\n",
              "      <th>Salary</th>\n",
              "      <th>Purchased</th>\n",
              "    </tr>\n",
              "  </thead>\n",
              "  <tbody>\n",
              "    <tr>\n",
              "      <th>0</th>\n",
              "      <td>18</td>\n",
              "      <td>20000</td>\n",
              "      <td>0</td>\n",
              "    </tr>\n",
              "    <tr>\n",
              "      <th>1</th>\n",
              "      <td>19</td>\n",
              "      <td>22000</td>\n",
              "      <td>0</td>\n",
              "    </tr>\n",
              "    <tr>\n",
              "      <th>2</th>\n",
              "      <td>20</td>\n",
              "      <td>24000</td>\n",
              "      <td>0</td>\n",
              "    </tr>\n",
              "    <tr>\n",
              "      <th>3</th>\n",
              "      <td>21</td>\n",
              "      <td>28000</td>\n",
              "      <td>0</td>\n",
              "    </tr>\n",
              "    <tr>\n",
              "      <th>4</th>\n",
              "      <td>22</td>\n",
              "      <td>60000</td>\n",
              "      <td>1</td>\n",
              "    </tr>\n",
              "  </tbody>\n",
              "</table>\n",
              "</div>"
            ],
            "text/plain": [
              "   Age  Salary  Purchased\n",
              "0   18   20000          0\n",
              "1   19   22000          0\n",
              "2   20   24000          0\n",
              "3   21   28000          0\n",
              "4   22   60000          1"
            ]
          },
          "metadata": {
            "tags": []
          },
          "execution_count": 3
        }
      ]
    },
    {
      "cell_type": "code",
      "metadata": {
        "colab": {
          "base_uri": "https://localhost:8080/",
          "height": 297
        },
        "id": "qrchC6f8OjGS",
        "outputId": "fc43f88e-b0c3-4501-ea64-3571443c2012"
      },
      "source": [
        "dataset.describe()"
      ],
      "execution_count": 4,
      "outputs": [
        {
          "output_type": "execute_result",
          "data": {
            "text/html": [
              "<div>\n",
              "<style scoped>\n",
              "    .dataframe tbody tr th:only-of-type {\n",
              "        vertical-align: middle;\n",
              "    }\n",
              "\n",
              "    .dataframe tbody tr th {\n",
              "        vertical-align: top;\n",
              "    }\n",
              "\n",
              "    .dataframe thead th {\n",
              "        text-align: right;\n",
              "    }\n",
              "</style>\n",
              "<table border=\"1\" class=\"dataframe\">\n",
              "  <thead>\n",
              "    <tr style=\"text-align: right;\">\n",
              "      <th></th>\n",
              "      <th>Age</th>\n",
              "      <th>Salary</th>\n",
              "      <th>Purchased</th>\n",
              "    </tr>\n",
              "  </thead>\n",
              "  <tbody>\n",
              "    <tr>\n",
              "      <th>count</th>\n",
              "      <td>1554.000000</td>\n",
              "      <td>1554.000000</td>\n",
              "      <td>1554.000000</td>\n",
              "    </tr>\n",
              "    <tr>\n",
              "      <th>mean</th>\n",
              "      <td>44.296010</td>\n",
              "      <td>57042.471042</td>\n",
              "      <td>0.694981</td>\n",
              "    </tr>\n",
              "    <tr>\n",
              "      <th>std</th>\n",
              "      <td>17.462458</td>\n",
              "      <td>21209.244800</td>\n",
              "      <td>0.460564</td>\n",
              "    </tr>\n",
              "    <tr>\n",
              "      <th>min</th>\n",
              "      <td>18.000000</td>\n",
              "      <td>20000.000000</td>\n",
              "      <td>0.000000</td>\n",
              "    </tr>\n",
              "    <tr>\n",
              "      <th>25%</th>\n",
              "      <td>27.000000</td>\n",
              "      <td>46000.000000</td>\n",
              "      <td>0.000000</td>\n",
              "    </tr>\n",
              "    <tr>\n",
              "      <th>50%</th>\n",
              "      <td>43.000000</td>\n",
              "      <td>60000.000000</td>\n",
              "      <td>1.000000</td>\n",
              "    </tr>\n",
              "    <tr>\n",
              "      <th>75%</th>\n",
              "      <td>62.000000</td>\n",
              "      <td>66000.000000</td>\n",
              "      <td>1.000000</td>\n",
              "    </tr>\n",
              "    <tr>\n",
              "      <th>max</th>\n",
              "      <td>69.000000</td>\n",
              "      <td>96000.000000</td>\n",
              "      <td>1.000000</td>\n",
              "    </tr>\n",
              "  </tbody>\n",
              "</table>\n",
              "</div>"
            ],
            "text/plain": [
              "               Age        Salary    Purchased\n",
              "count  1554.000000   1554.000000  1554.000000\n",
              "mean     44.296010  57042.471042     0.694981\n",
              "std      17.462458  21209.244800     0.460564\n",
              "min      18.000000  20000.000000     0.000000\n",
              "25%      27.000000  46000.000000     0.000000\n",
              "50%      43.000000  60000.000000     1.000000\n",
              "75%      62.000000  66000.000000     1.000000\n",
              "max      69.000000  96000.000000     1.000000"
            ]
          },
          "metadata": {
            "tags": []
          },
          "execution_count": 4
        }
      ]
    },
    {
      "cell_type": "markdown",
      "metadata": {
        "id": "7zdfypMFXvis"
      },
      "source": [
        "## Modelling"
      ]
    },
    {
      "cell_type": "code",
      "metadata": {
        "id": "vIkEtuo4Om52"
      },
      "source": [
        "X = dataset.iloc[:, :-1].values\n",
        "y = dataset.iloc[:,-1].values"
      ],
      "execution_count": 5,
      "outputs": []
    },
    {
      "cell_type": "code",
      "metadata": {
        "id": "aXIpbGixOzlJ"
      },
      "source": [
        "from sklearn.model_selection import train_test_split\n",
        "X_train, X_test, y_train, y_test = train_test_split(X, y, test_size=.20, random_state=0)"
      ],
      "execution_count": 6,
      "outputs": []
    },
    {
      "cell_type": "code",
      "metadata": {
        "id": "NTd4nhmEPEZ5"
      },
      "source": [
        "from sklearn.preprocessing import StandardScaler\n",
        "sc = StandardScaler()\n",
        "X_train = sc.fit_transform(X_train)\n",
        "X_test = sc.transform(X_test)"
      ],
      "execution_count": 7,
      "outputs": []
    },
    {
      "cell_type": "markdown",
      "metadata": {
        "id": "z8H7UKS-XxdO"
      },
      "source": [
        "Save scaler for future work"
      ]
    },
    {
      "cell_type": "code",
      "metadata": {
        "id": "wXlYJ5u1mgoT"
      },
      "source": [
        "import pickle\n",
        "pickle.dump(sc, open('sc.pickle', 'wb'))"
      ],
      "execution_count": 8,
      "outputs": []
    },
    {
      "cell_type": "code",
      "metadata": {
        "id": "LiDwhV8jPVpO"
      },
      "source": [
        "Xtrain = torch.from_numpy(X_train).float()\n",
        "Xtest = torch.from_numpy(X_test).float()"
      ],
      "execution_count": 9,
      "outputs": []
    },
    {
      "cell_type": "code",
      "metadata": {
        "id": "II0ZRInLdpvw"
      },
      "source": [
        "ytrain = torch.from_numpy(y_train)\n",
        "ytest = torch.from_numpy(y_test)"
      ],
      "execution_count": 10,
      "outputs": []
    },
    {
      "cell_type": "code",
      "metadata": {
        "colab": {
          "base_uri": "https://localhost:8080/"
        },
        "id": "nbQDVn0hPuVk",
        "outputId": "7b3d403e-a5e9-4896-ac24-c9b8c1a380b9"
      },
      "source": [
        "Xtrain.shape, ytrain.shape"
      ],
      "execution_count": 11,
      "outputs": [
        {
          "output_type": "execute_result",
          "data": {
            "text/plain": [
              "(torch.Size([1243, 2]), torch.Size([1243]))"
            ]
          },
          "metadata": {
            "tags": []
          },
          "execution_count": 11
        }
      ]
    },
    {
      "cell_type": "code",
      "metadata": {
        "colab": {
          "base_uri": "https://localhost:8080/"
        },
        "id": "c3m7h38jdt-7",
        "outputId": "e6d197b0-8f68-4337-efe0-d007f9ef065c"
      },
      "source": [
        "Xtest.shape, ytest.shape"
      ],
      "execution_count": 12,
      "outputs": [
        {
          "output_type": "execute_result",
          "data": {
            "text/plain": [
              "(torch.Size([311, 2]), torch.Size([311]))"
            ]
          },
          "metadata": {
            "tags": []
          },
          "execution_count": 12
        }
      ]
    },
    {
      "cell_type": "code",
      "metadata": {
        "id": "sqsZA0mcdyJe"
      },
      "source": [
        "input_size=2\n",
        "output_size=2\n",
        "hidden_size=10"
      ],
      "execution_count": 13,
      "outputs": []
    },
    {
      "cell_type": "code",
      "metadata": {
        "id": "iTlfLRwld6UR"
      },
      "source": [
        "class Net(nn.Module):\n",
        "  def __init__(self):\n",
        "    super(Net, self).__init__()\n",
        "    self.fc1 = torch.nn.Linear(input_size, hidden_size)\n",
        "    self.fc2 = torch.nn.Linear(hidden_size, hidden_size)\n",
        "    self.fc3 = torch.nn.Linear(hidden_size, output_size)\n",
        "\n",
        "  def forward(self, X):\n",
        "    X = torch.relu((self.fc1(X)))\n",
        "    X = torch.relu((self.fc2(X)))\n",
        "    X = self.fc3(X)\n",
        "\n",
        "    return F.log_softmax(X, dim=1)"
      ],
      "execution_count": 14,
      "outputs": []
    },
    {
      "cell_type": "code",
      "metadata": {
        "id": "qkf4jx2bd-03"
      },
      "source": [
        "model = Net()"
      ],
      "execution_count": 15,
      "outputs": []
    },
    {
      "cell_type": "code",
      "metadata": {
        "id": "JFBb5nZgd-2Q"
      },
      "source": [
        "import torch.optim as optim\n",
        "optimizer = optim.Adam(model.parameters(), lr=0.01)\n",
        "loss_fn = nn.NLLLoss()"
      ],
      "execution_count": 16,
      "outputs": []
    },
    {
      "cell_type": "code",
      "metadata": {
        "id": "ONuSJAWuiFtP"
      },
      "source": [
        "epochs = 100"
      ],
      "execution_count": 17,
      "outputs": []
    },
    {
      "cell_type": "code",
      "metadata": {
        "colab": {
          "base_uri": "https://localhost:8080/"
        },
        "id": "hjhX8_TyiTRy",
        "outputId": "aa03f9c3-d930-474f-b218-d6b076245bbf"
      },
      "source": [
        "for epoch in range(epochs):\n",
        "  optimizer.zero_grad()\n",
        "  Y_pred = model(Xtrain)\n",
        "  loss = loss_fn(Y_pred, ytrain)\n",
        "  loss.backward()\n",
        "  optimizer.step()\n",
        "  print('Epoch', epoch, 'loss', loss.item())"
      ],
      "execution_count": 18,
      "outputs": [
        {
          "output_type": "stream",
          "text": [
            "Epoch 0 loss 0.6319896578788757\n",
            "Epoch 1 loss 0.6176838278770447\n",
            "Epoch 2 loss 0.6028789281845093\n",
            "Epoch 3 loss 0.5874694585800171\n",
            "Epoch 4 loss 0.5711658596992493\n",
            "Epoch 5 loss 0.5540099143981934\n",
            "Epoch 6 loss 0.5365639328956604\n",
            "Epoch 7 loss 0.5188566446304321\n",
            "Epoch 8 loss 0.5005489587783813\n",
            "Epoch 9 loss 0.48166319727897644\n",
            "Epoch 10 loss 0.4623284339904785\n",
            "Epoch 11 loss 0.4424836337566376\n",
            "Epoch 12 loss 0.4219837188720703\n",
            "Epoch 13 loss 0.40093860030174255\n",
            "Epoch 14 loss 0.3796481192111969\n",
            "Epoch 15 loss 0.358404278755188\n",
            "Epoch 16 loss 0.33749786019325256\n",
            "Epoch 17 loss 0.31704971194267273\n",
            "Epoch 18 loss 0.2972123920917511\n",
            "Epoch 19 loss 0.27842292189598083\n",
            "Epoch 20 loss 0.26091811060905457\n",
            "Epoch 21 loss 0.24456259608268738\n",
            "Epoch 22 loss 0.2293955534696579\n",
            "Epoch 23 loss 0.21536733210086823\n",
            "Epoch 24 loss 0.2024935781955719\n",
            "Epoch 25 loss 0.19075031578540802\n",
            "Epoch 26 loss 0.1801951378583908\n",
            "Epoch 27 loss 0.17090246081352234\n",
            "Epoch 28 loss 0.16284339129924774\n",
            "Epoch 29 loss 0.15594615042209625\n",
            "Epoch 30 loss 0.15017257630825043\n",
            "Epoch 31 loss 0.1452885866165161\n",
            "Epoch 32 loss 0.14123134315013885\n",
            "Epoch 33 loss 0.13787154853343964\n",
            "Epoch 34 loss 0.1351788341999054\n",
            "Epoch 35 loss 0.13308247923851013\n",
            "Epoch 36 loss 0.1314600557088852\n",
            "Epoch 37 loss 0.13015778362751007\n",
            "Epoch 38 loss 0.1291142702102661\n",
            "Epoch 39 loss 0.12829041481018066\n",
            "Epoch 40 loss 0.1276000440120697\n",
            "Epoch 41 loss 0.12704946100711823\n",
            "Epoch 42 loss 0.12659494578838348\n",
            "Epoch 43 loss 0.12617769837379456\n",
            "Epoch 44 loss 0.1257651299238205\n",
            "Epoch 45 loss 0.12535271048545837\n",
            "Epoch 46 loss 0.124952532351017\n",
            "Epoch 47 loss 0.12461338937282562\n",
            "Epoch 48 loss 0.124368816614151\n",
            "Epoch 49 loss 0.12410298734903336\n",
            "Epoch 50 loss 0.12368717044591904\n",
            "Epoch 51 loss 0.12321750819683075\n",
            "Epoch 52 loss 0.12272050976753235\n",
            "Epoch 53 loss 0.12219247221946716\n",
            "Epoch 54 loss 0.1216299831867218\n",
            "Epoch 55 loss 0.12105214595794678\n",
            "Epoch 56 loss 0.12048565596342087\n",
            "Epoch 57 loss 0.11993646621704102\n",
            "Epoch 58 loss 0.11938390880823135\n",
            "Epoch 59 loss 0.11875882744789124\n",
            "Epoch 60 loss 0.1180889680981636\n",
            "Epoch 61 loss 0.11740707606077194\n",
            "Epoch 62 loss 0.11672423779964447\n",
            "Epoch 63 loss 0.11604506522417068\n",
            "Epoch 64 loss 0.11538675427436829\n",
            "Epoch 65 loss 0.11475320160388947\n",
            "Epoch 66 loss 0.11456850171089172\n",
            "Epoch 67 loss 0.11438365280628204\n",
            "Epoch 68 loss 0.11420764029026031\n",
            "Epoch 69 loss 0.11404384672641754\n",
            "Epoch 70 loss 0.11387945711612701\n",
            "Epoch 71 loss 0.1137227714061737\n",
            "Epoch 72 loss 0.11357281357049942\n",
            "Epoch 73 loss 0.11342869699001312\n",
            "Epoch 74 loss 0.11328907310962677\n",
            "Epoch 75 loss 0.11315864324569702\n",
            "Epoch 76 loss 0.1130392923951149\n",
            "Epoch 77 loss 0.1129288524389267\n",
            "Epoch 78 loss 0.11282715946435928\n",
            "Epoch 79 loss 0.112732894718647\n",
            "Epoch 80 loss 0.11263903230428696\n",
            "Epoch 81 loss 0.11254987120628357\n",
            "Epoch 82 loss 0.11246394366025925\n",
            "Epoch 83 loss 0.11238012462854385\n",
            "Epoch 84 loss 0.11229918897151947\n",
            "Epoch 85 loss 0.11221878230571747\n",
            "Epoch 86 loss 0.11213760077953339\n",
            "Epoch 87 loss 0.11205431073904037\n",
            "Epoch 88 loss 0.11196980625391006\n",
            "Epoch 89 loss 0.11187205463647842\n",
            "Epoch 90 loss 0.11179555207490921\n",
            "Epoch 91 loss 0.11170519143342972\n",
            "Epoch 92 loss 0.11160716414451599\n",
            "Epoch 93 loss 0.11152135580778122\n",
            "Epoch 94 loss 0.11143596470355988\n",
            "Epoch 95 loss 0.11135240644216537\n",
            "Epoch 96 loss 0.11127154529094696\n",
            "Epoch 97 loss 0.11118226498365402\n",
            "Epoch 98 loss 0.11109811067581177\n",
            "Epoch 99 loss 0.11100378632545471\n"
          ],
          "name": "stdout"
        }
      ]
    },
    {
      "cell_type": "code",
      "metadata": {
        "colab": {
          "base_uri": "https://localhost:8080/"
        },
        "id": "_C4rAWkFismg",
        "outputId": "78603aea-b833-4124-d9dc-84b4c04079f0"
      },
      "source": [
        "list(model.parameters())"
      ],
      "execution_count": 19,
      "outputs": [
        {
          "output_type": "execute_result",
          "data": {
            "text/plain": [
              "[Parameter containing:\n",
              " tensor([[ 1.3090,  0.5351],\n",
              "         [ 0.7109, -0.1853],\n",
              "         [-0.4728,  0.4106],\n",
              "         [-0.7684, -0.2693],\n",
              "         [-1.0414,  0.5446],\n",
              "         [ 0.2331,  0.3853],\n",
              "         [-0.4108,  0.6462],\n",
              "         [-0.2267,  0.2609],\n",
              "         [-0.7483,  0.2570],\n",
              "         [-1.2094, -0.9233]], requires_grad=True), Parameter containing:\n",
              " tensor([ 0.7579,  0.2359,  0.4254,  0.2693, -0.0072,  1.0517,  0.2857, -0.6245,\n",
              "          0.0234,  0.2522], requires_grad=True), Parameter containing:\n",
              " tensor([[-0.4011,  0.0815, -0.0983,  0.6781, -0.3187,  0.2125, -0.6870,  0.1266,\n",
              "          -0.4666,  0.6527],\n",
              "         [-0.4392,  0.2796,  0.1839,  0.5340, -0.2339,  0.0154, -0.3734,  0.1134,\n",
              "          -0.1649,  0.6617],\n",
              "         [ 0.6605,  0.7901,  0.2196, -0.2395, -0.0414,  0.4273,  0.4111, -0.0328,\n",
              "           0.5067, -0.4620],\n",
              "         [-0.2578,  0.0189, -0.1533,  0.0465,  0.1973, -0.0194, -0.2642,  0.1219,\n",
              "           0.2307, -0.1462],\n",
              "         [ 0.2136,  0.5022,  0.3503, -0.4048,  0.5903,  0.6228,  0.3976,  0.1168,\n",
              "           0.2505, -0.4686],\n",
              "         [-0.1278, -0.1842, -0.3971, -0.1994,  0.0096, -0.1760,  0.2209,  0.2835,\n",
              "           0.1254,  0.1405],\n",
              "         [ 0.7231,  0.7289,  0.1851, -0.4072,  0.4162,  0.1394,  0.5417,  0.0624,\n",
              "           0.5018, -0.2707],\n",
              "         [-0.7551,  0.2593,  0.3536,  0.2316,  0.0167,  0.3129, -0.7390,  0.0294,\n",
              "          -0.3533,  0.4526],\n",
              "         [ 0.0055,  0.0706, -0.2609, -0.1576,  0.0727, -0.2844, -0.2115,  0.1442,\n",
              "          -0.0439, -0.2279],\n",
              "         [-0.0657,  0.1893, -0.0590,  0.0436, -0.2195, -0.3117,  0.2348,  0.1090,\n",
              "           0.2200, -0.3146]], requires_grad=True), Parameter containing:\n",
              " tensor([ 0.2781,  0.1292,  0.4213, -0.2922,  0.4655, -0.1391,  0.2539,  0.1986,\n",
              "         -0.2783,  0.0081], requires_grad=True), Parameter containing:\n",
              " tensor([[ 0.6090,  0.3567, -0.0801, -0.0178, -0.4344,  0.2487, -0.7099,  0.5189,\n",
              "          -0.2177, -0.2774],\n",
              "         [-0.3803, -0.6887,  0.6622,  0.0599,  0.6439,  0.1846,  0.1852, -0.3447,\n",
              "           0.2342, -0.2072]], requires_grad=True), Parameter containing:\n",
              " tensor([-0.5738,  0.2953], requires_grad=True)]"
            ]
          },
          "metadata": {
            "tags": []
          },
          "execution_count": 19
        }
      ]
    },
    {
      "cell_type": "markdown",
      "metadata": {
        "id": "yxGhgbFJX6vm"
      },
      "source": [
        "Check model "
      ]
    },
    {
      "cell_type": "code",
      "metadata": {
        "id": "Ddr_kCFvjIWp"
      },
      "source": [
        "new_data = torch.from_numpy(sc.transform(np.array([[42, 50000]]))).float()"
      ],
      "execution_count": 20,
      "outputs": []
    },
    {
      "cell_type": "code",
      "metadata": {
        "colab": {
          "base_uri": "https://localhost:8080/"
        },
        "id": "IOFTC0JgjX0V",
        "outputId": "a31c9f21-6ae2-4aa0-f81d-86686091d5cd"
      },
      "source": [
        "y_cust = model(new_data)\n",
        "y_cust"
      ],
      "execution_count": 21,
      "outputs": [
        {
          "output_type": "execute_result",
          "data": {
            "text/plain": [
              "tensor([[-0.9611, -0.4820]], grad_fn=<LogSoftmaxBackward>)"
            ]
          },
          "metadata": {
            "tags": []
          },
          "execution_count": 21
        }
      ]
    },
    {
      "cell_type": "code",
      "metadata": {
        "colab": {
          "base_uri": "https://localhost:8080/"
        },
        "id": "qSSRnppPj7ZZ",
        "outputId": "1275c826-ab2f-4aea-9989-d79f9983ad84"
      },
      "source": [
        "_, predicted = torch.max(y_cust, -1)\n",
        "predicted"
      ],
      "execution_count": 22,
      "outputs": [
        {
          "output_type": "execute_result",
          "data": {
            "text/plain": [
              "tensor([1])"
            ]
          },
          "metadata": {
            "tags": []
          },
          "execution_count": 22
        }
      ]
    },
    {
      "cell_type": "markdown",
      "metadata": {
        "id": "MMr5DLkQ_9fw"
      },
      "source": [
        "## Export model to ONNX format"
      ]
    },
    {
      "cell_type": "code",
      "metadata": {
        "id": "uQRnw-OE_7bl"
      },
      "source": [
        "sample_tensor = torch.from_numpy(sc.transform(np.array([[40, 20000]]))).float()"
      ],
      "execution_count": 23,
      "outputs": []
    },
    {
      "cell_type": "code",
      "metadata": {
        "id": "TkVd5Uzv_7ey"
      },
      "source": [
        "torch.onnx.export(model, sample_tensor, \"customer.onnx\", export_params=True)"
      ],
      "execution_count": 24,
      "outputs": []
    },
    {
      "cell_type": "code",
      "metadata": {
        "colab": {
          "base_uri": "https://localhost:8080/"
        },
        "id": "7GoYLc81AXKf",
        "outputId": "bc2f96d2-55ed-438d-9a91-dbdab8d628c3"
      },
      "source": [
        "!ls"
      ],
      "execution_count": 25,
      "outputs": [
        {
          "output_type": "stream",
          "text": [
            "customer.onnx  sample_data  sc.pickle\n"
          ],
          "name": "stdout"
        }
      ]
    },
    {
      "cell_type": "markdown",
      "metadata": {
        "id": "m1ducJn1Agb2"
      },
      "source": [
        "### Load onnx model to tf"
      ]
    },
    {
      "cell_type": "code",
      "metadata": {
        "id": "9oQmMOhHAbir"
      },
      "source": [
        "# !pip install onnx"
      ],
      "execution_count": 26,
      "outputs": []
    },
    {
      "cell_type": "code",
      "metadata": {
        "id": "miwmrAGBAblu"
      },
      "source": [
        "# !pip uninstall onnx_tf"
      ],
      "execution_count": 40,
      "outputs": []
    },
    {
      "cell_type": "code",
      "metadata": {
        "colab": {
          "base_uri": "https://localhost:8080/"
        },
        "id": "9cJkFYHvCTAT",
        "outputId": "877b2e50-f45b-40c1-8bbb-a8ffac07474b"
      },
      "source": [
        "!pip install git+https://github.com/onnx/onnx-tensorflow.git"
      ],
      "execution_count": 26,
      "outputs": [
        {
          "output_type": "stream",
          "text": [
            "Collecting git+https://github.com/onnx/onnx-tensorflow.git\n",
            "  Cloning https://github.com/onnx/onnx-tensorflow.git to /tmp/pip-req-build-mozqiql2\n",
            "  Running command git clone -q https://github.com/onnx/onnx-tensorflow.git /tmp/pip-req-build-mozqiql2\n",
            "Requirement already satisfied (use --upgrade to upgrade): onnx-tf==1.7.0 from git+https://github.com/onnx/onnx-tensorflow.git in /usr/local/lib/python3.7/dist-packages\n",
            "Requirement already satisfied: onnx>=1.7.0 in /usr/local/lib/python3.7/dist-packages (from onnx-tf==1.7.0) (1.8.1)\n",
            "Requirement already satisfied: PyYAML in /usr/local/lib/python3.7/dist-packages (from onnx-tf==1.7.0) (3.13)\n",
            "Requirement already satisfied: tensorflow_addons in /usr/local/lib/python3.7/dist-packages (from onnx-tf==1.7.0) (0.12.1)\n",
            "Requirement already satisfied: typing-extensions>=3.6.2.1 in /usr/local/lib/python3.7/dist-packages (from onnx>=1.7.0->onnx-tf==1.7.0) (3.7.4.3)\n",
            "Requirement already satisfied: protobuf in /usr/local/lib/python3.7/dist-packages (from onnx>=1.7.0->onnx-tf==1.7.0) (3.12.4)\n",
            "Requirement already satisfied: numpy>=1.16.6 in /usr/local/lib/python3.7/dist-packages (from onnx>=1.7.0->onnx-tf==1.7.0) (1.19.5)\n",
            "Requirement already satisfied: six in /usr/local/lib/python3.7/dist-packages (from onnx>=1.7.0->onnx-tf==1.7.0) (1.15.0)\n",
            "Requirement already satisfied: typeguard>=2.7 in /usr/local/lib/python3.7/dist-packages (from tensorflow_addons->onnx-tf==1.7.0) (2.7.1)\n",
            "Requirement already satisfied: setuptools in /usr/local/lib/python3.7/dist-packages (from protobuf->onnx>=1.7.0->onnx-tf==1.7.0) (54.2.0)\n",
            "Building wheels for collected packages: onnx-tf\n",
            "  Building wheel for onnx-tf (setup.py) ... \u001b[?25l\u001b[?25hdone\n",
            "  Created wheel for onnx-tf: filename=onnx_tf-1.7.0-cp37-none-any.whl size=219452 sha256=4c314f092dd2dfb6335cb864a1c07cd2f84ef22326972e1a1a6811cb829cd151\n",
            "  Stored in directory: /tmp/pip-ephem-wheel-cache-2xwqubu2/wheels/54/24/31/8873b33d2d560efdfa1ed6f346df67ef793b1897358705a480\n",
            "Successfully built onnx-tf\n"
          ],
          "name": "stdout"
        }
      ]
    },
    {
      "cell_type": "code",
      "metadata": {
        "id": "OGmUhpurAvpH"
      },
      "source": [
        "import onnx\n",
        "import onnx_tf"
      ],
      "execution_count": 27,
      "outputs": []
    },
    {
      "cell_type": "code",
      "metadata": {
        "id": "yvdyHVJeAvyo"
      },
      "source": [
        "# import tensorflow_addons"
      ],
      "execution_count": 28,
      "outputs": []
    },
    {
      "cell_type": "code",
      "metadata": {
        "id": "BVt4f_gnA4Po"
      },
      "source": [
        "from onnx_tf.backend import prepare"
      ],
      "execution_count": 29,
      "outputs": []
    },
    {
      "cell_type": "code",
      "metadata": {
        "id": "b2JVogGFA4SG"
      },
      "source": [
        "onnx_model = onnx.load('customer.onnx')"
      ],
      "execution_count": 30,
      "outputs": []
    },
    {
      "cell_type": "code",
      "metadata": {
        "id": "uqZ5_M5bA4U1"
      },
      "source": [
        "tf_rep = prepare(onnx_model)"
      ],
      "execution_count": 31,
      "outputs": []
    },
    {
      "cell_type": "code",
      "metadata": {
        "id": "g6-Tm4ngBJl1"
      },
      "source": [
        "prediction = tf_rep.run(np.float32(sc.transform(np.array([[42,50000]]))))"
      ],
      "execution_count": 44,
      "outputs": []
    },
    {
      "cell_type": "code",
      "metadata": {
        "colab": {
          "base_uri": "https://localhost:8080/"
        },
        "id": "vTnMF5JmBJot",
        "outputId": "cec9e3d5-2d9a-4921-c845-6fedaf7ba510"
      },
      "source": [
        "prediction"
      ],
      "execution_count": 45,
      "outputs": [
        {
          "output_type": "execute_result",
          "data": {
            "text/plain": [
              "Outputs(_0=array([[-0.9611399 , -0.48200604]], dtype=float32))"
            ]
          },
          "metadata": {
            "tags": []
          },
          "execution_count": 45
        }
      ]
    },
    {
      "cell_type": "markdown",
      "metadata": {
        "id": "hka3QsTbDwsE"
      },
      "source": [
        "This prediction match the previous pytorch prediction"
      ]
    },
    {
      "cell_type": "markdown",
      "metadata": {
        "id": "IqCPi-ELX9Xy"
      },
      "source": [
        "Save torch model for future work"
      ]
    },
    {
      "cell_type": "code",
      "metadata": {
        "id": "L6enfJaskK7Y"
      },
      "source": [
        "torch.save(model, 'customer_buy.pt')"
      ],
      "execution_count": null,
      "outputs": []
    },
    {
      "cell_type": "code",
      "metadata": {
        "id": "XoCVCQR9kb1T"
      },
      "source": [
        "torch.save(model.state_dict(), 'customer_buy_state_dict')"
      ],
      "execution_count": null,
      "outputs": []
    },
    {
      "cell_type": "code",
      "metadata": {
        "id": "AyIU-xnhk0F_"
      },
      "source": [
        "# !zip -r customer_buy_state_dict.zip customer_buy_state_dict"
      ],
      "execution_count": null,
      "outputs": []
    },
    {
      "cell_type": "code",
      "metadata": {
        "id": "rD8aNxM0lAAN"
      },
      "source": [
        "# new_predictor = Net()"
      ],
      "execution_count": null,
      "outputs": []
    },
    {
      "cell_type": "code",
      "metadata": {
        "id": "4oN9I3nblEtF"
      },
      "source": [
        "# from google.colab import files\n"
      ],
      "execution_count": null,
      "outputs": []
    },
    {
      "cell_type": "code",
      "metadata": {
        "id": "TRiFJWIPlY4U"
      },
      "source": [
        "# files.download('customer_buy_state_dict.zip')"
      ],
      "execution_count": null,
      "outputs": []
    },
    {
      "cell_type": "code",
      "metadata": {
        "id": "-H5uvyhhlh2N"
      },
      "source": [
        ""
      ],
      "execution_count": null,
      "outputs": []
    }
  ]
}