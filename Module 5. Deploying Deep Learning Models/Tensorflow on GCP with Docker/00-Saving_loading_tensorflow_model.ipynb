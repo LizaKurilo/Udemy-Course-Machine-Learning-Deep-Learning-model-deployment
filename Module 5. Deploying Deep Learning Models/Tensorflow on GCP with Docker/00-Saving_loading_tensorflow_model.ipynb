{
  "nbformat": 4,
  "nbformat_minor": 0,
  "metadata": {
    "colab": {
      "name": "Untitled0.ipynb",
      "provenance": [],
      "collapsed_sections": []
    },
    "kernelspec": {
      "name": "python3",
      "display_name": "Python 3"
    },
    "language_info": {
      "name": "python"
    }
  },
  "cells": [
    {
      "cell_type": "markdown",
      "metadata": {
        "id": "tTn3J90blHvR"
      },
      "source": [
        "## Import"
      ]
    },
    {
      "cell_type": "code",
      "metadata": {
        "id": "gx_wactelHJT"
      },
      "source": [
        "import numpy as np\n",
        "import pandas as pd\n",
        "import tensorflow as tf"
      ],
      "execution_count": 49,
      "outputs": []
    },
    {
      "cell_type": "markdown",
      "metadata": {
        "id": "8maXi1aClLr1"
      },
      "source": [
        "## Download data"
      ]
    },
    {
      "cell_type": "code",
      "metadata": {
        "id": "5DLPyK6igBXe"
      },
      "source": [
        "dataset = pd.read_csv('https://raw.githubusercontent.com/futurexskill/ml-model-deployment/main/storepurchasedata_large.csv')"
      ],
      "execution_count": 6,
      "outputs": []
    },
    {
      "cell_type": "code",
      "metadata": {
        "colab": {
          "base_uri": "https://localhost:8080/"
        },
        "id": "Es8unWn3gVoB",
        "outputId": "b5f10521-4e1b-409b-dd90-a78f99643f39"
      },
      "source": [
        "dataset.info()"
      ],
      "execution_count": 7,
      "outputs": [
        {
          "output_type": "stream",
          "text": [
            "<class 'pandas.core.frame.DataFrame'>\n",
            "RangeIndex: 1554 entries, 0 to 1553\n",
            "Data columns (total 3 columns):\n",
            " #   Column     Non-Null Count  Dtype\n",
            "---  ------     --------------  -----\n",
            " 0   Age        1554 non-null   int64\n",
            " 1   Salary     1554 non-null   int64\n",
            " 2   Purchased  1554 non-null   int64\n",
            "dtypes: int64(3)\n",
            "memory usage: 36.5 KB\n"
          ],
          "name": "stdout"
        }
      ]
    },
    {
      "cell_type": "code",
      "metadata": {
        "colab": {
          "base_uri": "https://localhost:8080/",
          "height": 297
        },
        "id": "Z-1vIf6fgn60",
        "outputId": "66432c29-2442-4a6c-bce0-77a825e314db"
      },
      "source": [
        "dataset.describe()"
      ],
      "execution_count": 8,
      "outputs": [
        {
          "output_type": "execute_result",
          "data": {
            "text/html": [
              "<div>\n",
              "<style scoped>\n",
              "    .dataframe tbody tr th:only-of-type {\n",
              "        vertical-align: middle;\n",
              "    }\n",
              "\n",
              "    .dataframe tbody tr th {\n",
              "        vertical-align: top;\n",
              "    }\n",
              "\n",
              "    .dataframe thead th {\n",
              "        text-align: right;\n",
              "    }\n",
              "</style>\n",
              "<table border=\"1\" class=\"dataframe\">\n",
              "  <thead>\n",
              "    <tr style=\"text-align: right;\">\n",
              "      <th></th>\n",
              "      <th>Age</th>\n",
              "      <th>Salary</th>\n",
              "      <th>Purchased</th>\n",
              "    </tr>\n",
              "  </thead>\n",
              "  <tbody>\n",
              "    <tr>\n",
              "      <th>count</th>\n",
              "      <td>1554.000000</td>\n",
              "      <td>1554.000000</td>\n",
              "      <td>1554.000000</td>\n",
              "    </tr>\n",
              "    <tr>\n",
              "      <th>mean</th>\n",
              "      <td>44.296010</td>\n",
              "      <td>57042.471042</td>\n",
              "      <td>0.694981</td>\n",
              "    </tr>\n",
              "    <tr>\n",
              "      <th>std</th>\n",
              "      <td>17.462458</td>\n",
              "      <td>21209.244800</td>\n",
              "      <td>0.460564</td>\n",
              "    </tr>\n",
              "    <tr>\n",
              "      <th>min</th>\n",
              "      <td>18.000000</td>\n",
              "      <td>20000.000000</td>\n",
              "      <td>0.000000</td>\n",
              "    </tr>\n",
              "    <tr>\n",
              "      <th>25%</th>\n",
              "      <td>27.000000</td>\n",
              "      <td>46000.000000</td>\n",
              "      <td>0.000000</td>\n",
              "    </tr>\n",
              "    <tr>\n",
              "      <th>50%</th>\n",
              "      <td>43.000000</td>\n",
              "      <td>60000.000000</td>\n",
              "      <td>1.000000</td>\n",
              "    </tr>\n",
              "    <tr>\n",
              "      <th>75%</th>\n",
              "      <td>62.000000</td>\n",
              "      <td>66000.000000</td>\n",
              "      <td>1.000000</td>\n",
              "    </tr>\n",
              "    <tr>\n",
              "      <th>max</th>\n",
              "      <td>69.000000</td>\n",
              "      <td>96000.000000</td>\n",
              "      <td>1.000000</td>\n",
              "    </tr>\n",
              "  </tbody>\n",
              "</table>\n",
              "</div>"
            ],
            "text/plain": [
              "               Age        Salary    Purchased\n",
              "count  1554.000000   1554.000000  1554.000000\n",
              "mean     44.296010  57042.471042     0.694981\n",
              "std      17.462458  21209.244800     0.460564\n",
              "min      18.000000  20000.000000     0.000000\n",
              "25%      27.000000  46000.000000     0.000000\n",
              "50%      43.000000  60000.000000     1.000000\n",
              "75%      62.000000  66000.000000     1.000000\n",
              "max      69.000000  96000.000000     1.000000"
            ]
          },
          "metadata": {
            "tags": []
          },
          "execution_count": 8
        }
      ]
    },
    {
      "cell_type": "code",
      "metadata": {
        "colab": {
          "base_uri": "https://localhost:8080/",
          "height": 204
        },
        "id": "Rt1jbquxgsJk",
        "outputId": "304d0341-2c4b-4a48-95ff-dd2ccf7bc399"
      },
      "source": [
        "dataset.head()"
      ],
      "execution_count": 9,
      "outputs": [
        {
          "output_type": "execute_result",
          "data": {
            "text/html": [
              "<div>\n",
              "<style scoped>\n",
              "    .dataframe tbody tr th:only-of-type {\n",
              "        vertical-align: middle;\n",
              "    }\n",
              "\n",
              "    .dataframe tbody tr th {\n",
              "        vertical-align: top;\n",
              "    }\n",
              "\n",
              "    .dataframe thead th {\n",
              "        text-align: right;\n",
              "    }\n",
              "</style>\n",
              "<table border=\"1\" class=\"dataframe\">\n",
              "  <thead>\n",
              "    <tr style=\"text-align: right;\">\n",
              "      <th></th>\n",
              "      <th>Age</th>\n",
              "      <th>Salary</th>\n",
              "      <th>Purchased</th>\n",
              "    </tr>\n",
              "  </thead>\n",
              "  <tbody>\n",
              "    <tr>\n",
              "      <th>0</th>\n",
              "      <td>18</td>\n",
              "      <td>20000</td>\n",
              "      <td>0</td>\n",
              "    </tr>\n",
              "    <tr>\n",
              "      <th>1</th>\n",
              "      <td>19</td>\n",
              "      <td>22000</td>\n",
              "      <td>0</td>\n",
              "    </tr>\n",
              "    <tr>\n",
              "      <th>2</th>\n",
              "      <td>20</td>\n",
              "      <td>24000</td>\n",
              "      <td>0</td>\n",
              "    </tr>\n",
              "    <tr>\n",
              "      <th>3</th>\n",
              "      <td>21</td>\n",
              "      <td>28000</td>\n",
              "      <td>0</td>\n",
              "    </tr>\n",
              "    <tr>\n",
              "      <th>4</th>\n",
              "      <td>22</td>\n",
              "      <td>60000</td>\n",
              "      <td>1</td>\n",
              "    </tr>\n",
              "  </tbody>\n",
              "</table>\n",
              "</div>"
            ],
            "text/plain": [
              "   Age  Salary  Purchased\n",
              "0   18   20000          0\n",
              "1   19   22000          0\n",
              "2   20   24000          0\n",
              "3   21   28000          0\n",
              "4   22   60000          1"
            ]
          },
          "metadata": {
            "tags": []
          },
          "execution_count": 9
        }
      ]
    },
    {
      "cell_type": "markdown",
      "metadata": {
        "id": "WyAbLGJFlOyZ"
      },
      "source": [
        "## Data preparation"
      ]
    },
    {
      "cell_type": "code",
      "metadata": {
        "id": "97GHeYCsgtzz"
      },
      "source": [
        "X = dataset.iloc[:,:-1].values\n",
        "y = dataset.iloc[:,-1].values"
      ],
      "execution_count": 10,
      "outputs": []
    },
    {
      "cell_type": "code",
      "metadata": {
        "id": "ugl126rog25B"
      },
      "source": [
        "from sklearn.model_selection import train_test_split\n",
        "X_train, X_test, y_train, y_test = train_test_split(X, y, test_size=0.2, random_state=0)"
      ],
      "execution_count": 11,
      "outputs": []
    },
    {
      "cell_type": "code",
      "metadata": {
        "id": "1ml0zdmhhGLn"
      },
      "source": [
        "from sklearn.preprocessing import StandardScaler\n",
        "sc = StandardScaler()\n",
        "X_train = sc.fit_transform(X_train)\n",
        "X_test = sc.transform(X_test)"
      ],
      "execution_count": 12,
      "outputs": []
    },
    {
      "cell_type": "markdown",
      "metadata": {
        "id": "8xMWSrjYlTIV"
      },
      "source": [
        "## Model preparation"
      ]
    },
    {
      "cell_type": "code",
      "metadata": {
        "id": "rfveVVTXhXj7"
      },
      "source": [
        "model = tf.keras.models.Sequential([\n",
        "  tf.keras.layers.Dense(10, activation='relu'),\n",
        "  tf.keras.layers.Dense(10, activation='relu'),\n",
        "  tf.keras.layers.Dense(2, activation='softmax'),\n",
        "])"
      ],
      "execution_count": 13,
      "outputs": []
    },
    {
      "cell_type": "code",
      "metadata": {
        "id": "PQXSnNcMhqRn"
      },
      "source": [
        "model.compile(optimizer='adam',\n",
        "              loss='sparse_categorical_crossentropy',\n",
        "              metrics=['accuracy'])"
      ],
      "execution_count": 14,
      "outputs": []
    },
    {
      "cell_type": "markdown",
      "metadata": {
        "id": "pqtOrmRilWSl"
      },
      "source": [
        "## Model fit"
      ]
    },
    {
      "cell_type": "code",
      "metadata": {
        "colab": {
          "base_uri": "https://localhost:8080/"
        },
        "id": "mQEA_teth3Yl",
        "outputId": "f568b113-21bc-426e-bfe0-7eeb0d84c2e9"
      },
      "source": [
        "model.fit(X_train, y_train, epochs=50)"
      ],
      "execution_count": 15,
      "outputs": [
        {
          "output_type": "stream",
          "text": [
            "Epoch 1/50\n",
            "39/39 [==============================] - 1s 2ms/step - loss: 0.7123 - accuracy: 0.4903\n",
            "Epoch 2/50\n",
            "39/39 [==============================] - 0s 1ms/step - loss: 0.4909 - accuracy: 0.8599\n",
            "Epoch 3/50\n",
            "39/39 [==============================] - 0s 1ms/step - loss: 0.3708 - accuracy: 0.9121\n",
            "Epoch 4/50\n",
            "39/39 [==============================] - 0s 1ms/step - loss: 0.2830 - accuracy: 0.9190\n",
            "Epoch 5/50\n",
            "39/39 [==============================] - 0s 1ms/step - loss: 0.2341 - accuracy: 0.9273\n",
            "Epoch 6/50\n",
            "39/39 [==============================] - 0s 1ms/step - loss: 0.2027 - accuracy: 0.9224\n",
            "Epoch 7/50\n",
            "39/39 [==============================] - 0s 1ms/step - loss: 0.1863 - accuracy: 0.9252\n",
            "Epoch 8/50\n",
            "39/39 [==============================] - 0s 1ms/step - loss: 0.1900 - accuracy: 0.9330\n",
            "Epoch 9/50\n",
            "39/39 [==============================] - 0s 1ms/step - loss: 0.1569 - accuracy: 0.9496\n",
            "Epoch 10/50\n",
            "39/39 [==============================] - 0s 1ms/step - loss: 0.1618 - accuracy: 0.9417\n",
            "Epoch 11/50\n",
            "39/39 [==============================] - 0s 1ms/step - loss: 0.1387 - accuracy: 0.9578\n",
            "Epoch 12/50\n",
            "39/39 [==============================] - 0s 1ms/step - loss: 0.1542 - accuracy: 0.9452\n",
            "Epoch 13/50\n",
            "39/39 [==============================] - 0s 1ms/step - loss: 0.1594 - accuracy: 0.9434\n",
            "Epoch 14/50\n",
            "39/39 [==============================] - 0s 1ms/step - loss: 0.1351 - accuracy: 0.9556\n",
            "Epoch 15/50\n",
            "39/39 [==============================] - 0s 2ms/step - loss: 0.1400 - accuracy: 0.9530\n",
            "Epoch 16/50\n",
            "39/39 [==============================] - 0s 1ms/step - loss: 0.1349 - accuracy: 0.9493\n",
            "Epoch 17/50\n",
            "39/39 [==============================] - 0s 1ms/step - loss: 0.1366 - accuracy: 0.9446\n",
            "Epoch 18/50\n",
            "39/39 [==============================] - 0s 2ms/step - loss: 0.1176 - accuracy: 0.9569\n",
            "Epoch 19/50\n",
            "39/39 [==============================] - 0s 2ms/step - loss: 0.1191 - accuracy: 0.9571\n",
            "Epoch 20/50\n",
            "39/39 [==============================] - 0s 1ms/step - loss: 0.1110 - accuracy: 0.9568\n",
            "Epoch 21/50\n",
            "39/39 [==============================] - 0s 1ms/step - loss: 0.1040 - accuracy: 0.9597\n",
            "Epoch 22/50\n",
            "39/39 [==============================] - 0s 2ms/step - loss: 0.1186 - accuracy: 0.9520\n",
            "Epoch 23/50\n",
            "39/39 [==============================] - 0s 1ms/step - loss: 0.1234 - accuracy: 0.9450\n",
            "Epoch 24/50\n",
            "39/39 [==============================] - 0s 1ms/step - loss: 0.1302 - accuracy: 0.9485\n",
            "Epoch 25/50\n",
            "39/39 [==============================] - 0s 1ms/step - loss: 0.0995 - accuracy: 0.9628\n",
            "Epoch 26/50\n",
            "39/39 [==============================] - 0s 1ms/step - loss: 0.1251 - accuracy: 0.9490\n",
            "Epoch 27/50\n",
            "39/39 [==============================] - 0s 1ms/step - loss: 0.1138 - accuracy: 0.9510\n",
            "Epoch 28/50\n",
            "39/39 [==============================] - 0s 1ms/step - loss: 0.1144 - accuracy: 0.9502\n",
            "Epoch 29/50\n",
            "39/39 [==============================] - 0s 1ms/step - loss: 0.1310 - accuracy: 0.9514\n",
            "Epoch 30/50\n",
            "39/39 [==============================] - 0s 1ms/step - loss: 0.1245 - accuracy: 0.9475\n",
            "Epoch 31/50\n",
            "39/39 [==============================] - 0s 1ms/step - loss: 0.1240 - accuracy: 0.9603\n",
            "Epoch 32/50\n",
            "39/39 [==============================] - 0s 1ms/step - loss: 0.1191 - accuracy: 0.9476\n",
            "Epoch 33/50\n",
            "39/39 [==============================] - 0s 2ms/step - loss: 0.1244 - accuracy: 0.9468\n",
            "Epoch 34/50\n",
            "39/39 [==============================] - 0s 1ms/step - loss: 0.1274 - accuracy: 0.9410\n",
            "Epoch 35/50\n",
            "39/39 [==============================] - 0s 1ms/step - loss: 0.1083 - accuracy: 0.9516\n",
            "Epoch 36/50\n",
            "39/39 [==============================] - 0s 1ms/step - loss: 0.1026 - accuracy: 0.9627\n",
            "Epoch 37/50\n",
            "39/39 [==============================] - 0s 1ms/step - loss: 0.1169 - accuracy: 0.9464\n",
            "Epoch 38/50\n",
            "39/39 [==============================] - 0s 1ms/step - loss: 0.1186 - accuracy: 0.9530\n",
            "Epoch 39/50\n",
            "39/39 [==============================] - 0s 2ms/step - loss: 0.1369 - accuracy: 0.9396\n",
            "Epoch 40/50\n",
            "39/39 [==============================] - 0s 1ms/step - loss: 0.1044 - accuracy: 0.9653\n",
            "Epoch 41/50\n",
            "39/39 [==============================] - 0s 2ms/step - loss: 0.1172 - accuracy: 0.9463\n",
            "Epoch 42/50\n",
            "39/39 [==============================] - 0s 1ms/step - loss: 0.1117 - accuracy: 0.9543\n",
            "Epoch 43/50\n",
            "39/39 [==============================] - 0s 2ms/step - loss: 0.0997 - accuracy: 0.9561\n",
            "Epoch 44/50\n",
            "39/39 [==============================] - 0s 1ms/step - loss: 0.1056 - accuracy: 0.9540\n",
            "Epoch 45/50\n",
            "39/39 [==============================] - 0s 1ms/step - loss: 0.1150 - accuracy: 0.9548\n",
            "Epoch 46/50\n",
            "39/39 [==============================] - 0s 1ms/step - loss: 0.1153 - accuracy: 0.9476\n",
            "Epoch 47/50\n",
            "39/39 [==============================] - 0s 1ms/step - loss: 0.1054 - accuracy: 0.9566\n",
            "Epoch 48/50\n",
            "39/39 [==============================] - 0s 1ms/step - loss: 0.1094 - accuracy: 0.9523\n",
            "Epoch 49/50\n",
            "39/39 [==============================] - 0s 2ms/step - loss: 0.1374 - accuracy: 0.9391\n",
            "Epoch 50/50\n",
            "39/39 [==============================] - 0s 1ms/step - loss: 0.1091 - accuracy: 0.9558\n"
          ],
          "name": "stdout"
        },
        {
          "output_type": "execute_result",
          "data": {
            "text/plain": [
              "<tensorflow.python.keras.callbacks.History at 0x7f52ba666e50>"
            ]
          },
          "metadata": {
            "tags": []
          },
          "execution_count": 15
        }
      ]
    },
    {
      "cell_type": "code",
      "metadata": {
        "colab": {
          "base_uri": "https://localhost:8080/"
        },
        "id": "vKfL-MEKh84T",
        "outputId": "a4130657-8133-41f7-e8a8-91d6562dfb65"
      },
      "source": [
        "loss, accuracy = model.evaluate(X_test, y_test)"
      ],
      "execution_count": 17,
      "outputs": [
        {
          "output_type": "stream",
          "text": [
            "10/10 [==============================] - 0s 2ms/step - loss: 0.1173 - accuracy: 0.9550\n"
          ],
          "name": "stdout"
        }
      ]
    },
    {
      "cell_type": "code",
      "metadata": {
        "colab": {
          "base_uri": "https://localhost:8080/"
        },
        "id": "nh4wX8e6iK3I",
        "outputId": "34a9cd73-b457-4a30-ce3e-0febfe6e0f71"
      },
      "source": [
        "loss, accuracy"
      ],
      "execution_count": 18,
      "outputs": [
        {
          "output_type": "execute_result",
          "data": {
            "text/plain": [
              "(0.11725999414920807, 0.9549839496612549)"
            ]
          },
          "metadata": {
            "tags": []
          },
          "execution_count": 18
        }
      ]
    },
    {
      "cell_type": "code",
      "metadata": {
        "colab": {
          "base_uri": "https://localhost:8080/"
        },
        "id": "TsDyHDKBiPWg",
        "outputId": "71f3f9f8-2f6e-42c6-ff5d-33e5d27cc031"
      },
      "source": [
        "model.summary()"
      ],
      "execution_count": 19,
      "outputs": [
        {
          "output_type": "stream",
          "text": [
            "Model: \"sequential\"\n",
            "_________________________________________________________________\n",
            "Layer (type)                 Output Shape              Param #   \n",
            "=================================================================\n",
            "dense (Dense)                (None, 10)                30        \n",
            "_________________________________________________________________\n",
            "dense_1 (Dense)              (None, 10)                110       \n",
            "_________________________________________________________________\n",
            "dense_2 (Dense)              (None, 2)                 22        \n",
            "=================================================================\n",
            "Total params: 162\n",
            "Trainable params: 162\n",
            "Non-trainable params: 0\n",
            "_________________________________________________________________\n"
          ],
          "name": "stdout"
        }
      ]
    },
    {
      "cell_type": "markdown",
      "metadata": {
        "id": "nzb2qU0ClYy3"
      },
      "source": [
        "## Test model"
      ]
    },
    {
      "cell_type": "code",
      "metadata": {
        "colab": {
          "base_uri": "https://localhost:8080/"
        },
        "id": "_Ewja33wiTbn",
        "outputId": "6a36d9a1-7420-46af-c83f-bea537c08d0e"
      },
      "source": [
        "prediction_1 = model.predict(sc.transform(np.array([[42, 50000]])))\n",
        "prediction_1, np.argmax(prediction_1)"
      ],
      "execution_count": 38,
      "outputs": [
        {
          "output_type": "execute_result",
          "data": {
            "text/plain": [
              "(array([[0.3051851 , 0.69481486]], dtype=float32), 1)"
            ]
          },
          "metadata": {
            "tags": []
          },
          "execution_count": 38
        }
      ]
    },
    {
      "cell_type": "code",
      "metadata": {
        "colab": {
          "base_uri": "https://localhost:8080/"
        },
        "id": "h_0xAN6eicRd",
        "outputId": "99454bf0-2af4-4fcf-8a0e-863667c3f10e"
      },
      "source": [
        "prediction_2 = model.predict(sc.transform(np.array([[20, 40000]])))\n",
        "prediction_2, np.argmax(prediction_2)"
      ],
      "execution_count": 40,
      "outputs": [
        {
          "output_type": "execute_result",
          "data": {
            "text/plain": [
              "(array([[0.994369  , 0.00563109]], dtype=float32), 0)"
            ]
          },
          "metadata": {
            "tags": []
          },
          "execution_count": 40
        }
      ]
    },
    {
      "cell_type": "markdown",
      "metadata": {
        "id": "DuP3KnMRlb9r"
      },
      "source": [
        "Save model to folder"
      ]
    },
    {
      "cell_type": "code",
      "metadata": {
        "colab": {
          "base_uri": "https://localhost:8080/"
        },
        "id": "aqIpaLlhidgM",
        "outputId": "1b1a4d45-07f1-4829-8126-5c340bf54844"
      },
      "source": [
        "model.save('customer_behavior_model/1')"
      ],
      "execution_count": 41,
      "outputs": [
        {
          "output_type": "stream",
          "text": [
            "INFO:tensorflow:Assets written to: customer_behavior_model/1/assets\n"
          ],
          "name": "stdout"
        }
      ]
    },
    {
      "cell_type": "code",
      "metadata": {
        "colab": {
          "base_uri": "https://localhost:8080/"
        },
        "id": "JLOZlwmlkRbD",
        "outputId": "40211e13-876d-4d8c-ac4f-ee757f7884c6"
      },
      "source": [
        "!ls"
      ],
      "execution_count": 42,
      "outputs": [
        {
          "output_type": "stream",
          "text": [
            "customer_behavior_model  sample_data\n"
          ],
          "name": "stdout"
        }
      ]
    },
    {
      "cell_type": "code",
      "metadata": {
        "colab": {
          "base_uri": "https://localhost:8080/"
        },
        "id": "u-ZvLKMskTI0",
        "outputId": "68ea6c35-914c-4b38-868a-7da321915919"
      },
      "source": [
        "!ls customer_behavior_model/1"
      ],
      "execution_count": 43,
      "outputs": [
        {
          "output_type": "stream",
          "text": [
            "assets\tsaved_model.pb\tvariables\n"
          ],
          "name": "stdout"
        }
      ]
    },
    {
      "cell_type": "markdown",
      "metadata": {
        "id": "xPdiirw4lfKK"
      },
      "source": [
        "Check saved model"
      ]
    },
    {
      "cell_type": "code",
      "metadata": {
        "id": "KQR8w7HEkYER"
      },
      "source": [
        "from tensorflow.keras.models import load_model"
      ],
      "execution_count": 44,
      "outputs": []
    },
    {
      "cell_type": "code",
      "metadata": {
        "id": "UIc_vVLvkfDf"
      },
      "source": [
        "cust_model = load_model('customer_behavior_model/1')"
      ],
      "execution_count": 45,
      "outputs": []
    },
    {
      "cell_type": "code",
      "metadata": {
        "colab": {
          "base_uri": "https://localhost:8080/"
        },
        "id": "g092M079klh9",
        "outputId": "df567d3d-9614-4a01-faf2-af915a5732ad"
      },
      "source": [
        "prediction_3 = cust_model.predict(sc.transform(np.array([[42, 50000]])))\n",
        "prediction_3, np.argmax(prediction_3)"
      ],
      "execution_count": 46,
      "outputs": [
        {
          "output_type": "execute_result",
          "data": {
            "text/plain": [
              "(array([[0.3051851 , 0.69481486]], dtype=float32), 1)"
            ]
          },
          "metadata": {
            "tags": []
          },
          "execution_count": 46
        }
      ]
    },
    {
      "cell_type": "markdown",
      "metadata": {
        "id": "V0TclAPXlhr1"
      },
      "source": [
        "## Model download from colab"
      ]
    },
    {
      "cell_type": "code",
      "metadata": {
        "colab": {
          "base_uri": "https://localhost:8080/"
        },
        "id": "Ike1H69wkqQ0",
        "outputId": "bea347fe-0348-45e5-8e22-498b9c5050e2"
      },
      "source": [
        "!zip -r customer.zip customer_behavior_model"
      ],
      "execution_count": 47,
      "outputs": [
        {
          "output_type": "stream",
          "text": [
            "  adding: customer_behavior_model/ (stored 0%)\n",
            "  adding: customer_behavior_model/1/ (stored 0%)\n",
            "  adding: customer_behavior_model/1/saved_model.pb (deflated 88%)\n",
            "  adding: customer_behavior_model/1/variables/ (stored 0%)\n",
            "  adding: customer_behavior_model/1/variables/variables.index (deflated 64%)\n",
            "  adding: customer_behavior_model/1/variables/variables.data-00000-of-00001 (deflated 54%)\n",
            "  adding: customer_behavior_model/1/assets/ (stored 0%)\n"
          ],
          "name": "stdout"
        }
      ]
    },
    {
      "cell_type": "code",
      "metadata": {
        "id": "qZklyx7ikzRh"
      },
      "source": [
        "from google.colab import files\n",
        "files.download('customer.zip')"
      ],
      "execution_count": 48,
      "outputs": []
    },
    {
      "cell_type": "markdown",
      "metadata": {
        "id": "TK2M2_DDlFDI"
      },
      "source": [
        ""
      ]
    },
    {
      "cell_type": "code",
      "metadata": {
        "id": "4ZUWaogIk87Q"
      },
      "source": [
        ""
      ],
      "execution_count": null,
      "outputs": []
    }
  ]
}