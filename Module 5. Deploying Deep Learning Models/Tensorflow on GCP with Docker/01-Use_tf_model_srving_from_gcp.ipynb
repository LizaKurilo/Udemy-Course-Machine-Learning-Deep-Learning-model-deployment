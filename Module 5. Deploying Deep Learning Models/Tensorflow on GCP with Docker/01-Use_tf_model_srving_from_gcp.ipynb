{
  "nbformat": 4,
  "nbformat_minor": 0,
  "metadata": {
    "colab": {
      "name": "use_tf_model_srving_from_gcp.ipynb",
      "provenance": []
    },
    "kernelspec": {
      "name": "python3",
      "display_name": "Python 3"
    },
    "language_info": {
      "name": "python"
    }
  },
  "cells": [
    {
      "cell_type": "code",
      "metadata": {
        "id": "xdfkTSCc1-8T"
      },
      "source": [
        "import json\n",
        "import requests"
      ],
      "execution_count": 1,
      "outputs": []
    },
    {
      "cell_type": "code",
      "metadata": {
        "id": "e3Qw3cyy2Kx2"
      },
      "source": [
        "import numpy as np"
      ],
      "execution_count": 2,
      "outputs": []
    },
    {
      "cell_type": "markdown",
      "metadata": {
        "id": "urfFMXae6m97"
      },
      "source": [
        "Download scaler"
      ]
    },
    {
      "cell_type": "code",
      "metadata": {
        "colab": {
          "base_uri": "https://localhost:8080/"
        },
        "id": "hecf1lni2NDk",
        "outputId": "dd54b400-d2dc-4ab5-bd93-33ad9770540c"
      },
      "source": [
        "!wget https://github.com/futurexskill/ml-model-deployment/raw/main/sc.pickle"
      ],
      "execution_count": 3,
      "outputs": [
        {
          "output_type": "stream",
          "text": [
            "--2021-04-13 10:49:00--  https://github.com/futurexskill/ml-model-deployment/raw/main/sc.pickle\n",
            "Resolving github.com (github.com)... 192.30.255.113\n",
            "Connecting to github.com (github.com)|192.30.255.113|:443... connected.\n",
            "HTTP request sent, awaiting response... 302 Found\n",
            "Location: https://raw.githubusercontent.com/futurexskill/ml-model-deployment/main/sc.pickle [following]\n",
            "--2021-04-13 10:49:00--  https://raw.githubusercontent.com/futurexskill/ml-model-deployment/main/sc.pickle\n",
            "Resolving raw.githubusercontent.com (raw.githubusercontent.com)... 185.199.109.133, 185.199.108.133, 185.199.111.133, ...\n",
            "Connecting to raw.githubusercontent.com (raw.githubusercontent.com)|185.199.109.133|:443... connected.\n",
            "HTTP request sent, awaiting response... 200 OK\n",
            "Length: 502 [application/octet-stream]\n",
            "Saving to: ‘sc.pickle’\n",
            "\n",
            "sc.pickle           100%[===================>]     502  --.-KB/s    in 0s      \n",
            "\n",
            "2021-04-13 10:49:00 (16.2 MB/s) - ‘sc.pickle’ saved [502/502]\n",
            "\n"
          ],
          "name": "stdout"
        }
      ]
    },
    {
      "cell_type": "code",
      "metadata": {
        "id": "3bk8GR2F2UWa"
      },
      "source": [
        "import pickle"
      ],
      "execution_count": 5,
      "outputs": []
    },
    {
      "cell_type": "code",
      "metadata": {
        "colab": {
          "base_uri": "https://localhost:8080/"
        },
        "id": "aCB4DKX-2XJS",
        "outputId": "5f4a6911-f149-48d8-9679-901ca6cc4172"
      },
      "source": [
        "scaler_colab = pickle.load(open('sc.pickle', 'rb'))"
      ],
      "execution_count": 6,
      "outputs": [
        {
          "output_type": "stream",
          "text": [
            "/usr/local/lib/python3.7/dist-packages/sklearn/base.py:318: UserWarning: Trying to unpickle estimator StandardScaler from version 0.23.1 when using version 0.22.2.post1. This might lead to breaking code or invalid results. Use at your own risk.\n",
            "  UserWarning)\n"
          ],
          "name": "stderr"
        }
      ]
    },
    {
      "cell_type": "code",
      "metadata": {
        "colab": {
          "base_uri": "https://localhost:8080/"
        },
        "id": "Z07B5S4a2fEx",
        "outputId": "2fcd115d-c9d1-4872-fbcc-bd4658b29eb7"
      },
      "source": [
        "scaler_colab.transform(np.array([[42, 50000]]))"
      ],
      "execution_count": 9,
      "outputs": [
        {
          "output_type": "execute_result",
          "data": {
            "text/plain": [
              "array([[0.23452145, 0.03675871]])"
            ]
          },
          "metadata": {
            "tags": []
          },
          "execution_count": 9
        }
      ]
    },
    {
      "cell_type": "code",
      "metadata": {
        "colab": {
          "base_uri": "https://localhost:8080/"
        },
        "id": "7uzVt-F13VDu",
        "outputId": "b0005458-8e58-43e1-b4c3-fc5637a7646e"
      },
      "source": [
        "scaler_colab.transform(np.array([[20, 40000]]))"
      ],
      "execution_count": 10,
      "outputs": [
        {
          "output_type": "execute_result",
          "data": {
            "text/plain": [
              "array([[-1.43318661, -0.47466685]])"
            ]
          },
          "metadata": {
            "tags": []
          },
          "execution_count": 10
        }
      ]
    },
    {
      "cell_type": "markdown",
      "metadata": {
        "id": "2GiQbyXZ6uTn"
      },
      "source": [
        "## Request to tensorflow serving model on GCP"
      ]
    },
    {
      "cell_type": "code",
      "metadata": {
        "id": "yb3mU6zf2lDQ"
      },
      "source": [
        "url = 'http://104.197.20.99:8501/v1/models/customer_behavior_model:predict'"
      ],
      "execution_count": 16,
      "outputs": []
    },
    {
      "cell_type": "code",
      "metadata": {
        "id": "WwfJWHCL23c2"
      },
      "source": [
        "requests_data =  json.dumps({'signature_name': 'serving_default',\n",
        "                             \"instances\": [[-1.43318661, -0.47466685], [0.23452145, 0.03675871]]\n",
        "                                           })"
      ],
      "execution_count": 17,
      "outputs": []
    },
    {
      "cell_type": "code",
      "metadata": {
        "id": "ZuNHmix-3alB"
      },
      "source": [
        "json_response = requests.post(url, requests_data)"
      ],
      "execution_count": 18,
      "outputs": []
    },
    {
      "cell_type": "code",
      "metadata": {
        "colab": {
          "base_uri": "https://localhost:8080/"
        },
        "id": "Y4UFQxIB3l5b",
        "outputId": "53248e9d-c740-4661-c3e3-0fc9d271fd01"
      },
      "source": [
        "print(json_response.text)"
      ],
      "execution_count": 19,
      "outputs": [
        {
          "output_type": "stream",
          "text": [
            "{\n",
            "    \"predictions\": [[0.950677156, 0.0493228063], [0.00209558057, 0.99790442]\n",
            "    ]\n",
            "}\n"
          ],
          "name": "stdout"
        }
      ]
    },
    {
      "cell_type": "code",
      "metadata": {
        "id": "F3ixDVo24DnE"
      },
      "source": [
        ""
      ],
      "execution_count": null,
      "outputs": []
    }
  ]
}