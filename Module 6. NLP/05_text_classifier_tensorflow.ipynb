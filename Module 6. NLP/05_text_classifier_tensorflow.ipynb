{
  "nbformat": 4,
  "nbformat_minor": 0,
  "metadata": {
    "colab": {
      "name": "05-text_classifier_tensorflow.ipynb",
      "provenance": [],
      "toc_visible": true
    },
    "kernelspec": {
      "name": "python3",
      "display_name": "Python 3"
    },
    "language_info": {
      "name": "python"
    }
  },
  "cells": [
    {
      "cell_type": "markdown",
      "metadata": {
        "id": "2ortp_7qL3E4"
      },
      "source": [
        "## Imports"
      ]
    },
    {
      "cell_type": "code",
      "metadata": {
        "id": "tjkYibcm9bem"
      },
      "source": [
        "import nltk"
      ],
      "execution_count": 52,
      "outputs": []
    },
    {
      "cell_type": "code",
      "metadata": {
        "id": "sBFoSDbw9kOZ"
      },
      "source": [
        "nltk.download('all')"
      ],
      "execution_count": 3,
      "outputs": []
    },
    {
      "cell_type": "code",
      "metadata": {
        "id": "dZ9Jns2S9s2z"
      },
      "source": [
        "import numpy as np\n",
        "import pandas as pd"
      ],
      "execution_count": 4,
      "outputs": []
    },
    {
      "cell_type": "code",
      "metadata": {
        "id": "AKirGXHx-BNm"
      },
      "source": [
        "import re"
      ],
      "execution_count": 5,
      "outputs": []
    },
    {
      "cell_type": "code",
      "metadata": {
        "id": "n7OrbhKQ97hM"
      },
      "source": [
        "from nltk.corpus import stopwords\n",
        "from nltk.stem.porter import PorterStemmer"
      ],
      "execution_count": 6,
      "outputs": []
    },
    {
      "cell_type": "code",
      "metadata": {
        "id": "D-y7L6V1-MGx"
      },
      "source": [
        "from sklearn.feature_extraction.text import TfidfVectorizer"
      ],
      "execution_count": 7,
      "outputs": []
    },
    {
      "cell_type": "code",
      "metadata": {
        "id": "Ex9ucuXr-Z8K"
      },
      "source": [
        "from sklearn.model_selection import train_test_split"
      ],
      "execution_count": 8,
      "outputs": []
    },
    {
      "cell_type": "markdown",
      "metadata": {
        "id": "JMMgmqEHJ5XS"
      },
      "source": [
        "## Dataset prepearing\n",
        "\n",
        "1 - positive class \\\n",
        "0 - negative class"
      ]
    },
    {
      "cell_type": "code",
      "metadata": {
        "id": "ObuMK2um9mqW"
      },
      "source": [
        "dataset = pd.read_csv('https://raw.githubusercontent.com/futurexskill/ml-model-deployment/main/Restaurant_Reviews.tsv.txt', delimiter=\"\\t\", quoting=3)"
      ],
      "execution_count": 10,
      "outputs": []
    },
    {
      "cell_type": "code",
      "metadata": {
        "id": "Btw2Ofu094Ak"
      },
      "source": [
        "ps = PorterStemmer()"
      ],
      "execution_count": 11,
      "outputs": []
    },
    {
      "cell_type": "code",
      "metadata": {
        "id": "e-sN-_T_9-Kq"
      },
      "source": [
        "corpus = []\n",
        "for i in range(0,1000):\n",
        "  customer_review = re.sub('[^a-zA-Z]', ' ', dataset['Review'][i].lower())\n",
        "  customer_review = customer_review.split()\n",
        "  clean_review = [ps.stem(word) for word in customer_review if not word in set(stopwords.words(\"english\"))]\n",
        "  clean_review = ' '.join(clean_review)\n",
        "  corpus.append(clean_review)"
      ],
      "execution_count": 12,
      "outputs": []
    },
    {
      "cell_type": "code",
      "metadata": {
        "id": "8PtmuMY2-DND"
      },
      "source": [
        "vectorizer = TfidfVectorizer(max_features=1500, min_df=3, max_df=0.6)"
      ],
      "execution_count": 13,
      "outputs": []
    },
    {
      "cell_type": "code",
      "metadata": {
        "id": "rGAe91at-I2J"
      },
      "source": [
        "X = vectorizer.fit_transform(corpus).toarray()"
      ],
      "execution_count": 14,
      "outputs": []
    },
    {
      "cell_type": "code",
      "metadata": {
        "id": "CJM_X_Go-P6B"
      },
      "source": [
        "y = dataset.iloc[:, 1].values"
      ],
      "execution_count": 15,
      "outputs": []
    },
    {
      "cell_type": "code",
      "metadata": {
        "id": "N_0woFC9-RBA"
      },
      "source": [
        "X_train, X_test, y_train, y_test = train_test_split(X, y, test_size=0.2, random_state=0)"
      ],
      "execution_count": 16,
      "outputs": []
    },
    {
      "cell_type": "markdown",
      "metadata": {
        "id": "mcVVsY5b-b0Z"
      },
      "source": [
        "## Tensorflow Modelling"
      ]
    },
    {
      "cell_type": "code",
      "metadata": {
        "id": "JvjS3CfI-eb9"
      },
      "source": [
        "import tensorflow as tf"
      ],
      "execution_count": 53,
      "outputs": []
    },
    {
      "cell_type": "code",
      "metadata": {
        "id": "HgPcr3ec_Z_1"
      },
      "source": [
        "model = tf.keras.models.Sequential([\n",
        "    tf.keras.layers.Dense(500, activation='relu'),\n",
        "    tf.keras.layers.Dense(500, activation='relu'),\n",
        "    tf.keras.layers.Dense(2, activation='softmax'),\n",
        "    ])"
      ],
      "execution_count": 54,
      "outputs": []
    },
    {
      "cell_type": "code",
      "metadata": {
        "id": "s1NGSQ4eEO64"
      },
      "source": [
        "model.compile(optimizer='adam',\n",
        "              loss='sparse_categorical_crossentropy',\n",
        "              metrics=['accuracy'])"
      ],
      "execution_count": 56,
      "outputs": []
    },
    {
      "cell_type": "code",
      "metadata": {
        "colab": {
          "base_uri": "https://localhost:8080/"
        },
        "id": "S5um6xjAEQue",
        "outputId": "e9e2c996-8f3b-4ae7-95bd-c09a848f8085"
      },
      "source": [
        "model.fit(X_train, y_train, epochs=100)"
      ],
      "execution_count": 58,
      "outputs": [
        {
          "output_type": "stream",
          "text": [
            "Epoch 1/100\n",
            "25/25 [==============================] - 1s 6ms/step - loss: 0.6801 - accuracy: 0.5495\n",
            "Epoch 2/100\n",
            "25/25 [==============================] - 0s 6ms/step - loss: 0.4458 - accuracy: 0.8667\n",
            "Epoch 3/100\n",
            "25/25 [==============================] - 0s 5ms/step - loss: 0.1927 - accuracy: 0.9352\n",
            "Epoch 4/100\n",
            "25/25 [==============================] - 0s 6ms/step - loss: 0.1208 - accuracy: 0.9606\n",
            "Epoch 5/100\n",
            "25/25 [==============================] - 0s 6ms/step - loss: 0.0710 - accuracy: 0.9737\n",
            "Epoch 6/100\n",
            "25/25 [==============================] - 0s 6ms/step - loss: 0.0348 - accuracy: 0.9890\n",
            "Epoch 7/100\n",
            "25/25 [==============================] - 0s 6ms/step - loss: 0.0351 - accuracy: 0.9864\n",
            "Epoch 8/100\n",
            "25/25 [==============================] - 0s 6ms/step - loss: 0.0574 - accuracy: 0.9721\n",
            "Epoch 9/100\n",
            "25/25 [==============================] - 0s 6ms/step - loss: 0.0322 - accuracy: 0.9904\n",
            "Epoch 10/100\n",
            "25/25 [==============================] - 0s 5ms/step - loss: 0.0374 - accuracy: 0.9869\n",
            "Epoch 11/100\n",
            "25/25 [==============================] - 0s 5ms/step - loss: 0.0319 - accuracy: 0.9847\n",
            "Epoch 12/100\n",
            "25/25 [==============================] - 0s 5ms/step - loss: 0.0352 - accuracy: 0.9825\n",
            "Epoch 13/100\n",
            "25/25 [==============================] - 0s 6ms/step - loss: 0.0476 - accuracy: 0.9688\n",
            "Epoch 14/100\n",
            "25/25 [==============================] - 0s 6ms/step - loss: 0.0406 - accuracy: 0.9714\n",
            "Epoch 15/100\n",
            "25/25 [==============================] - 0s 5ms/step - loss: 0.0359 - accuracy: 0.9855\n",
            "Epoch 16/100\n",
            "25/25 [==============================] - 0s 5ms/step - loss: 0.0472 - accuracy: 0.9752\n",
            "Epoch 17/100\n",
            "25/25 [==============================] - 0s 6ms/step - loss: 0.0268 - accuracy: 0.9847\n",
            "Epoch 18/100\n",
            "25/25 [==============================] - 0s 6ms/step - loss: 0.0387 - accuracy: 0.9769\n",
            "Epoch 19/100\n",
            "25/25 [==============================] - 0s 6ms/step - loss: 0.0275 - accuracy: 0.9906\n",
            "Epoch 20/100\n",
            "25/25 [==============================] - 0s 6ms/step - loss: 0.0462 - accuracy: 0.9650\n",
            "Epoch 21/100\n",
            "25/25 [==============================] - 0s 6ms/step - loss: 0.0379 - accuracy: 0.9864\n",
            "Epoch 22/100\n",
            "25/25 [==============================] - 0s 6ms/step - loss: 0.0262 - accuracy: 0.9887\n",
            "Epoch 23/100\n",
            "25/25 [==============================] - 0s 6ms/step - loss: 0.0325 - accuracy: 0.9816\n",
            "Epoch 24/100\n",
            "25/25 [==============================] - 0s 6ms/step - loss: 0.0324 - accuracy: 0.9814\n",
            "Epoch 25/100\n",
            "25/25 [==============================] - 0s 6ms/step - loss: 0.0305 - accuracy: 0.9869\n",
            "Epoch 26/100\n",
            "25/25 [==============================] - 0s 6ms/step - loss: 0.0432 - accuracy: 0.9786\n",
            "Epoch 27/100\n",
            "25/25 [==============================] - 0s 6ms/step - loss: 0.0386 - accuracy: 0.9837\n",
            "Epoch 28/100\n",
            "25/25 [==============================] - 0s 5ms/step - loss: 0.0403 - accuracy: 0.9833\n",
            "Epoch 29/100\n",
            "25/25 [==============================] - 0s 6ms/step - loss: 0.0258 - accuracy: 0.9804\n",
            "Epoch 30/100\n",
            "25/25 [==============================] - 0s 5ms/step - loss: 0.0310 - accuracy: 0.9855\n",
            "Epoch 31/100\n",
            "25/25 [==============================] - 0s 6ms/step - loss: 0.0336 - accuracy: 0.9884\n",
            "Epoch 32/100\n",
            "25/25 [==============================] - 0s 6ms/step - loss: 0.0331 - accuracy: 0.9866\n",
            "Epoch 33/100\n",
            "25/25 [==============================] - 0s 7ms/step - loss: 0.0285 - accuracy: 0.9827\n",
            "Epoch 34/100\n",
            "25/25 [==============================] - 0s 6ms/step - loss: 0.0372 - accuracy: 0.9788\n",
            "Epoch 35/100\n",
            "25/25 [==============================] - 0s 5ms/step - loss: 0.0338 - accuracy: 0.9837\n",
            "Epoch 36/100\n",
            "25/25 [==============================] - 0s 6ms/step - loss: 0.0259 - accuracy: 0.9874\n",
            "Epoch 37/100\n",
            "25/25 [==============================] - 0s 6ms/step - loss: 0.0233 - accuracy: 0.9886\n",
            "Epoch 38/100\n",
            "25/25 [==============================] - 0s 6ms/step - loss: 0.0365 - accuracy: 0.9757\n",
            "Epoch 39/100\n",
            "25/25 [==============================] - 0s 6ms/step - loss: 0.0199 - accuracy: 0.9914\n",
            "Epoch 40/100\n",
            "25/25 [==============================] - 0s 6ms/step - loss: 0.0357 - accuracy: 0.9822\n",
            "Epoch 41/100\n",
            "25/25 [==============================] - 0s 5ms/step - loss: 0.0307 - accuracy: 0.9859\n",
            "Epoch 42/100\n",
            "25/25 [==============================] - 0s 5ms/step - loss: 0.0421 - accuracy: 0.9772\n",
            "Epoch 43/100\n",
            "25/25 [==============================] - 0s 5ms/step - loss: 0.0328 - accuracy: 0.9818\n",
            "Epoch 44/100\n",
            "25/25 [==============================] - 0s 6ms/step - loss: 0.0275 - accuracy: 0.9859\n",
            "Epoch 45/100\n",
            "25/25 [==============================] - 0s 6ms/step - loss: 0.0239 - accuracy: 0.9886\n",
            "Epoch 46/100\n",
            "25/25 [==============================] - 0s 6ms/step - loss: 0.0479 - accuracy: 0.9673\n",
            "Epoch 47/100\n",
            "25/25 [==============================] - 0s 6ms/step - loss: 0.0335 - accuracy: 0.9823\n",
            "Epoch 48/100\n",
            "25/25 [==============================] - 0s 6ms/step - loss: 0.0248 - accuracy: 0.9856\n",
            "Epoch 49/100\n",
            "25/25 [==============================] - 0s 6ms/step - loss: 0.0289 - accuracy: 0.9875\n",
            "Epoch 50/100\n",
            "25/25 [==============================] - 0s 6ms/step - loss: 0.0333 - accuracy: 0.9847\n",
            "Epoch 51/100\n",
            "25/25 [==============================] - 0s 6ms/step - loss: 0.0306 - accuracy: 0.9849\n",
            "Epoch 52/100\n",
            "25/25 [==============================] - 0s 6ms/step - loss: 0.0323 - accuracy: 0.9778\n",
            "Epoch 53/100\n",
            "25/25 [==============================] - 0s 6ms/step - loss: 0.0302 - accuracy: 0.9839\n",
            "Epoch 54/100\n",
            "25/25 [==============================] - 0s 6ms/step - loss: 0.0313 - accuracy: 0.9828\n",
            "Epoch 55/100\n",
            "25/25 [==============================] - 0s 6ms/step - loss: 0.0309 - accuracy: 0.9829\n",
            "Epoch 56/100\n",
            "25/25 [==============================] - 0s 6ms/step - loss: 0.0439 - accuracy: 0.9715\n",
            "Epoch 57/100\n",
            "25/25 [==============================] - 0s 7ms/step - loss: 0.0367 - accuracy: 0.9771\n",
            "Epoch 58/100\n",
            "25/25 [==============================] - 0s 6ms/step - loss: 0.0296 - accuracy: 0.9847\n",
            "Epoch 59/100\n",
            "25/25 [==============================] - 0s 6ms/step - loss: 0.0303 - accuracy: 0.9845\n",
            "Epoch 60/100\n",
            "25/25 [==============================] - 0s 6ms/step - loss: 0.0295 - accuracy: 0.9853\n",
            "Epoch 61/100\n",
            "25/25 [==============================] - 0s 6ms/step - loss: 0.0205 - accuracy: 0.9926\n",
            "Epoch 62/100\n",
            "25/25 [==============================] - 0s 6ms/step - loss: 0.0260 - accuracy: 0.9851\n",
            "Epoch 63/100\n",
            "25/25 [==============================] - 0s 6ms/step - loss: 0.0324 - accuracy: 0.9826\n",
            "Epoch 64/100\n",
            "25/25 [==============================] - 0s 6ms/step - loss: 0.0305 - accuracy: 0.9842\n",
            "Epoch 65/100\n",
            "25/25 [==============================] - 0s 6ms/step - loss: 0.0274 - accuracy: 0.9807\n",
            "Epoch 66/100\n",
            "25/25 [==============================] - 0s 6ms/step - loss: 0.0250 - accuracy: 0.9878\n",
            "Epoch 67/100\n",
            "25/25 [==============================] - 0s 6ms/step - loss: 0.0343 - accuracy: 0.9814\n",
            "Epoch 68/100\n",
            "25/25 [==============================] - 0s 6ms/step - loss: 0.0277 - accuracy: 0.9866\n",
            "Epoch 69/100\n",
            "25/25 [==============================] - 0s 6ms/step - loss: 0.0263 - accuracy: 0.9834\n",
            "Epoch 70/100\n",
            "25/25 [==============================] - 0s 6ms/step - loss: 0.0357 - accuracy: 0.9811\n",
            "Epoch 71/100\n",
            "25/25 [==============================] - 0s 6ms/step - loss: 0.0261 - accuracy: 0.9852\n",
            "Epoch 72/100\n",
            "25/25 [==============================] - 0s 6ms/step - loss: 0.0342 - accuracy: 0.9824\n",
            "Epoch 73/100\n",
            "25/25 [==============================] - 0s 7ms/step - loss: 0.0233 - accuracy: 0.9918\n",
            "Epoch 74/100\n",
            "25/25 [==============================] - 0s 6ms/step - loss: 0.0333 - accuracy: 0.9853\n",
            "Epoch 75/100\n",
            "25/25 [==============================] - 0s 6ms/step - loss: 0.0230 - accuracy: 0.9913\n",
            "Epoch 76/100\n",
            "25/25 [==============================] - 0s 6ms/step - loss: 0.0200 - accuracy: 0.9885\n",
            "Epoch 77/100\n",
            "25/25 [==============================] - 0s 6ms/step - loss: 0.0319 - accuracy: 0.9806\n",
            "Epoch 78/100\n",
            "25/25 [==============================] - 0s 7ms/step - loss: 0.0213 - accuracy: 0.9879\n",
            "Epoch 79/100\n",
            "25/25 [==============================] - 0s 7ms/step - loss: 0.0349 - accuracy: 0.9793\n",
            "Epoch 80/100\n",
            "25/25 [==============================] - 0s 6ms/step - loss: 0.0324 - accuracy: 0.9795\n",
            "Epoch 81/100\n",
            "25/25 [==============================] - 0s 6ms/step - loss: 0.0302 - accuracy: 0.9856\n",
            "Epoch 82/100\n",
            "25/25 [==============================] - 0s 6ms/step - loss: 0.0407 - accuracy: 0.9759\n",
            "Epoch 83/100\n",
            "25/25 [==============================] - 0s 6ms/step - loss: 0.0222 - accuracy: 0.9913\n",
            "Epoch 84/100\n",
            "25/25 [==============================] - 0s 7ms/step - loss: 0.0251 - accuracy: 0.9863\n",
            "Epoch 85/100\n",
            "25/25 [==============================] - 0s 7ms/step - loss: 0.0282 - accuracy: 0.9824\n",
            "Epoch 86/100\n",
            "25/25 [==============================] - 0s 6ms/step - loss: 0.0292 - accuracy: 0.9858\n",
            "Epoch 87/100\n",
            "25/25 [==============================] - 0s 6ms/step - loss: 0.0330 - accuracy: 0.9852\n",
            "Epoch 88/100\n",
            "25/25 [==============================] - 0s 6ms/step - loss: 0.0236 - accuracy: 0.9888\n",
            "Epoch 89/100\n",
            "25/25 [==============================] - 0s 6ms/step - loss: 0.0333 - accuracy: 0.9818\n",
            "Epoch 90/100\n",
            "25/25 [==============================] - 0s 6ms/step - loss: 0.0289 - accuracy: 0.9836\n",
            "Epoch 91/100\n",
            "25/25 [==============================] - 0s 7ms/step - loss: 0.0317 - accuracy: 0.9820\n",
            "Epoch 92/100\n",
            "25/25 [==============================] - 0s 6ms/step - loss: 0.0296 - accuracy: 0.9870\n",
            "Epoch 93/100\n",
            "25/25 [==============================] - 0s 6ms/step - loss: 0.0326 - accuracy: 0.9844\n",
            "Epoch 94/100\n",
            "25/25 [==============================] - 0s 6ms/step - loss: 0.0275 - accuracy: 0.9869\n",
            "Epoch 95/100\n",
            "25/25 [==============================] - 0s 6ms/step - loss: 0.0319 - accuracy: 0.9801\n",
            "Epoch 96/100\n",
            "25/25 [==============================] - 0s 6ms/step - loss: 0.0299 - accuracy: 0.9852\n",
            "Epoch 97/100\n",
            "25/25 [==============================] - 0s 6ms/step - loss: 0.0304 - accuracy: 0.9834\n",
            "Epoch 98/100\n",
            "25/25 [==============================] - 0s 6ms/step - loss: 0.0266 - accuracy: 0.9866\n",
            "Epoch 99/100\n",
            "25/25 [==============================] - 0s 6ms/step - loss: 0.0244 - accuracy: 0.9871\n",
            "Epoch 100/100\n",
            "25/25 [==============================] - 0s 6ms/step - loss: 0.0340 - accuracy: 0.9781\n"
          ],
          "name": "stdout"
        },
        {
          "output_type": "execute_result",
          "data": {
            "text/plain": [
              "<tensorflow.python.keras.callbacks.History at 0x7f5e5c6b3050>"
            ]
          },
          "metadata": {
            "tags": []
          },
          "execution_count": 58
        }
      ]
    },
    {
      "cell_type": "code",
      "metadata": {
        "colab": {
          "base_uri": "https://localhost:8080/"
        },
        "id": "AEYOT5qdEl_g",
        "outputId": "8dfa9eb9-71ba-4f58-d45c-6ab90ec4ae7d"
      },
      "source": [
        "loss, accuracy = model.evaluate(X_test, y_test)\n",
        "loss, accuracy"
      ],
      "execution_count": 60,
      "outputs": [
        {
          "output_type": "stream",
          "text": [
            "7/7 [==============================] - 0s 3ms/step - loss: 1.4987 - accuracy: 0.7350\n"
          ],
          "name": "stdout"
        },
        {
          "output_type": "execute_result",
          "data": {
            "text/plain": [
              "(1.4986717700958252, 0.7350000143051147)"
            ]
          },
          "metadata": {
            "tags": []
          },
          "execution_count": 60
        }
      ]
    },
    {
      "cell_type": "code",
      "metadata": {
        "colab": {
          "base_uri": "https://localhost:8080/"
        },
        "id": "zeEz5ajaEn6B",
        "outputId": "72b93409-8d75-4afd-d4e9-dbc87973a96f"
      },
      "source": [
        "model.summary()"
      ],
      "execution_count": 61,
      "outputs": [
        {
          "output_type": "stream",
          "text": [
            "Model: \"sequential\"\n",
            "_________________________________________________________________\n",
            "Layer (type)                 Output Shape              Param #   \n",
            "=================================================================\n",
            "dense (Dense)                (None, 500)               234000    \n",
            "_________________________________________________________________\n",
            "dense_1 (Dense)              (None, 500)               250500    \n",
            "_________________________________________________________________\n",
            "dense_2 (Dense)              (None, 2)                 1002      \n",
            "=================================================================\n",
            "Total params: 485,502\n",
            "Trainable params: 485,502\n",
            "Non-trainable params: 0\n",
            "_________________________________________________________________\n"
          ],
          "name": "stdout"
        }
      ]
    },
    {
      "cell_type": "markdown",
      "metadata": {
        "id": "eSFMxVogIGmj"
      },
      "source": [
        "## Check confusion matrix"
      ]
    },
    {
      "cell_type": "code",
      "metadata": {
        "id": "GWOT9oNhJjT5"
      },
      "source": [
        "from sklearn.metrics import confusion_matrix"
      ],
      "execution_count": 62,
      "outputs": []
    },
    {
      "cell_type": "code",
      "metadata": {
        "id": "x4pCNAT4IFc1"
      },
      "source": [
        "Ytestpred = model.predict(X_test)"
      ],
      "execution_count": 63,
      "outputs": []
    },
    {
      "cell_type": "code",
      "metadata": {
        "colab": {
          "base_uri": "https://localhost:8080/"
        },
        "id": "J5lB3HThJXOA",
        "outputId": "c388157d-c911-4f91-e606-fd86bd658047"
      },
      "source": [
        "cmknn = confusion_matrix(y_test, y_test_pred)\n",
        "cmknn"
      ],
      "execution_count": 64,
      "outputs": [
        {
          "output_type": "execute_result",
          "data": {
            "text/plain": [
              "array([[70, 27],\n",
              "       [24, 79]])"
            ]
          },
          "metadata": {
            "tags": []
          },
          "execution_count": 64
        }
      ]
    },
    {
      "cell_type": "markdown",
      "metadata": {
        "id": "yEYPR9fyKPH3"
      },
      "source": [
        "## Check on samples"
      ]
    },
    {
      "cell_type": "code",
      "metadata": {
        "id": "8MYZKzzwFEhp"
      },
      "source": [
        "sample = [\"Good batting by England\"]"
      ],
      "execution_count": 65,
      "outputs": []
    },
    {
      "cell_type": "code",
      "metadata": {
        "id": "uRR2sqM1Gc-B"
      },
      "source": [
        "sample = vectorizer.transform(sample).toarray()"
      ],
      "execution_count": 66,
      "outputs": []
    },
    {
      "cell_type": "code",
      "metadata": {
        "colab": {
          "base_uri": "https://localhost:8080/"
        },
        "id": "FtWXABzEGhbR",
        "outputId": "72eb41b9-68c4-4236-b3ea-11532a4b6b44"
      },
      "source": [
        "sentiment = model.predict(sample)\n",
        "sentiment"
      ],
      "execution_count": 70,
      "outputs": [
        {
          "output_type": "execute_result",
          "data": {
            "text/plain": [
              "array([[0.2098132, 0.7901868]], dtype=float32)"
            ]
          },
          "metadata": {
            "tags": []
          },
          "execution_count": 70
        }
      ]
    },
    {
      "cell_type": "code",
      "metadata": {
        "colab": {
          "base_uri": "https://localhost:8080/"
        },
        "id": "Den-gV0nKRfk",
        "outputId": "74ed47fb-a6d5-4a1b-81c5-f0c5ddd0a781"
      },
      "source": [
        "np.argmax(sentiment)"
      ],
      "execution_count": 71,
      "outputs": [
        {
          "output_type": "execute_result",
          "data": {
            "text/plain": [
              "1"
            ]
          },
          "metadata": {
            "tags": []
          },
          "execution_count": 71
        }
      ]
    },
    {
      "cell_type": "code",
      "metadata": {
        "colab": {
          "base_uri": "https://localhost:8080/"
        },
        "id": "igy9nueEHbXP",
        "outputId": "9e88b859-f7d4-4751-acb7-c8c5fce12f0a"
      },
      "source": [
        "sample2 = [\"bad perfomance by India in the match\"]\n",
        "sample2 = vectorizer.transform(sample2).toarray()\n",
        "sentiment2 = model.predict(sample2)\n",
        "sentiment2"
      ],
      "execution_count": 72,
      "outputs": [
        {
          "output_type": "execute_result",
          "data": {
            "text/plain": [
              "array([[1.0000000e+00, 3.6861845e-08]], dtype=float32)"
            ]
          },
          "metadata": {
            "tags": []
          },
          "execution_count": 72
        }
      ]
    },
    {
      "cell_type": "code",
      "metadata": {
        "colab": {
          "base_uri": "https://localhost:8080/"
        },
        "id": "ppSwL_qTH6IA",
        "outputId": "1de2a4a4-eba4-43a9-aca2-f918ba5282e9"
      },
      "source": [
        "np.argmax(sentiment2)"
      ],
      "execution_count": 73,
      "outputs": [
        {
          "output_type": "execute_result",
          "data": {
            "text/plain": [
              "0"
            ]
          },
          "metadata": {
            "tags": []
          },
          "execution_count": 73
        }
      ]
    },
    {
      "cell_type": "markdown",
      "metadata": {
        "id": "eo8aMfePLjkQ"
      },
      "source": [
        "## Save model"
      ]
    },
    {
      "cell_type": "code",
      "metadata": {
        "colab": {
          "base_uri": "https://localhost:8080/"
        },
        "id": "_WSkOtMHLla-",
        "outputId": "06148188-903b-4043-fd26-2a1948da70e4"
      },
      "source": [
        "model.save('text_classifier_model/1')"
      ],
      "execution_count": 74,
      "outputs": [
        {
          "output_type": "stream",
          "text": [
            "INFO:tensorflow:Assets written to: text_classifier_model/1/assets\n"
          ],
          "name": "stdout"
        }
      ]
    },
    {
      "cell_type": "code",
      "metadata": {
        "id": "C560dS9gLnC7"
      },
      "source": [
        ""
      ],
      "execution_count": null,
      "outputs": []
    }
  ]
}