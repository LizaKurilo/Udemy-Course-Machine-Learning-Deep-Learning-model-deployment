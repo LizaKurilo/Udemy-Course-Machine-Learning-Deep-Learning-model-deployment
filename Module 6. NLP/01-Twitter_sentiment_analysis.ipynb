{
  "nbformat": 4,
  "nbformat_minor": 0,
  "metadata": {
    "colab": {
      "name": "Twitter_sentiment_analysis.ipynb",
      "provenance": []
    },
    "kernelspec": {
      "name": "python3",
      "display_name": "Python 3"
    },
    "language_info": {
      "name": "python"
    }
  },
  "cells": [
    {
      "cell_type": "markdown",
      "metadata": {
        "id": "WqJS9jSnq43h"
      },
      "source": [
        "## Download files"
      ]
    },
    {
      "cell_type": "code",
      "metadata": {
        "colab": {
          "base_uri": "https://localhost:8080/"
        },
        "id": "MC8QmWOpZcrP",
        "outputId": "4a4bcf14-9606-45aa-e99c-d57eb158ee22"
      },
      "source": [
        "! wget https://github.com/futurexskill/ml-model-deployment/raw/main/tfidfmodel.pickle"
      ],
      "execution_count": 1,
      "outputs": [
        {
          "output_type": "stream",
          "text": [
            "--2021-04-20 08:46:10--  https://github.com/futurexskill/ml-model-deployment/raw/main/tfidfmodel.pickle\n",
            "Resolving github.com (github.com)... 52.69.186.44\n",
            "Connecting to github.com (github.com)|52.69.186.44|:443... connected.\n",
            "HTTP request sent, awaiting response... 302 Found\n",
            "Location: https://raw.githubusercontent.com/futurexskill/ml-model-deployment/main/tfidfmodel.pickle [following]\n",
            "--2021-04-20 08:46:11--  https://raw.githubusercontent.com/futurexskill/ml-model-deployment/main/tfidfmodel.pickle\n",
            "Resolving raw.githubusercontent.com (raw.githubusercontent.com)... 185.199.110.133, 185.199.108.133, 185.199.111.133, ...\n",
            "Connecting to raw.githubusercontent.com (raw.githubusercontent.com)|185.199.110.133|:443... connected.\n",
            "HTTP request sent, awaiting response... 200 OK\n",
            "Length: 49660 (48K) [application/octet-stream]\n",
            "Saving to: ‘tfidfmodel.pickle.1’\n",
            "\n",
            "tfidfmodel.pickle.1 100%[===================>]  48.50K  --.-KB/s    in 0.01s   \n",
            "\n",
            "2021-04-20 08:46:11 (3.97 MB/s) - ‘tfidfmodel.pickle.1’ saved [49660/49660]\n",
            "\n"
          ],
          "name": "stdout"
        }
      ]
    },
    {
      "cell_type": "code",
      "metadata": {
        "colab": {
          "base_uri": "https://localhost:8080/"
        },
        "id": "xi1LTD-wcp3a",
        "outputId": "0e4ad8d6-17a9-450a-9b0f-9be7f3809349"
      },
      "source": [
        "! wget https://github.com/futurexskill/ml-model-deployment/raw/main/textclassifier.pickle"
      ],
      "execution_count": 2,
      "outputs": [
        {
          "output_type": "stream",
          "text": [
            "--2021-04-20 08:46:11--  https://github.com/futurexskill/ml-model-deployment/raw/main/textclassifier.pickle\n",
            "Resolving github.com (github.com)... 13.114.40.48\n",
            "Connecting to github.com (github.com)|13.114.40.48|:443... connected.\n",
            "HTTP request sent, awaiting response... 302 Found\n",
            "Location: https://raw.githubusercontent.com/futurexskill/ml-model-deployment/main/textclassifier.pickle [following]\n",
            "--2021-04-20 08:46:12--  https://raw.githubusercontent.com/futurexskill/ml-model-deployment/main/textclassifier.pickle\n",
            "Resolving raw.githubusercontent.com (raw.githubusercontent.com)... 185.199.110.133, 185.199.108.133, 185.199.109.133, ...\n",
            "Connecting to raw.githubusercontent.com (raw.githubusercontent.com)|185.199.110.133|:443... connected.\n",
            "HTTP request sent, awaiting response... 200 OK\n",
            "Length: 3235575 (3.1M) [application/octet-stream]\n",
            "Saving to: ‘textclassifier.pickle.1’\n",
            "\n",
            "textclassifier.pick 100%[===================>]   3.08M  19.4MB/s    in 0.2s    \n",
            "\n",
            "2021-04-20 08:46:13 (19.4 MB/s) - ‘textclassifier.pickle.1’ saved [3235575/3235575]\n",
            "\n"
          ],
          "name": "stdout"
        }
      ]
    },
    {
      "cell_type": "code",
      "metadata": {
        "colab": {
          "base_uri": "https://localhost:8080/"
        },
        "id": "UUQDTu5seoxI",
        "outputId": "4ca10e91-1bc4-49c5-bfa8-eebcf0a89c05"
      },
      "source": [
        "!ls"
      ],
      "execution_count": 3,
      "outputs": [
        {
          "output_type": "stream",
          "text": [
            "sample_data\t       textclassifier.pickle.1\ttfidfmodel.pickle.1\n",
            "textclassifier.pickle  tfidfmodel.pickle\n"
          ],
          "name": "stdout"
        }
      ]
    },
    {
      "cell_type": "markdown",
      "metadata": {
        "id": "OoHEe5c4q81p"
      },
      "source": [
        "## Connect to twitter and get tweets"
      ]
    },
    {
      "cell_type": "code",
      "metadata": {
        "id": "H--GgXj3fLan"
      },
      "source": [
        "import tweepy"
      ],
      "execution_count": 4,
      "outputs": []
    },
    {
      "cell_type": "code",
      "metadata": {
        "id": "aALd7lVhfOBx"
      },
      "source": [
        "consumer_key = '7HZMvRtHwYJdZbHFrL9tEWBMR'\n",
        "consumer_secret = 'qaxxnBMZc9m3bYarMm27lIa2GpYgbM5T3m8i6rNxIzYOQZUM2n'\n",
        "access_token = '1382840426-rxV0lhFSdD86Gzy8XjuO9IIkSkfDlofOguEop9d'\n",
        "access_secret = 'IkNHb227OxkHnN1gm5bdZ4abkThkQvAQADTHgVUi9CtHt'"
      ],
      "execution_count": 5,
      "outputs": []
    },
    {
      "cell_type": "code",
      "metadata": {
        "id": "qUGH-XB7fg8u"
      },
      "source": [
        "auth = tweepy.OAuthHandler(consumer_key, consumer_secret)\n",
        "auth.set_access_token(access_token, access_secret)"
      ],
      "execution_count": 6,
      "outputs": []
    },
    {
      "cell_type": "code",
      "metadata": {
        "id": "h9-qNfyqfugb"
      },
      "source": [
        "api = tweepy.API(auth, timeout=20)"
      ],
      "execution_count": 7,
      "outputs": []
    },
    {
      "cell_type": "code",
      "metadata": {
        "id": "Mt3cCCWNgQ2u"
      },
      "source": [
        "tweet_text = 'vaccine'\n"
      ],
      "execution_count": 8,
      "outputs": []
    },
    {
      "cell_type": "code",
      "metadata": {
        "id": "D7kp6BIlgaNt"
      },
      "source": [
        "tweets_list = []"
      ],
      "execution_count": 9,
      "outputs": []
    },
    {
      "cell_type": "code",
      "metadata": {
        "id": "hK-x2C53gdUq"
      },
      "source": [
        "for status in tweepy.Cursor(api.search, q=tweet_text, lang='en', result_type='recent').items(500):\n",
        "  tweets_list.append(status.text)"
      ],
      "execution_count": 10,
      "outputs": []
    },
    {
      "cell_type": "code",
      "metadata": {
        "colab": {
          "base_uri": "https://localhost:8080/"
        },
        "id": "4Hq0fq-ogxGJ",
        "outputId": "b00c810d-1d9d-4c21-8753-1409bec45b66"
      },
      "source": [
        "len(tweets_list)"
      ],
      "execution_count": 11,
      "outputs": [
        {
          "output_type": "execute_result",
          "data": {
            "text/plain": [
              "500"
            ]
          },
          "metadata": {
            "tags": []
          },
          "execution_count": 11
        }
      ]
    },
    {
      "cell_type": "code",
      "metadata": {
        "colab": {
          "base_uri": "https://localhost:8080/",
          "height": 37
        },
        "id": "LOU-5WFtg3i-",
        "outputId": "81c93227-58f3-41ec-cb1f-aafc8c2e95c9"
      },
      "source": [
        "tweets_list[10]"
      ],
      "execution_count": 12,
      "outputs": [
        {
          "output_type": "execute_result",
          "data": {
            "application/vnd.google.colaboratory.intrinsic+json": {
              "type": "string"
            },
            "text/plain": [
              "'RT @muglikar_: When Corona Virus had entered India last year, I had tweeted to Modi that we will need a vaccine.\\n\\nNot only Modi, but all sc…'"
            ]
          },
          "metadata": {
            "tags": []
          },
          "execution_count": 12
        }
      ]
    },
    {
      "cell_type": "markdown",
      "metadata": {
        "id": "pzD0yP9OrFRU"
      },
      "source": [
        "## Clean tweets and do sentiment analysis"
      ]
    },
    {
      "cell_type": "code",
      "metadata": {
        "id": "3vixEavAg6Ks"
      },
      "source": [
        "import re\n",
        "import pickle"
      ],
      "execution_count": 13,
      "outputs": []
    },
    {
      "cell_type": "code",
      "metadata": {
        "id": "Ew-tXMKLhenb"
      },
      "source": [
        "clean_tweets = tweets_list.copy()\n",
        "for i in range(len(tweets_list)):\n",
        "\n",
        "  tweet = tweets_list[i].lower()\n",
        "  # remove junk charactres\n",
        "  tweet = re.sub(r'\\W', ' ', tweet)\n",
        "  # remove one or more spaces\n",
        "  tweet = re.sub(r'\\s+', ' ', tweet)\n",
        "  # remove all chars except a to z and A to Z. Replace with a space\n",
        "  tweet = re.sub('[^a-zA-Z]', ' ', tweet)\n",
        "  \n",
        "  clean_tweets[i] = tweet"
      ],
      "execution_count": 14,
      "outputs": []
    },
    {
      "cell_type": "code",
      "metadata": {
        "colab": {
          "base_uri": "https://localhost:8080/",
          "height": 37
        },
        "id": "jI_hVWRCik2X",
        "outputId": "087ce1fe-5f22-4323-bf2c-f7b61d246fb6"
      },
      "source": [
        "clean_tweets[10]"
      ],
      "execution_count": 15,
      "outputs": [
        {
          "output_type": "execute_result",
          "data": {
            "application/vnd.google.colaboratory.intrinsic+json": {
              "type": "string"
            },
            "text/plain": [
              "'rt muglikar  when corona virus had entered india last year i had tweeted to modi that we will need a vaccine not only modi but all sc '"
            ]
          },
          "metadata": {
            "tags": []
          },
          "execution_count": 15
        }
      ]
    },
    {
      "cell_type": "code",
      "metadata": {
        "id": "PzDZ27nginqG"
      },
      "source": [
        "with open('textclassifier.pickle', 'rb') as file:\n",
        "  classifier = pickle.load(file)"
      ],
      "execution_count": 16,
      "outputs": []
    },
    {
      "cell_type": "code",
      "metadata": {
        "id": "l3e-PZX9jK4H"
      },
      "source": [
        "with open('tfidfmodel.pickle', 'rb') as file:\n",
        "  tfidf = pickle.load(file)"
      ],
      "execution_count": 17,
      "outputs": []
    },
    {
      "cell_type": "code",
      "metadata": {
        "id": "_m3aEqeVjQHW"
      },
      "source": [
        "positive_tweet = []\n",
        "negative_tweet = []"
      ],
      "execution_count": 18,
      "outputs": []
    },
    {
      "cell_type": "code",
      "metadata": {
        "id": "ZvSKQUnrjVfv"
      },
      "source": [
        "i = 0\n",
        "for tweet in clean_tweets:\n",
        "  sentiment = classifier.predict(tfidf.transform([tweet]).toarray())\n",
        "  if sentiment[0] == 1:\n",
        "    positive_tweet.append(i)\n",
        "  else:\n",
        "    negative_tweet.append(i)\n",
        "  i += 1"
      ],
      "execution_count": 19,
      "outputs": []
    },
    {
      "cell_type": "code",
      "metadata": {
        "colab": {
          "base_uri": "https://localhost:8080/"
        },
        "id": "wDiFjqUCnoRm",
        "outputId": "06e1cf5f-74ed-4fa6-b512-a763debaa812"
      },
      "source": [
        "len(positive_tweet), len(negative_tweet)"
      ],
      "execution_count": 20,
      "outputs": [
        {
          "output_type": "execute_result",
          "data": {
            "text/plain": [
              "(99, 401)"
            ]
          },
          "metadata": {
            "tags": []
          },
          "execution_count": 20
        }
      ]
    },
    {
      "cell_type": "code",
      "metadata": {
        "colab": {
          "base_uri": "https://localhost:8080/",
          "height": 37
        },
        "id": "JNWgP7V2aFIH",
        "outputId": "37416d5a-6853-4c59-9374-d659a64ab2ae"
      },
      "source": [
        "tweets_list[positive_tweet[10]]"
      ],
      "execution_count": 21,
      "outputs": [
        {
          "output_type": "execute_result",
          "data": {
            "application/vnd.google.colaboratory.intrinsic+json": {
              "type": "string"
            },
            "text/plain": [
              "'RT @kylegriffin1: Fauci to CBS on vaccine skeptics: \"The ones that keep saying you\\'re encroaching on our liberties by asking us to wear mas…'"
            ]
          },
          "metadata": {
            "tags": []
          },
          "execution_count": 21
        }
      ]
    },
    {
      "cell_type": "markdown",
      "metadata": {
        "id": "rtcjqdgIrM2j"
      },
      "source": [
        "## Try to get better result with stemming"
      ]
    },
    {
      "cell_type": "code",
      "metadata": {
        "id": "7WG-JHWRpNeW"
      },
      "source": [
        "from nltk.corpus import stopwords\n",
        "from nltk.stem.porter import PorterStemmer"
      ],
      "execution_count": 22,
      "outputs": []
    },
    {
      "cell_type": "code",
      "metadata": {
        "id": "3A6S2HDypouW"
      },
      "source": [
        "import nltk\n",
        "nltk.download('all')"
      ],
      "execution_count": 24,
      "outputs": []
    },
    {
      "cell_type": "code",
      "metadata": {
        "id": "m1SVL3DkntA8"
      },
      "source": [
        "ps = PorterStemmer()\n",
        "clean_tweets_1 = tweets_list.copy()\n",
        "for i in range(len(tweets_list)):\n",
        "\n",
        "  tweet = tweets_list[i].lower()\n",
        "  # remove junk charactres\n",
        "  tweet = re.sub(r'\\W', ' ', tweet)\n",
        "  # remove one or more spaces\n",
        "  tweet = re.sub(r'\\s+', ' ', tweet)\n",
        "  # remove all chars except a to z and A to Z. Replace with a space\n",
        "  tweet = re.sub('[^a-zA-Z]', ' ', tweet)\n",
        "  tweet = re.sub(' +', ' ', tweet)\n",
        "  tweet = tweet.split()\n",
        "  tweet = [ps.stem(word) for word in tweet if not word in set(stopwords.words(\"english\"))]\n",
        "  tweet = \" \".join(tweet)\n",
        "  \n",
        "  clean_tweets_1[i] = tweet"
      ],
      "execution_count": 25,
      "outputs": []
    },
    {
      "cell_type": "code",
      "metadata": {
        "colab": {
          "base_uri": "https://localhost:8080/"
        },
        "id": "I3PxJ4aFqmX5",
        "outputId": "f5722b8e-a0ff-4cb7-815a-d3a898183dff"
      },
      "source": [
        "len(clean_tweets_1)"
      ],
      "execution_count": 26,
      "outputs": [
        {
          "output_type": "execute_result",
          "data": {
            "text/plain": [
              "500"
            ]
          },
          "metadata": {
            "tags": []
          },
          "execution_count": 26
        }
      ]
    },
    {
      "cell_type": "code",
      "metadata": {
        "colab": {
          "base_uri": "https://localhost:8080/",
          "height": 37
        },
        "id": "nK6JOAqPpKLK",
        "outputId": "030b79ae-efd3-4b6b-e17f-c48b706e68bf"
      },
      "source": [
        "clean_tweets_1[10]"
      ],
      "execution_count": 27,
      "outputs": [
        {
          "output_type": "execute_result",
          "data": {
            "application/vnd.google.colaboratory.intrinsic+json": {
              "type": "string"
            },
            "text/plain": [
              "'rt muglikar corona viru enter india last year tweet modi need vaccin modi sc'"
            ]
          },
          "metadata": {
            "tags": []
          },
          "execution_count": 27
        }
      ]
    },
    {
      "cell_type": "code",
      "metadata": {
        "colab": {
          "base_uri": "https://localhost:8080/",
          "height": 37
        },
        "id": "95McAPmBqHQJ",
        "outputId": "e1823527-33ba-49de-b1af-73c5085f355d"
      },
      "source": [
        "clean_tweets[10]"
      ],
      "execution_count": 28,
      "outputs": [
        {
          "output_type": "execute_result",
          "data": {
            "application/vnd.google.colaboratory.intrinsic+json": {
              "type": "string"
            },
            "text/plain": [
              "'rt muglikar  when corona virus had entered india last year i had tweeted to modi that we will need a vaccine not only modi but all sc '"
            ]
          },
          "metadata": {
            "tags": []
          },
          "execution_count": 28
        }
      ]
    },
    {
      "cell_type": "code",
      "metadata": {
        "id": "x8FBVasDqLHQ"
      },
      "source": [
        "positive_tweet_1 = []\n",
        "negative_tweet_1 = []\n",
        "\n",
        "i = 0\n",
        "for tweet in clean_tweets_1:\n",
        "  sentiment = classifier.predict(tfidf.transform([tweet]).toarray())\n",
        "  if sentiment[0] == 1:\n",
        "    positive_tweet_1.append(i)\n",
        "  else:\n",
        "    negative_tweet_1.append(i)\n",
        "  i += 1"
      ],
      "execution_count": 29,
      "outputs": []
    },
    {
      "cell_type": "code",
      "metadata": {
        "colab": {
          "base_uri": "https://localhost:8080/"
        },
        "id": "0TD8Pxuvqt2T",
        "outputId": "198f841b-d27a-4b9d-ae77-5fdf4a934442"
      },
      "source": [
        "len(positive_tweet_1), len(negative_tweet_1)"
      ],
      "execution_count": 30,
      "outputs": [
        {
          "output_type": "execute_result",
          "data": {
            "text/plain": [
              "(110, 390)"
            ]
          },
          "metadata": {
            "tags": []
          },
          "execution_count": 30
        }
      ]
    },
    {
      "cell_type": "code",
      "metadata": {
        "colab": {
          "base_uri": "https://localhost:8080/"
        },
        "id": "UPCSt36uqv1J",
        "outputId": "504b36cf-8cd5-4bd1-e8c1-58bff93cef37"
      },
      "source": [
        "for i in (set(positive_tweet_1) - set(positive_tweet)):\n",
        "  print(f\"Positive tweet: {tweets_list[i]}\")\n",
        "  "
      ],
      "execution_count": 31,
      "outputs": [
        {
          "output_type": "stream",
          "text": [
            "Positive tweet: @BorisJohnson \n",
            "\n",
            "Do not be telling us there are delays to the roadmap. \n",
            "\n",
            "The uk has had enough, the vaccine is out t… https://t.co/Vv1NRjYuM6\n",
            "Positive tweet: RT @GhatakMoloy: India will never forgive PM @narendramodi for underplaying the corona situation in the country and letting so many people…\n",
            "Positive tweet: RT @FallonTonight: Tonight’s Monologue: @BTS_twt is officially collaborating with McDonald’s, the Biden administration is rolling out vacci…\n",
            "Positive tweet: @Craig12940777 @trixasis2 Why is every single person getting vaccinated, if the Covid vaccine was approved for EMER… https://t.co/cJLV8blGjw\n",
            "Positive tweet: RT @FallonTonight: Tonight’s Monologue: @BTS_twt is officially collaborating with McDonald’s, the Biden administration is rolling out vacci…\n",
            "Positive tweet: RT @JoeBiden: Today, every adult is eligible to get a COVID-19 vaccine. Better days are ahead.\n",
            "Positive tweet: RT @cosmo_ph: \"Jump at the chance to get the vaccine—any brand. Protect yourself and your family now.\"\n",
            "https://t.co/IozXWbsGty\n",
            "Positive tweet: RT @vijaychinthak: If you want to understand the future,you need to create it\" and he has been doing that since then. The life saving vacci…\n",
            "Positive tweet: RT @jane_janekeane: Fully vaccinated. Whoop!  Whoop! Thank you NHS for speedy delivery of the vaccine programme. And my goodness, Barley Co…\n",
            "Positive tweet: RT @GauravPandhi: If Fadnavis's nephew has got vaccine, this means the under 45 kids &amp; families of many rich &amp; powerful too would have got…\n",
            "Positive tweet: RT @FallonTonight: Tonight’s Monologue: @BTS_twt is officially collaborating with McDonald’s, the Biden administration is rolling out vacci…\n",
            "Positive tweet: RT @JoeBiden: Today, every adult is eligible to get a COVID-19 vaccine. Better days are ahead.\n",
            "Positive tweet: RT @FallonTonight: Tonight’s Monologue: @BTS_twt is officially collaborating with McDonald’s, the Biden administration is rolling out vacci…\n",
            "Positive tweet: @dsen68 Also Akhilesh Yadav. Suspecting the vaccine and playing to his vote bank\n",
            "Positive tweet: RT @FallonTonight: Tonight’s Monologue: @BTS_twt is officially collaborating with McDonald’s, the Biden administration is rolling out vacci…\n",
            "Positive tweet: Just got the 1st vaccine! Sebentar lagi bisa party!!\n",
            "Positive tweet: RT @nytimes: She’s 18 and developed blood clots in her brain after receiving a Johnson &amp; Johnson coronavirus vaccine. Here’s what happened.…\n",
            "Positive tweet: RT @PsyOpValkyrie: The vaccine plan once implemented NEEDS to be free  of cost.\n",
            "\n",
            "India's per capita income is Rs.11k per month and that was…\n",
            "Positive tweet: RT @JoeBiden: Today, every adult is eligible to get a COVID-19 vaccine. Better days are ahead.\n",
            "Positive tweet: It's not about a disease. It's about a mass vaccine experiment. https://t.co/I5HH1zOcNI\n",
            "Positive tweet: RT @PsyOpValkyrie: The vaccine plan once implemented NEEDS to be free  of cost.\n",
            "\n",
            "India's per capita income is Rs.11k per month and that was…\n",
            "Positive tweet: RT @JoeBiden: Today, every adult is eligible to get a COVID-19 vaccine. Better days are ahead.\n",
            "Positive tweet: RT @celebrityradio: First, no resuscitation for care home silver tops &amp; the disabled.\n",
            "\n",
            "Carers “Held Down” 🤬 Distressed Care Home Residents…\n",
            "Positive tweet: RT @JoeBiden: Today, every adult is eligible to get a COVID-19 vaccine. Better days are ahead.\n",
            "Positive tweet: RT @JoeBiden: Today, every adult is eligible to get a COVID-19 vaccine. Better days are ahead.\n",
            "Positive tweet: RT @FallonTonight: Tonight’s Monologue: @BTS_twt is officially collaborating with McDonald’s, the Biden administration is rolling out vacci…\n",
            "Positive tweet: RT @GauravPandhi: If Fadnavis's nephew has got vaccine, this means the under 45 kids &amp; families of many rich &amp; powerful too would have got…\n",
            "Positive tweet: RT @Neville27910284: @Craig12940777 @trixasis2 Why is every single person getting vaccinated, if the Covid vaccine was approved for EMERGEN…\n",
            "Positive tweet: RT @FallonTonight: Tonight’s Monologue: @BTS_twt is officially collaborating with McDonald’s, the Biden administration is rolling out vacci…\n",
            "Positive tweet: Fake news experts in kerala media making people panic by fearmongering reports on vaccine shortages . The same chan… https://t.co/ky7atL4Vbk\n",
            "Positive tweet: RT @FallonTonight: Tonight’s Monologue: @BTS_twt is officially collaborating with McDonald’s, the Biden administration is rolling out vacci…\n",
            "Positive tweet: RT @celebrityradio: First, no resuscitation for care home silver tops &amp; the disabled.\n",
            "\n",
            "Carers “Held Down” 🤬 Distressed Care Home Residents…\n",
            "Positive tweet: RT @vijaychinthak: If you want to understand the future,you need to create it\" and he has been doing that since then. The life saving vacci…\n"
          ],
          "name": "stdout"
        }
      ]
    },
    {
      "cell_type": "code",
      "metadata": {
        "id": "4AiFaXUJevpd"
      },
      "source": [
        ""
      ],
      "execution_count": null,
      "outputs": []
    }
  ]
}