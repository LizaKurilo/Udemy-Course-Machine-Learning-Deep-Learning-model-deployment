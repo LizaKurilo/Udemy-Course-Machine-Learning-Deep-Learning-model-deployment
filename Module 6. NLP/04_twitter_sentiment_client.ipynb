{
  "nbformat": 4,
  "nbformat_minor": 0,
  "metadata": {
    "colab": {
      "name": "04-twitter_sentiment_client.ipynb",
      "provenance": []
    },
    "kernelspec": {
      "name": "python3",
      "display_name": "Python 3"
    },
    "language_info": {
      "name": "python"
    }
  },
  "cells": [
    {
      "cell_type": "markdown",
      "metadata": {
        "id": "kxXkwqispSWy"
      },
      "source": [
        "## Get tweets with Twitter API"
      ]
    },
    {
      "cell_type": "code",
      "metadata": {
        "id": "5OOTVdRvmckE"
      },
      "source": [
        "import tweepy"
      ],
      "execution_count": 1,
      "outputs": []
    },
    {
      "cell_type": "code",
      "metadata": {
        "id": "9yxYAWMEmhef"
      },
      "source": [
        "consumer_key = '7HZMvRtHwYJdZbHFrL9tEWBMR'\n",
        "consumer_secret = 'qaxxnBMZc9m3bYarMm27lIa2GpYgbM5T3m8i6rNxIzYOQZUM2n'\n",
        "access_token = '1382840426-rxV0lhFSdD86Gzy8XjuO9IIkSkfDlofOguEop9d'\n",
        "access_secret = 'IkNHb227OxkHnN1gm5bdZ4abkThkQvAQADTHgVUi9CtHt'"
      ],
      "execution_count": 2,
      "outputs": []
    },
    {
      "cell_type": "code",
      "metadata": {
        "id": "svId5Ey6mjY2"
      },
      "source": [
        "auth = tweepy.OAuthHandler(consumer_key, consumer_secret)\n",
        "auth.set_access_token(access_token, access_secret)"
      ],
      "execution_count": 3,
      "outputs": []
    },
    {
      "cell_type": "code",
      "metadata": {
        "id": "-y55SiElmlh9"
      },
      "source": [
        "api = tweepy.API(auth, timeout=20)"
      ],
      "execution_count": 4,
      "outputs": []
    },
    {
      "cell_type": "code",
      "metadata": {
        "id": "iWbdVEr7mm4E"
      },
      "source": [
        "tweet_text = 'vaccine'"
      ],
      "execution_count": 5,
      "outputs": []
    },
    {
      "cell_type": "code",
      "metadata": {
        "id": "Kjo_7FhJmplr"
      },
      "source": [
        "tweets_list = []\n",
        "for status in tweepy.Cursor(api.search, q=tweet_text, lang='en', result_type='recent').items(500):\n",
        "  tweets_list.append(status.text)"
      ],
      "execution_count": 6,
      "outputs": []
    },
    {
      "cell_type": "code",
      "metadata": {
        "colab": {
          "base_uri": "https://localhost:8080/"
        },
        "id": "ThfGfes3muP8",
        "outputId": "e03ed877-0c6d-4af7-9744-7209d3b9d78b"
      },
      "source": [
        "len(tweets_list)"
      ],
      "execution_count": 7,
      "outputs": [
        {
          "output_type": "execute_result",
          "data": {
            "text/plain": [
              "500"
            ]
          },
          "metadata": {
            "tags": []
          },
          "execution_count": 7
        }
      ]
    },
    {
      "cell_type": "code",
      "metadata": {
        "colab": {
          "base_uri": "https://localhost:8080/",
          "height": 37
        },
        "id": "KpKxCqrSmxK0",
        "outputId": "fbb69dfb-610c-495c-97a9-a5b2c2a321ff"
      },
      "source": [
        "tweets_list[30]"
      ],
      "execution_count": 8,
      "outputs": [
        {
          "output_type": "execute_result",
          "data": {
            "application/vnd.google.colaboratory.intrinsic+json": {
              "type": "string"
            },
            "text/plain": [
              "'RT @joncoopertweets: Ted Nugent has announced that he’s fallen badly sick with COVID-19. Since the pandemic began last year, Nugent has des…'"
            ]
          },
          "metadata": {
            "tags": []
          },
          "execution_count": 8
        }
      ]
    },
    {
      "cell_type": "markdown",
      "metadata": {
        "id": "DLFq1Vz_pX-Y"
      },
      "source": [
        "## Clean tweets"
      ]
    },
    {
      "cell_type": "code",
      "metadata": {
        "id": "yIcd2ZNom0Bp"
      },
      "source": [
        "import re\n",
        "import pickle"
      ],
      "execution_count": 9,
      "outputs": []
    },
    {
      "cell_type": "code",
      "metadata": {
        "id": "-SuzB9EAm2Y7"
      },
      "source": [
        "clean_tweets = tweets_list.copy()\n",
        "for i in range(len(tweets_list)):\n",
        "\n",
        "  tweet = tweets_list[i].lower()\n",
        "  # remove junk charactres\n",
        "  tweet = re.sub(r'\\W', ' ', tweet)\n",
        "  # remove one or more spaces\n",
        "  tweet = re.sub(r'\\s+', ' ', tweet)\n",
        "  # remove all chars except a to z and A to Z. Replace with a space\n",
        "  tweet = re.sub('[^a-zA-Z]', ' ', tweet)\n",
        "  \n",
        "  clean_tweets[i] = tweet"
      ],
      "execution_count": 10,
      "outputs": []
    },
    {
      "cell_type": "markdown",
      "metadata": {
        "id": "TJHO_yNLpaP9"
      },
      "source": [
        "## Predict sentiment via server"
      ]
    },
    {
      "cell_type": "code",
      "metadata": {
        "id": "kyrCcwJznjXr"
      },
      "source": [
        "import json\n",
        "import requests"
      ],
      "execution_count": 11,
      "outputs": []
    },
    {
      "cell_type": "code",
      "metadata": {
        "id": "8bDvV_Hwnuqx"
      },
      "source": [
        "url = 'http://c07dd9d2f3b2.ngrok.io/predict'"
      ],
      "execution_count": 15,
      "outputs": []
    },
    {
      "cell_type": "code",
      "metadata": {
        "id": "JeFaRw7TnutX"
      },
      "source": [
        ""
      ],
      "execution_count": 15,
      "outputs": []
    },
    {
      "cell_type": "code",
      "metadata": {
        "id": "9XnO3Arxm3fZ"
      },
      "source": [
        "positive_tweet = []\n",
        "negative_tweet = []\n",
        "\n",
        "\n",
        "i = 0\n",
        "for tweet in clean_tweets:\n",
        "  request_data = json.dumps({'sentence': tweet})\n",
        "  response = requests.post(url, request_data)\n",
        "  sentiment = response.text\n",
        "  if sentiment == 'The prediction is positive':\n",
        "    positive_tweet.append(i)\n",
        "  else:\n",
        "    negative_tweet.append(i)\n",
        "  i += 1"
      ],
      "execution_count": 16,
      "outputs": []
    },
    {
      "cell_type": "code",
      "metadata": {
        "colab": {
          "base_uri": "https://localhost:8080/"
        },
        "id": "HTZWxTvHoG8w",
        "outputId": "20e74971-ffd3-417a-89bc-71c30cba65e7"
      },
      "source": [
        "len(positive_tweet), len(negative_tweet)"
      ],
      "execution_count": 17,
      "outputs": [
        {
          "output_type": "execute_result",
          "data": {
            "text/plain": [
              "(16, 484)"
            ]
          },
          "metadata": {
            "tags": []
          },
          "execution_count": 17
        }
      ]
    },
    {
      "cell_type": "code",
      "metadata": {
        "colab": {
          "base_uri": "https://localhost:8080/"
        },
        "id": "9FEx7Dumo-El",
        "outputId": "8c6d6bc6-0f79-49df-e30b-cc6ad1d51b5e"
      },
      "source": [
        "print('Positive tweets: ')\n",
        "for i in positive_tweet:\n",
        "  print(f\"Tweet: {tweets_list[i]}\")"
      ],
      "execution_count": 18,
      "outputs": [
        {
          "output_type": "stream",
          "text": [
            "Positive tweets: \n",
            "Tweet: Getting my second Covid vaccine today - WHOO! - and there's an oh-so-edgy dude down the way from me wearing a mask… https://t.co/B8LKQABGPl\n",
            "Tweet: Doc told me not to go to the gym today bc it’s no good for the vaccine :( https://t.co/rzGX4W4O1n\n",
            "Tweet: RT @YardleyShooting: Does anyone know of specific medication/s being given to counter vaccine side effects?\n",
            "Tweet: I mentioned some time ago my employer might be doing gift cards to incentivize getting the vaccine.....\n",
            "\n",
            "That is actually happening now.\n",
            "Tweet: RT @rajshekharTOI: Jan 9: vaccine announced in India\n",
            "Jan 16: Drive kicks off for healthcare/frontline wrkrs\n",
            "Feb 1st week - simultaneous Vac…\n",
            "Tweet: RT @lmlauramarsh: On the phone with them now. I told them by law the vaccine is free. They said, the shot itself is free but the administra…\n",
            "Tweet: RT @Vijayabaskarofl: Today, we received 6 lakh doses of Covid vaccine that shall be distributed across all vaccine centres. On behalf of Ho…\n",
            "Tweet: RT @IanSams: NEW POLL &gt;&gt; 88% of Americans say the J&amp;J pause was the right call\n",
            "\n",
            "“Republicans were almost as likely to support the pause as…\n",
            "Tweet: RT @JoeBiden: Today, every adult is eligible to get a COVID-19 vaccine. Better days are ahead.\n",
            "Tweet: RT @TravisAllen02: If you don’t need a vaccine because God will protect you, then why do you need a gun?\n",
            "Tweet: RT @PleaseBeGneiss: nurse giving me vaccine: be sure you drink lots of fluids\n",
            "\n",
            "me: that’s literally all i drink\n",
            "Tweet: RT @POTUS: As of today, every American is eligible to receive the COVID-19 vaccine. For yourself, your neighbors, and your family — please,…\n",
            "Tweet: RT @LexyPanterra: I repeat !!!!  I am not getting the fucking vaccine !!  AND THERE IS NO WAY THE WORLD CAN TELL US WE HAVE TO! What is thi…\n",
            "Tweet: @BarryHeeney @lorrain00414525 @M0N57A People with no underlying conditions, receive jab then die soon afterwards. T… https://t.co/Sk40LwTwTN\n",
            "Tweet: Not quite tired yet, but need to sleep soon since I have to get up in about 8 hours so I have time to eat/drink a t… https://t.co/B7BEFVClFI\n",
            "Tweet: RT @Vijayabaskarofl: Today, we received 6 lakh doses of Covid vaccine that shall be distributed across all vaccine centres. On behalf of Ho…\n"
          ],
          "name": "stdout"
        }
      ]
    },
    {
      "cell_type": "code",
      "metadata": {
        "id": "Wb-pQtgxpIcE"
      },
      "source": [
        ""
      ],
      "execution_count": null,
      "outputs": []
    }
  ]
}