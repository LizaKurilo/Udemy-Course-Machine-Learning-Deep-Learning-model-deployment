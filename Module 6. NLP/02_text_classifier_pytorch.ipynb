{
  "nbformat": 4,
  "nbformat_minor": 0,
  "metadata": {
    "colab": {
      "name": "03-text_classifier_pytorch.ipynb",
      "provenance": [],
      "toc_visible": true
    },
    "kernelspec": {
      "name": "python3",
      "display_name": "Python 3"
    },
    "language_info": {
      "name": "python"
    }
  },
  "cells": [
    {
      "cell_type": "markdown",
      "metadata": {
        "id": "2ortp_7qL3E4"
      },
      "source": [
        "## Imports"
      ]
    },
    {
      "cell_type": "code",
      "metadata": {
        "id": "tjkYibcm9bem"
      },
      "source": [
        "import nltk"
      ],
      "execution_count": 1,
      "outputs": []
    },
    {
      "cell_type": "code",
      "metadata": {
        "id": "sBFoSDbw9kOZ"
      },
      "source": [
        "nltk.download('all')"
      ],
      "execution_count": 3,
      "outputs": []
    },
    {
      "cell_type": "code",
      "metadata": {
        "id": "dZ9Jns2S9s2z"
      },
      "source": [
        "import numpy as np\n",
        "import pandas as pd"
      ],
      "execution_count": 4,
      "outputs": []
    },
    {
      "cell_type": "code",
      "metadata": {
        "id": "AKirGXHx-BNm"
      },
      "source": [
        "import re"
      ],
      "execution_count": 5,
      "outputs": []
    },
    {
      "cell_type": "code",
      "metadata": {
        "id": "n7OrbhKQ97hM"
      },
      "source": [
        "from nltk.corpus import stopwords\n",
        "from nltk.stem.porter import PorterStemmer"
      ],
      "execution_count": 6,
      "outputs": []
    },
    {
      "cell_type": "code",
      "metadata": {
        "id": "D-y7L6V1-MGx"
      },
      "source": [
        "from sklearn.feature_extraction.text import TfidfVectorizer"
      ],
      "execution_count": 7,
      "outputs": []
    },
    {
      "cell_type": "code",
      "metadata": {
        "id": "Ex9ucuXr-Z8K"
      },
      "source": [
        "from sklearn.model_selection import train_test_split"
      ],
      "execution_count": 8,
      "outputs": []
    },
    {
      "cell_type": "markdown",
      "metadata": {
        "id": "JMMgmqEHJ5XS"
      },
      "source": [
        "## Dataset prepearing\n",
        "\n",
        "1 - positive class \\\n",
        "0 - negative class"
      ]
    },
    {
      "cell_type": "code",
      "metadata": {
        "id": "ObuMK2um9mqW"
      },
      "source": [
        "dataset = pd.read_csv('https://raw.githubusercontent.com/futurexskill/ml-model-deployment/main/Restaurant_Reviews.tsv.txt', delimiter=\"\\t\", quoting=3)"
      ],
      "execution_count": 10,
      "outputs": []
    },
    {
      "cell_type": "code",
      "metadata": {
        "id": "Btw2Ofu094Ak"
      },
      "source": [
        "ps = PorterStemmer()"
      ],
      "execution_count": 11,
      "outputs": []
    },
    {
      "cell_type": "code",
      "metadata": {
        "id": "e-sN-_T_9-Kq"
      },
      "source": [
        "corpus = []\n",
        "for i in range(0,1000):\n",
        "  customer_review = re.sub('[^a-zA-Z]', ' ', dataset['Review'][i].lower())\n",
        "  customer_review = customer_review.split()\n",
        "  clean_review = [ps.stem(word) for word in customer_review if not word in set(stopwords.words(\"english\"))]\n",
        "  clean_review = ' '.join(clean_review)\n",
        "  corpus.append(clean_review)"
      ],
      "execution_count": 12,
      "outputs": []
    },
    {
      "cell_type": "code",
      "metadata": {
        "id": "8PtmuMY2-DND"
      },
      "source": [
        "vectorizer = TfidfVectorizer(max_features=1500, min_df=3, max_df=0.6)"
      ],
      "execution_count": 13,
      "outputs": []
    },
    {
      "cell_type": "code",
      "metadata": {
        "id": "rGAe91at-I2J"
      },
      "source": [
        "X = vectorizer.fit_transform(corpus).toarray()"
      ],
      "execution_count": 14,
      "outputs": []
    },
    {
      "cell_type": "code",
      "metadata": {
        "id": "CJM_X_Go-P6B"
      },
      "source": [
        "y = dataset.iloc[:, 1].values"
      ],
      "execution_count": 15,
      "outputs": []
    },
    {
      "cell_type": "code",
      "metadata": {
        "id": "N_0woFC9-RBA"
      },
      "source": [
        "X_train, X_test, y_train, y_test = train_test_split(X, y, test_size=0.2, random_state=0)"
      ],
      "execution_count": 16,
      "outputs": []
    },
    {
      "cell_type": "markdown",
      "metadata": {
        "id": "mcVVsY5b-b0Z"
      },
      "source": [
        "## Torch Modelling"
      ]
    },
    {
      "cell_type": "code",
      "metadata": {
        "id": "JvjS3CfI-eb9"
      },
      "source": [
        "import torch\n",
        "import torch.nn as nn\n",
        "from torch.nn import functional as F"
      ],
      "execution_count": 17,
      "outputs": []
    },
    {
      "cell_type": "code",
      "metadata": {
        "id": "oxzHJVFmERzF"
      },
      "source": [
        "import torch.optim as optim"
      ],
      "execution_count": 18,
      "outputs": []
    },
    {
      "cell_type": "code",
      "metadata": {
        "id": "Yx5PeQOE-mLe"
      },
      "source": [
        "Xtrain_ = torch.from_numpy(X_train).float()\n",
        "Xtest_ = torch.from_numpy(X_test).float()"
      ],
      "execution_count": 19,
      "outputs": []
    },
    {
      "cell_type": "code",
      "metadata": {
        "id": "cdu8GGGb-ugV"
      },
      "source": [
        "ytrain_ = torch.from_numpy(y_train)\n",
        "ytest_ = torch.from_numpy(y_test)"
      ],
      "execution_count": 20,
      "outputs": []
    },
    {
      "cell_type": "code",
      "metadata": {
        "colab": {
          "base_uri": "https://localhost:8080/"
        },
        "id": "UYPdEJxt-3Ui",
        "outputId": "703103d0-52d2-4e59-c35e-eb5c4b678230"
      },
      "source": [
        "Xtrain_.shape, ytrain_.shape"
      ],
      "execution_count": 21,
      "outputs": [
        {
          "output_type": "execute_result",
          "data": {
            "text/plain": [
              "(torch.Size([800, 467]), torch.Size([800]))"
            ]
          },
          "metadata": {
            "tags": []
          },
          "execution_count": 21
        }
      ]
    },
    {
      "cell_type": "code",
      "metadata": {
        "colab": {
          "base_uri": "https://localhost:8080/"
        },
        "id": "_3F6VYl9-9th",
        "outputId": "fb60cda8-76a5-4b90-f89a-451927f774b2"
      },
      "source": [
        "Xtest_.shape, ytest_.shape"
      ],
      "execution_count": 22,
      "outputs": [
        {
          "output_type": "execute_result",
          "data": {
            "text/plain": [
              "(torch.Size([200, 467]), torch.Size([200]))"
            ]
          },
          "metadata": {
            "tags": []
          },
          "execution_count": 22
        }
      ]
    },
    {
      "cell_type": "code",
      "metadata": {
        "id": "NmFwTYMV_Akx"
      },
      "source": [
        "input_size = Xtrain_.shape[1] # 467\n",
        "output_size = 2 # 2 classes\n",
        "hidden_size = 500"
      ],
      "execution_count": 23,
      "outputs": []
    },
    {
      "cell_type": "code",
      "metadata": {
        "id": "HgPcr3ec_Z_1"
      },
      "source": [
        "class Net(nn.Module):\n",
        "  def __init__(self):\n",
        "    super(Net, self).__init__()\n",
        "    self.fc1 = torch.nn.Linear(input_size, hidden_size)\n",
        "    self.fc2 = torch.nn.Linear(hidden_size, hidden_size)\n",
        "    self.fc3 = torch.nn.Linear(hidden_size, output_size)\n",
        "\n",
        "  def forward(self, X):\n",
        "    X = torch.relu((self.fc1(X)))\n",
        "    X = torch.relu((self.fc2(X)))\n",
        "    X = self.fc3(X)\n",
        "\n",
        "    return F.log_softmax(X, dim=1)"
      ],
      "execution_count": 24,
      "outputs": []
    },
    {
      "cell_type": "code",
      "metadata": {
        "id": "s1NGSQ4eEO64"
      },
      "source": [
        "model = Net()"
      ],
      "execution_count": 25,
      "outputs": []
    },
    {
      "cell_type": "code",
      "metadata": {
        "id": "S5um6xjAEQue"
      },
      "source": [
        "optimizer = torch.optim.Adam(model.parameters(), lr=0.01)\n",
        "loss_fn = nn.NLLLoss()"
      ],
      "execution_count": 26,
      "outputs": []
    },
    {
      "cell_type": "code",
      "metadata": {
        "id": "AEYOT5qdEl_g"
      },
      "source": [
        "epochs = 100"
      ],
      "execution_count": 27,
      "outputs": []
    },
    {
      "cell_type": "code",
      "metadata": {
        "colab": {
          "base_uri": "https://localhost:8080/"
        },
        "id": "zeEz5ajaEn6B",
        "outputId": "f018e32f-6aa6-4f80-eef0-2a2396ac6802"
      },
      "source": [
        "for epoch in range(epochs):\n",
        "  optimizer.zero_grad()\n",
        "  Ypred = model(Xtrain_)\n",
        "  loss = loss_fn(Ypred, ytrain_)\n",
        "  loss.backward()\n",
        "  optimizer.step()\n",
        "  print(f\"Epoch: {epoch}, loss: {loss.item()}\")"
      ],
      "execution_count": 28,
      "outputs": [
        {
          "output_type": "stream",
          "text": [
            "Epoch: 0, loss: 0.6931762099266052\n",
            "Epoch: 1, loss: 0.6676128506660461\n",
            "Epoch: 2, loss: 0.518437385559082\n",
            "Epoch: 3, loss: 0.33773723244667053\n",
            "Epoch: 4, loss: 0.2016667127609253\n",
            "Epoch: 5, loss: 0.1341266930103302\n",
            "Epoch: 6, loss: 0.10079258680343628\n",
            "Epoch: 7, loss: 0.07605332881212234\n",
            "Epoch: 8, loss: 0.0645371824502945\n",
            "Epoch: 9, loss: 0.049057699739933014\n",
            "Epoch: 10, loss: 0.04135501757264137\n",
            "Epoch: 11, loss: 0.047503501176834106\n",
            "Epoch: 12, loss: 0.03359709680080414\n",
            "Epoch: 13, loss: 0.03727592155337334\n",
            "Epoch: 14, loss: 0.036070212721824646\n",
            "Epoch: 15, loss: 0.036413565278053284\n",
            "Epoch: 16, loss: 0.02981877326965332\n",
            "Epoch: 17, loss: 0.03217986226081848\n",
            "Epoch: 18, loss: 0.034409862011671066\n",
            "Epoch: 19, loss: 0.02999388985335827\n",
            "Epoch: 20, loss: 0.031606193631887436\n",
            "Epoch: 21, loss: 0.03145970404148102\n",
            "Epoch: 22, loss: 0.03134901449084282\n",
            "Epoch: 23, loss: 0.028621504083275795\n",
            "Epoch: 24, loss: 0.030525164678692818\n",
            "Epoch: 25, loss: 0.030605239793658257\n",
            "Epoch: 26, loss: 0.028411507606506348\n",
            "Epoch: 27, loss: 0.030283529311418533\n",
            "Epoch: 28, loss: 0.029762329533696175\n",
            "Epoch: 29, loss: 0.028424179181456566\n",
            "Epoch: 30, loss: 0.030009398236870766\n",
            "Epoch: 31, loss: 0.02967965044081211\n",
            "Epoch: 32, loss: 0.028260735794901848\n",
            "Epoch: 33, loss: 0.02953009121119976\n",
            "Epoch: 34, loss: 0.02922593615949154\n",
            "Epoch: 35, loss: 0.02840968780219555\n",
            "Epoch: 36, loss: 0.029260193929076195\n",
            "Epoch: 37, loss: 0.029210755601525307\n",
            "Epoch: 38, loss: 0.02832452952861786\n",
            "Epoch: 39, loss: 0.02912847325205803\n",
            "Epoch: 40, loss: 0.028970275074243546\n",
            "Epoch: 41, loss: 0.028238512575626373\n",
            "Epoch: 42, loss: 0.02906074747443199\n",
            "Epoch: 43, loss: 0.028945304453372955\n",
            "Epoch: 44, loss: 0.02816190756857395\n",
            "Epoch: 45, loss: 0.029034068807959557\n",
            "Epoch: 46, loss: 0.028921538963913918\n",
            "Epoch: 47, loss: 0.028133127838373184\n",
            "Epoch: 48, loss: 0.02909795567393303\n",
            "Epoch: 49, loss: 0.02901315875351429\n",
            "Epoch: 50, loss: 0.028091173619031906\n",
            "Epoch: 51, loss: 0.029100704938173294\n",
            "Epoch: 52, loss: 0.028960468247532845\n",
            "Epoch: 53, loss: 0.02813485823571682\n",
            "Epoch: 54, loss: 0.029281191527843475\n",
            "Epoch: 55, loss: 0.029109053313732147\n",
            "Epoch: 56, loss: 0.02815002016723156\n",
            "Epoch: 57, loss: 0.029254376888275146\n",
            "Epoch: 58, loss: 0.028885988518595695\n",
            "Epoch: 59, loss: 0.028215406462550163\n",
            "Epoch: 60, loss: 0.029424970969557762\n",
            "Epoch: 61, loss: 0.02888338640332222\n",
            "Epoch: 62, loss: 0.028273673728108406\n",
            "Epoch: 63, loss: 0.029334280639886856\n",
            "Epoch: 64, loss: 0.028586359694600105\n",
            "Epoch: 65, loss: 0.028306541964411736\n",
            "Epoch: 66, loss: 0.02921833097934723\n",
            "Epoch: 67, loss: 0.028467411175370216\n",
            "Epoch: 68, loss: 0.028350695967674255\n",
            "Epoch: 69, loss: 0.028932463377714157\n",
            "Epoch: 70, loss: 0.028230691328644753\n",
            "Epoch: 71, loss: 0.028337914496660233\n",
            "Epoch: 72, loss: 0.028648847714066505\n",
            "Epoch: 73, loss: 0.028132900595664978\n",
            "Epoch: 74, loss: 0.028311284258961678\n",
            "Epoch: 75, loss: 0.028398780152201653\n",
            "Epoch: 76, loss: 0.028075244277715683\n",
            "Epoch: 77, loss: 0.02826722338795662\n",
            "Epoch: 78, loss: 0.028231602162122726\n",
            "Epoch: 79, loss: 0.02806798927485943\n",
            "Epoch: 80, loss: 0.028228305280208588\n",
            "Epoch: 81, loss: 0.02814335562288761\n",
            "Epoch: 82, loss: 0.02807844802737236\n",
            "Epoch: 83, loss: 0.028185544535517693\n",
            "Epoch: 84, loss: 0.028098244220018387\n",
            "Epoch: 85, loss: 0.028088988736271858\n",
            "Epoch: 86, loss: 0.028154533356428146\n",
            "Epoch: 87, loss: 0.028081385418772697\n",
            "Epoch: 88, loss: 0.02809165045619011\n",
            "Epoch: 89, loss: 0.028131283819675446\n",
            "Epoch: 90, loss: 0.02807418256998062\n",
            "Epoch: 91, loss: 0.028086485341191292\n",
            "Epoch: 92, loss: 0.02811521850526333\n",
            "Epoch: 93, loss: 0.02807161584496498\n",
            "Epoch: 94, loss: 0.02808079868555069\n",
            "Epoch: 95, loss: 0.028107091784477234\n",
            "Epoch: 96, loss: 0.02807420678436756\n",
            "Epoch: 97, loss: 0.028071295469999313\n",
            "Epoch: 98, loss: 0.028093745931982994\n",
            "Epoch: 99, loss: 0.028076786547899246\n"
          ],
          "name": "stdout"
        }
      ]
    },
    {
      "cell_type": "markdown",
      "metadata": {
        "id": "eSFMxVogIGmj"
      },
      "source": [
        "## Check score"
      ]
    },
    {
      "cell_type": "code",
      "metadata": {
        "id": "GWOT9oNhJjT5"
      },
      "source": [
        "from sklearn.metrics import confusion_matrix, accuracy_score"
      ],
      "execution_count": 29,
      "outputs": []
    },
    {
      "cell_type": "code",
      "metadata": {
        "id": "x4pCNAT4IFc1"
      },
      "source": [
        "Ytestpred = model(Xtest_)"
      ],
      "execution_count": 30,
      "outputs": []
    },
    {
      "cell_type": "code",
      "metadata": {
        "id": "7qRee4DAIFfW"
      },
      "source": [
        "y_test_pred = np.array([int(torch.argmax(Ytestpred[i])) for i in range(len(Ytestpred))])"
      ],
      "execution_count": 31,
      "outputs": []
    },
    {
      "cell_type": "code",
      "metadata": {
        "colab": {
          "base_uri": "https://localhost:8080/"
        },
        "id": "7A9KxIwoJXK-",
        "outputId": "82e210f4-912f-4158-cdf7-23e7594faf39"
      },
      "source": [
        "y_test_pred, y_test"
      ],
      "execution_count": 32,
      "outputs": [
        {
          "output_type": "execute_result",
          "data": {
            "text/plain": [
              "(array([0, 0, 0, 0, 0, 0, 1, 0, 0, 1, 1, 1, 1, 1, 1, 1, 1, 0, 0, 1, 0, 0,\n",
              "        1, 1, 1, 1, 1, 1, 1, 1, 1, 1, 0, 1, 1, 0, 0, 1, 0, 1, 1, 1, 1, 1,\n",
              "        0, 0, 1, 1, 1, 0, 1, 1, 1, 1, 1, 0, 1, 1, 0, 1, 1, 0, 0, 1, 0, 0,\n",
              "        1, 0, 0, 0, 1, 1, 1, 0, 0, 1, 1, 0, 0, 1, 1, 1, 1, 0, 1, 1, 0, 0,\n",
              "        1, 1, 0, 1, 0, 0, 0, 0, 0, 0, 0, 0, 0, 1, 1, 1, 0, 0, 1, 1, 0, 0,\n",
              "        0, 1, 0, 1, 1, 0, 1, 1, 1, 1, 1, 1, 1, 1, 0, 0, 1, 0, 1, 0, 0, 0,\n",
              "        0, 0, 1, 1, 0, 1, 1, 1, 0, 1, 1, 0, 0, 0, 0, 0, 1, 1, 1, 1, 1, 1,\n",
              "        1, 0, 1, 1, 1, 1, 0, 0, 1, 0, 0, 0, 0, 0, 0, 1, 0, 0, 1, 0, 0, 1,\n",
              "        0, 1, 0, 0, 1, 0, 0, 1, 0, 1, 0, 0, 0, 1, 1, 0, 1, 0, 0, 0, 1, 1,\n",
              "        0, 1]),\n",
              " array([0, 0, 0, 0, 0, 0, 1, 0, 0, 1, 1, 1, 0, 1, 1, 1, 0, 0, 0, 1, 0, 1,\n",
              "        1, 0, 0, 1, 1, 1, 1, 0, 1, 1, 1, 1, 1, 0, 0, 0, 0, 1, 1, 0, 1, 0,\n",
              "        0, 0, 0, 0, 0, 0, 1, 1, 1, 1, 0, 0, 1, 1, 0, 1, 0, 0, 0, 0, 1, 0,\n",
              "        1, 1, 1, 0, 1, 1, 1, 1, 0, 0, 1, 1, 0, 1, 0, 1, 1, 0, 1, 1, 0, 0,\n",
              "        1, 0, 0, 1, 0, 0, 0, 1, 0, 1, 1, 0, 1, 1, 1, 0, 1, 0, 1, 1, 0, 1,\n",
              "        1, 1, 0, 0, 1, 0, 1, 1, 1, 1, 1, 0, 1, 0, 0, 0, 1, 0, 0, 1, 0, 1,\n",
              "        0, 0, 1, 1, 1, 1, 1, 0, 1, 1, 1, 0, 0, 0, 0, 1, 1, 1, 1, 1, 1, 1,\n",
              "        0, 0, 1, 1, 1, 0, 0, 0, 1, 1, 0, 0, 0, 0, 0, 1, 0, 1, 1, 0, 0, 1,\n",
              "        0, 1, 0, 1, 1, 0, 0, 0, 0, 1, 0, 1, 0, 1, 1, 0, 0, 0, 1, 0, 1, 1,\n",
              "        0, 1]))"
            ]
          },
          "metadata": {
            "tags": []
          },
          "execution_count": 32
        }
      ]
    },
    {
      "cell_type": "code",
      "metadata": {
        "colab": {
          "base_uri": "https://localhost:8080/"
        },
        "id": "J5lB3HThJXOA",
        "outputId": "338c687f-2b50-42f9-b832-05caf8545817"
      },
      "source": [
        "cmknn = confusion_matrix(y_test, y_test_pred)\n",
        "cmknn"
      ],
      "execution_count": 33,
      "outputs": [
        {
          "output_type": "execute_result",
          "data": {
            "text/plain": [
              "array([[70, 27],\n",
              "       [24, 79]])"
            ]
          },
          "metadata": {
            "tags": []
          },
          "execution_count": 33
        }
      ]
    },
    {
      "cell_type": "code",
      "metadata": {
        "colab": {
          "base_uri": "https://localhost:8080/"
        },
        "id": "qNd1CRukJXQt",
        "outputId": "f613631a-f86c-4644-a09d-be4a0de4d1fc"
      },
      "source": [
        "print(f'Torch accuracy: {accuracy_score(y_test, y_test_pred)}')"
      ],
      "execution_count": 34,
      "outputs": [
        {
          "output_type": "stream",
          "text": [
            "Torch accuracy: 0.745\n"
          ],
          "name": "stdout"
        }
      ]
    },
    {
      "cell_type": "markdown",
      "metadata": {
        "id": "yEYPR9fyKPH3"
      },
      "source": [
        "## Check on samples"
      ]
    },
    {
      "cell_type": "code",
      "metadata": {
        "id": "8MYZKzzwFEhp"
      },
      "source": [
        "sample = [\"Good batting by England\"]"
      ],
      "execution_count": 35,
      "outputs": []
    },
    {
      "cell_type": "code",
      "metadata": {
        "id": "uRR2sqM1Gc-B"
      },
      "source": [
        "sample = vectorizer.transform(sample).toarray()"
      ],
      "execution_count": 36,
      "outputs": []
    },
    {
      "cell_type": "code",
      "metadata": {
        "colab": {
          "base_uri": "https://localhost:8080/"
        },
        "id": "FtWXABzEGhbR",
        "outputId": "7ed1cefa-eed5-4f65-8e5e-c8d2da5e0e3a"
      },
      "source": [
        "sentiment = model(torch.from_numpy(sample).float())\n",
        "sentiment"
      ],
      "execution_count": 37,
      "outputs": [
        {
          "output_type": "execute_result",
          "data": {
            "text/plain": [
              "tensor([[-1.5953, -0.2267]], grad_fn=<LogSoftmaxBackward>)"
            ]
          },
          "metadata": {
            "tags": []
          },
          "execution_count": 37
        }
      ]
    },
    {
      "cell_type": "code",
      "metadata": {
        "colab": {
          "base_uri": "https://localhost:8080/"
        },
        "id": "Den-gV0nKRfk",
        "outputId": "c89e7fb4-ce0e-4d6b-bf93-7cc4cf78d482"
      },
      "source": [
        "np.array([int(torch.argmax(sentiment[i])) for i in range(len(sentiment))])"
      ],
      "execution_count": 38,
      "outputs": [
        {
          "output_type": "execute_result",
          "data": {
            "text/plain": [
              "array([1])"
            ]
          },
          "metadata": {
            "tags": []
          },
          "execution_count": 38
        }
      ]
    },
    {
      "cell_type": "code",
      "metadata": {
        "colab": {
          "base_uri": "https://localhost:8080/"
        },
        "id": "igy9nueEHbXP",
        "outputId": "4ea64446-0d7b-4ddd-b6fe-656caa27c9b1"
      },
      "source": [
        "sample2 = [\"bad perfomance by India in the match\"]\n",
        "sample2 = vectorizer.transform(sample2).toarray()\n",
        "sentiment2 = model(torch.from_numpy(sample2).float())\n",
        "sentiment2"
      ],
      "execution_count": 39,
      "outputs": [
        {
          "output_type": "execute_result",
          "data": {
            "text/plain": [
              "tensor([[  0.0000, -43.9535]], grad_fn=<LogSoftmaxBackward>)"
            ]
          },
          "metadata": {
            "tags": []
          },
          "execution_count": 39
        }
      ]
    },
    {
      "cell_type": "code",
      "metadata": {
        "colab": {
          "base_uri": "https://localhost:8080/"
        },
        "id": "ppSwL_qTH6IA",
        "outputId": "a6a49a17-78bf-41d9-993b-f538bd9d15ef"
      },
      "source": [
        "np.array([int(torch.argmax(sentiment2[i])) for i in range(len(sentiment2))])"
      ],
      "execution_count": 40,
      "outputs": [
        {
          "output_type": "execute_result",
          "data": {
            "text/plain": [
              "array([0])"
            ]
          },
          "metadata": {
            "tags": []
          },
          "execution_count": 40
        }
      ]
    },
    {
      "cell_type": "markdown",
      "metadata": {
        "id": "eo8aMfePLjkQ"
      },
      "source": [
        "## Save model"
      ]
    },
    {
      "cell_type": "code",
      "metadata": {
        "id": "_WSkOtMHLla-"
      },
      "source": [
        "torch.save(model.state_dict(), 'text_classifier_pytorch')"
      ],
      "execution_count": 41,
      "outputs": []
    },
    {
      "cell_type": "code",
      "metadata": {
        "id": "C560dS9gLnC7"
      },
      "source": [
        ""
      ],
      "execution_count": null,
      "outputs": []
    }
  ]
}