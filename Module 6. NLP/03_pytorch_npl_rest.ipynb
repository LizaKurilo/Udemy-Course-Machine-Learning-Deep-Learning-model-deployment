{
  "nbformat": 4,
  "nbformat_minor": 0,
  "metadata": {
    "colab": {
      "name": "03-pytorch_npl_rest.ipynb",
      "provenance": []
    },
    "kernelspec": {
      "name": "python3",
      "display_name": "Python 3"
    },
    "language_info": {
      "name": "python"
    }
  },
  "cells": [
    {
      "cell_type": "markdown",
      "metadata": {
        "id": "5yfB_f04PndW"
      },
      "source": [
        "## Imports"
      ]
    },
    {
      "cell_type": "code",
      "metadata": {
        "id": "95NS3_eCOfqf"
      },
      "source": [
        "from flask import Flask, request\n",
        "import pickle\n",
        "\n",
        "import torch\n",
        "import torch.nn as nn\n",
        "from torch.nn import functional as F\n",
        "\n",
        "import numpy as np\n",
        "import pandas as pd"
      ],
      "execution_count": 2,
      "outputs": []
    },
    {
      "cell_type": "code",
      "metadata": {
        "colab": {
          "base_uri": "https://localhost:8080/"
        },
        "id": "zYRlWf8VPalP",
        "outputId": "19831a9b-a30e-43e2-edb5-5c037ddaf145"
      },
      "source": [
        "! wget https://github.com/futurexskill/ml-model-deployment/raw/main/tfidfmodel.pickle"
      ],
      "execution_count": 5,
      "outputs": [
        {
          "output_type": "stream",
          "text": [
            "--2021-04-20 12:25:29--  https://github.com/futurexskill/ml-model-deployment/raw/main/tfidfmodel.pickle\n",
            "Resolving github.com (github.com)... 140.82.121.3\n",
            "Connecting to github.com (github.com)|140.82.121.3|:443... connected.\n",
            "HTTP request sent, awaiting response... 302 Found\n",
            "Location: https://raw.githubusercontent.com/futurexskill/ml-model-deployment/main/tfidfmodel.pickle [following]\n",
            "--2021-04-20 12:25:30--  https://raw.githubusercontent.com/futurexskill/ml-model-deployment/main/tfidfmodel.pickle\n",
            "Resolving raw.githubusercontent.com (raw.githubusercontent.com)... 185.199.108.133, 185.199.109.133, 185.199.110.133, ...\n",
            "Connecting to raw.githubusercontent.com (raw.githubusercontent.com)|185.199.108.133|:443... connected.\n",
            "HTTP request sent, awaiting response... 200 OK\n",
            "Length: 49660 (48K) [application/octet-stream]\n",
            "Saving to: ‘tfidfmodel.pickle’\n",
            "\n",
            "tfidfmodel.pickle   100%[===================>]  48.50K  --.-KB/s    in 0.004s  \n",
            "\n",
            "2021-04-20 12:25:30 (11.9 MB/s) - ‘tfidfmodel.pickle’ saved [49660/49660]\n",
            "\n"
          ],
          "name": "stdout"
        }
      ]
    },
    {
      "cell_type": "markdown",
      "metadata": {
        "id": "LmT22TpfPMXd"
      },
      "source": [
        "## Model \n",
        "\n",
        "Upload PyTorch model from 02-text_classifier-pytorch.ipynb (text_classifier_pytorch)"
      ]
    },
    {
      "cell_type": "code",
      "metadata": {
        "colab": {
          "base_uri": "https://localhost:8080/"
        },
        "id": "BtulcebGPuip",
        "outputId": "bd32cfc1-33fd-4655-916e-2d242bcf971c"
      },
      "source": [
        "!ls"
      ],
      "execution_count": 7,
      "outputs": [
        {
          "output_type": "stream",
          "text": [
            "sample_data  text_classifier_pytorch  tfidfmodel.pickle\n"
          ],
          "name": "stdout"
        }
      ]
    },
    {
      "cell_type": "code",
      "metadata": {
        "id": "ruCGkCHWO1u_"
      },
      "source": [
        "input_size =  467\n",
        "output_size = 2 # 2 classes\n",
        "hidden_size = 500"
      ],
      "execution_count": 3,
      "outputs": []
    },
    {
      "cell_type": "code",
      "metadata": {
        "id": "1kFakOyPO8pt"
      },
      "source": [
        "class Net(nn.Module):\n",
        "  def __init__(self):\n",
        "    super(Net, self).__init__()\n",
        "    self.fc1 = torch.nn.Linear(input_size, hidden_size)\n",
        "    self.fc2 = torch.nn.Linear(hidden_size, hidden_size)\n",
        "    self.fc3 = torch.nn.Linear(hidden_size, output_size)\n",
        "\n",
        "  def forward(self, X):\n",
        "    X = torch.relu((self.fc1(X)))\n",
        "    X = torch.relu((self.fc2(X)))\n",
        "    X = self.fc3(X)\n",
        "\n",
        "    return F.log_softmax(X, dim=1)"
      ],
      "execution_count": 6,
      "outputs": []
    },
    {
      "cell_type": "code",
      "metadata": {
        "id": "eTvE56jdO97s"
      },
      "source": [
        "model = Net()"
      ],
      "execution_count": 8,
      "outputs": []
    },
    {
      "cell_type": "code",
      "metadata": {
        "colab": {
          "base_uri": "https://localhost:8080/"
        },
        "id": "BvDNstUtP42Q",
        "outputId": "91036987-35c7-43a1-8d65-8f559e98363c"
      },
      "source": [
        "model.load_state_dict(torch.load('text_classifier_pytorch'))"
      ],
      "execution_count": 11,
      "outputs": [
        {
          "output_type": "execute_result",
          "data": {
            "text/plain": [
              "<All keys matched successfully>"
            ]
          },
          "metadata": {
            "tags": []
          },
          "execution_count": 11
        }
      ]
    },
    {
      "cell_type": "code",
      "metadata": {
        "id": "e9OQegWaPz68"
      },
      "source": [
        "# !pip install flask-ngrok"
      ],
      "execution_count": 12,
      "outputs": []
    },
    {
      "cell_type": "code",
      "metadata": {
        "id": "gUWfOlHyP2t1"
      },
      "source": [
        "from flask_ngrok import run_with_ngrok"
      ],
      "execution_count": 21,
      "outputs": []
    },
    {
      "cell_type": "code",
      "metadata": {
        "id": "oZVWv0p1QHfp"
      },
      "source": [
        "app = Flask(__name__)\n",
        "run_with_ngrok(app)"
      ],
      "execution_count": 26,
      "outputs": []
    },
    {
      "cell_type": "code",
      "metadata": {
        "id": "gR1h_bSSYt5Q"
      },
      "source": [
        "with open('tfidfmodel.pickle', 'rb') as file:\n",
        "  tfidf = pickle.load(file)"
      ],
      "execution_count": 27,
      "outputs": []
    },
    {
      "cell_type": "code",
      "metadata": {
        "id": "ua28jYGiY4dI"
      },
      "source": [
        "@app.route('/predict', methods=[\"POST\"])\n",
        "def customer_behavior():\n",
        "    request_data = request.get_json(force=True)\n",
        "    text = request_data['sentence']\n",
        "    print(f'Sentence: {text}')\n",
        "    text_list = []\n",
        "    text_list.append(text)\n",
        "    print(text_list)\n",
        "    numeric_text = tfidf.transform(text_list).toarray()\n",
        "    output = model(torch.from_numpy(numeric_text).float())\n",
        "    print(f\"Prediction: {output[0][0]}, {output[0][1]}\")\n",
        "    sentiment = 'unknown'\n",
        "    if torch.gt(output[0][0], output[0][1]):\n",
        "      print('Negative prediction')\n",
        "      sentiment = 'negative'\n",
        "    else:\n",
        "      print('Positive prediction')\n",
        "      sentiment = 'positive'\n",
        "    print(f\"Prediction: {sentiment}\")\n",
        "    return f\"The prediction is {sentiment}\""
      ],
      "execution_count": 28,
      "outputs": []
    },
    {
      "cell_type": "code",
      "metadata": {
        "colab": {
          "base_uri": "https://localhost:8080/"
        },
        "id": "H_6UASGbbI2z",
        "outputId": "8a23a579-40ee-4491-aba2-4a7aa3377cc7"
      },
      "source": [
        "app.run()"
      ],
      "execution_count": null,
      "outputs": [
        {
          "output_type": "stream",
          "text": [
            " * Serving Flask app \"__main__\" (lazy loading)\n",
            " * Environment: production\n",
            "\u001b[31m   WARNING: This is a development server. Do not use it in a production deployment.\u001b[0m\n",
            "\u001b[2m   Use a production WSGI server instead.\u001b[0m\n",
            " * Debug mode: off\n"
          ],
          "name": "stdout"
        },
        {
          "output_type": "stream",
          "text": [
            " * Running on http://127.0.0.1:5000/ (Press CTRL+C to quit)\n"
          ],
          "name": "stderr"
        },
        {
          "output_type": "stream",
          "text": [
            " * Running on http://c07dd9d2f3b2.ngrok.io\n",
            " * Traffic stats available on http://127.0.0.1:4040\n"
          ],
          "name": "stdout"
        },
        {
          "output_type": "stream",
          "text": [
            "127.0.0.1 - - [20/Apr/2021 14:15:09] \"\u001b[37mPOST /predict HTTP/1.1\u001b[0m\" 200 -\n"
          ],
          "name": "stderr"
        },
        {
          "output_type": "stream",
          "text": [
            "Sentence: rt tinaterrywsoc  breaking novant health just announced it will also offer walk in covid   vaccine shots at all clinics wsoctv https \n",
            "['rt tinaterrywsoc  breaking novant health just announced it will also offer walk in covid   vaccine shots at all clinics wsoctv https ']\n",
            "Prediction: -0.00082923355512321, -7.095466136932373\n",
            "Negative prediction\n",
            "Prediction: negative\n"
          ],
          "name": "stdout"
        },
        {
          "output_type": "stream",
          "text": [
            "127.0.0.1 - - [20/Apr/2021 14:15:09] \"\u001b[37mPOST /predict HTTP/1.1\u001b[0m\" 200 -\n"
          ],
          "name": "stderr"
        },
        {
          "output_type": "stream",
          "text": [
            "Sentence: here is my official i booked a vaccine appointment for this afternoon tweet https t co  iwzkrandy\n",
            "['here is my official i booked a vaccine appointment for this afternoon tweet https t co  iwzkrandy']\n",
            "Prediction: -0.4417230188846588, -1.02981698513031\n",
            "Negative prediction\n",
            "Prediction: negative\n"
          ],
          "name": "stdout"
        },
        {
          "output_type": "stream",
          "text": [
            "127.0.0.1 - - [20/Apr/2021 14:15:10] \"\u001b[37mPOST /predict HTTP/1.1\u001b[0m\" 200 -\n"
          ],
          "name": "stderr"
        },
        {
          "output_type": "stream",
          "text": [
            "Sentence: everyone around me is dying my perfectly healthy   yr old friend got covid two weeks ago amp he died last night https t co ngdipbfmf \n",
            "['everyone around me is dying my perfectly healthy   yr old friend got covid two weeks ago amp he died last night https t co ngdipbfmf ']\n",
            "Prediction: 0.0, -46.04942321777344\n",
            "Negative prediction\n",
            "Prediction: negative\n"
          ],
          "name": "stdout"
        },
        {
          "output_type": "stream",
          "text": [
            "127.0.0.1 - - [20/Apr/2021 14:15:10] \"\u001b[37mPOST /predict HTTP/1.1\u001b[0m\" 200 -\n"
          ],
          "name": "stderr"
        },
        {
          "output_type": "stream",
          "text": [
            "Sentence: rt goodpoliticguy daily reminder biden is still enforcing a global vaccine apartheid to protect big pharma profits over millions of lives \n",
            "['rt goodpoliticguy daily reminder biden is still enforcing a global vaccine apartheid to protect big pharma profits over millions of lives ']\n",
            "Prediction: 0.0, -36.30766677856445\n",
            "Negative prediction\n",
            "Prediction: negative\n"
          ],
          "name": "stdout"
        },
        {
          "output_type": "stream",
          "text": [
            "127.0.0.1 - - [20/Apr/2021 14:15:10] \"\u001b[37mPOST /predict HTTP/1.1\u001b[0m\" 200 -\n"
          ],
          "name": "stderr"
        },
        {
          "output_type": "stream",
          "text": [
            "Sentence: places where you can get covid    vaccine in palm beach county healthcaredist wptv https t co lycbx jiwk\n",
            "['places where you can get covid    vaccine in palm beach county healthcaredist wptv https t co lycbx jiwk']\n",
            "Prediction: 0.0, -27.11205291748047\n",
            "Negative prediction\n",
            "Prediction: negative\n"
          ],
          "name": "stdout"
        },
        {
          "output_type": "stream",
          "text": [
            "127.0.0.1 - - [20/Apr/2021 14:15:10] \"\u001b[37mPOST /predict HTTP/1.1\u001b[0m\" 200 -\n"
          ],
          "name": "stderr"
        },
        {
          "output_type": "stream",
          "text": [
            "Sentence: getting my second covid vaccine today whoo and there s an oh so edgy dude down the way from me wearing a mask https t co b lkqabgpl\n",
            "['getting my second covid vaccine today whoo and there s an oh so edgy dude down the way from me wearing a mask https t co b lkqabgpl']\n",
            "Prediction: -24.514528274536133, 0.0\n",
            "Positive prediction\n",
            "Prediction: positive\n"
          ],
          "name": "stdout"
        },
        {
          "output_type": "stream",
          "text": [
            "127.0.0.1 - - [20/Apr/2021 14:15:11] \"\u001b[37mPOST /predict HTTP/1.1\u001b[0m\" 200 -\n"
          ],
          "name": "stderr"
        },
        {
          "output_type": "stream",
          "text": [
            "Sentence: rt vp as of today every american    and older is eligible to receive the vaccine the president and i urge you to get vaccinated it wil \n",
            "['rt vp as of today every american    and older is eligible to receive the vaccine the president and i urge you to get vaccinated it wil ']\n",
            "Prediction: -0.0025279729161411524, -5.9816083908081055\n",
            "Negative prediction\n",
            "Prediction: negative\n"
          ],
          "name": "stdout"
        },
        {
          "output_type": "stream",
          "text": [
            "127.0.0.1 - - [20/Apr/2021 14:15:11] \"\u001b[37mPOST /predict HTTP/1.1\u001b[0m\" 200 -\n"
          ],
          "name": "stderr"
        },
        {
          "output_type": "stream",
          "text": [
            "Sentence:  ema says covid    vaccine janssen ema finds possible link to very rare cases of unusual blood clots with low blo https t co zlfmsni ba\n",
            "[' ema says covid    vaccine janssen ema finds possible link to very rare cases of unusual blood clots with low blo https t co zlfmsni ba']\n",
            "Prediction: 0.0, -28.510677337646484\n",
            "Negative prediction\n",
            "Prediction: negative\n"
          ],
          "name": "stdout"
        },
        {
          "output_type": "stream",
          "text": [
            "127.0.0.1 - - [20/Apr/2021 14:15:11] \"\u001b[37mPOST /predict HTTP/1.1\u001b[0m\" 200 -\n"
          ],
          "name": "stderr"
        },
        {
          "output_type": "stream",
          "text": [
            "Sentence: i am    yrs old from peterborough ontario and they refuse me my pfizer vaccine as they say i do not qualify i hav https t co u uou rafq\n",
            "['i am    yrs old from peterborough ontario and they refuse me my pfizer vaccine as they say i do not qualify i hav https t co u uou rafq']\n",
            "Prediction: 0.0, -28.953372955322266\n",
            "Negative prediction\n",
            "Prediction: negative\n"
          ],
          "name": "stdout"
        },
        {
          "output_type": "stream",
          "text": [
            "127.0.0.1 - - [20/Apr/2021 14:15:11] \"\u001b[37mPOST /predict HTTP/1.1\u001b[0m\" 200 -\n"
          ],
          "name": "stderr"
        },
        {
          "output_type": "stream",
          "text": [
            "Sentence: evangelical vaccine rollout not affected by j amp j pause https t co jmvr  q kj\n",
            "['evangelical vaccine rollout not affected by j amp j pause https t co jmvr  q kj']\n",
            "Prediction: -0.4417230188846588, -1.02981698513031\n",
            "Negative prediction\n",
            "Prediction: negative\n"
          ],
          "name": "stdout"
        },
        {
          "output_type": "stream",
          "text": [
            "127.0.0.1 - - [20/Apr/2021 14:15:12] \"\u001b[37mPOST /predict HTTP/1.1\u001b[0m\" 200 -\n"
          ],
          "name": "stderr"
        },
        {
          "output_type": "stream",
          "text": [
            "Sentence: rt ashquenneville pointing out that birth control pills have a worse blood clot rate than any vaccine isn t saying blood clots are fine \n",
            "['rt ashquenneville pointing out that birth control pills have a worse blood clot rate than any vaccine isn t saying blood clots are fine ']\n",
            "Prediction: -2.8132995794294402e-05, -10.480448722839355\n",
            "Negative prediction\n",
            "Prediction: negative\n"
          ],
          "name": "stdout"
        },
        {
          "output_type": "stream",
          "text": [
            "127.0.0.1 - - [20/Apr/2021 14:15:12] \"\u001b[37mPOST /predict HTTP/1.1\u001b[0m\" 200 -\n"
          ],
          "name": "stderr"
        },
        {
          "output_type": "stream",
          "text": [
            "Sentence: rt unlvprovost covidvaccines on walk in or appointment basis   a m to      p m m f unlv student union maryland parkway and harmon a \n",
            "['rt unlvprovost covidvaccines on walk in or appointment basis   a m to      p m m f unlv student union maryland parkway and harmon a ']\n",
            "Prediction: 0.0, -22.79157257080078\n",
            "Negative prediction\n",
            "Prediction: negative\n"
          ],
          "name": "stdout"
        },
        {
          "output_type": "stream",
          "text": [
            "127.0.0.1 - - [20/Apr/2021 14:15:12] \"\u001b[37mPOST /predict HTTP/1.1\u001b[0m\" 200 -\n"
          ],
          "name": "stderr"
        },
        {
          "output_type": "stream",
          "text": [
            "Sentence: rt kerihill   to the people saying they will fake their vaccine cards to go places you are the reason we will never get out of this and \n",
            "['rt kerihill   to the people saying they will fake their vaccine cards to go places you are the reason we will never get out of this and ']\n",
            "Prediction: -0.0028305486775934696, -5.868695259094238\n",
            "Negative prediction\n",
            "Prediction: negative\n"
          ],
          "name": "stdout"
        },
        {
          "output_type": "stream",
          "text": [
            "127.0.0.1 - - [20/Apr/2021 14:15:12] \"\u001b[37mPOST /predict HTTP/1.1\u001b[0m\" 200 -\n"
          ],
          "name": "stderr"
        },
        {
          "output_type": "stream",
          "text": [
            "Sentence: rt govwhitmer despite our progress we are still fighting this virus the rising cases and hospitalization rates are a reminder that we m \n",
            "['rt govwhitmer despite our progress we are still fighting this virus the rising cases and hospitalization rates are a reminder that we m ']\n",
            "Prediction: 0.0, -32.86688232421875\n",
            "Negative prediction\n",
            "Prediction: negative\n"
          ],
          "name": "stdout"
        },
        {
          "output_type": "stream",
          "text": [
            "127.0.0.1 - - [20/Apr/2021 14:15:13] \"\u001b[37mPOST /predict HTTP/1.1\u001b[0m\" 200 -\n"
          ],
          "name": "stderr"
        },
        {
          "output_type": "stream",
          "text": [
            "Sentence: rt verge alexa can now tell you where to find a covid    vaccine https t co yyhpchmhdj https t co sjzggbjd n\n",
            "['rt verge alexa can now tell you where to find a covid    vaccine https t co yyhpchmhdj https t co sjzggbjd n']\n",
            "Prediction: 0.0, -37.122642517089844\n",
            "Negative prediction\n",
            "Prediction: negative\n"
          ],
          "name": "stdout"
        },
        {
          "output_type": "stream",
          "text": [
            "127.0.0.1 - - [20/Apr/2021 14:15:13] \"\u001b[37mPOST /predict HTTP/1.1\u001b[0m\" 200 -\n"
          ],
          "name": "stderr"
        },
        {
          "output_type": "stream",
          "text": [
            "Sentence: hy vee https t co gpbpjj   d      cherokee clinic       clarinda       columbus junction clinic       cor https t co  zoxjmypfm\n",
            "['hy vee https t co gpbpjj   d      cherokee clinic       clarinda       columbus junction clinic       cor https t co  zoxjmypfm']\n",
            "Prediction: -0.4417230188846588, -1.02981698513031\n",
            "Negative prediction\n",
            "Prediction: negative\n"
          ],
          "name": "stdout"
        },
        {
          "output_type": "stream",
          "text": [
            "127.0.0.1 - - [20/Apr/2021 14:15:13] \"\u001b[37mPOST /predict HTTP/1.1\u001b[0m\" 200 -\n"
          ],
          "name": "stderr"
        },
        {
          "output_type": "stream",
          "text": [
            "Sentence: rt senkatyg the morrison govt promised to vaccinate all disability residents against covid as a top priority before easter now   wee \n",
            "['rt senkatyg the morrison govt promised to vaccinate all disability residents against covid as a top priority before easter now   wee ']\n",
            "Prediction: -0.11173683404922485, -2.246957302093506\n",
            "Negative prediction\n",
            "Prediction: negative\n"
          ],
          "name": "stdout"
        },
        {
          "output_type": "stream",
          "text": [
            "127.0.0.1 - - [20/Apr/2021 14:15:13] \"\u001b[37mPOST /predict HTTP/1.1\u001b[0m\" 200 -\n"
          ],
          "name": "stderr"
        },
        {
          "output_type": "stream",
          "text": [
            "Sentence: doc told me not to go to the gym today bc it s no good for the vaccine https t co rzgx w o n\n",
            "['doc told me not to go to the gym today bc it s no good for the vaccine https t co rzgx w o n']\n",
            "Prediction: -34.33495330810547, 0.0\n",
            "Positive prediction\n",
            "Prediction: positive\n"
          ],
          "name": "stdout"
        },
        {
          "output_type": "stream",
          "text": [
            "127.0.0.1 - - [20/Apr/2021 14:15:14] \"\u001b[37mPOST /predict HTTP/1.1\u001b[0m\" 200 -\n"
          ],
          "name": "stderr"
        },
        {
          "output_type": "stream",
          "text": [
            "Sentence: rt gauravpandhi if fadnavis s nephew has got vaccine this means the under    kids amp families of many rich amp powerful too would have got \n",
            "['rt gauravpandhi if fadnavis s nephew has got vaccine this means the under    kids amp families of many rich amp powerful too would have got ']\n",
            "Prediction: 0.0, -38.308284759521484\n",
            "Negative prediction\n",
            "Prediction: negative\n"
          ],
          "name": "stdout"
        },
        {
          "output_type": "stream",
          "text": [
            "127.0.0.1 - - [20/Apr/2021 14:15:14] \"\u001b[37mPOST /predict HTTP/1.1\u001b[0m\" 200 -\n"
          ],
          "name": "stderr"
        },
        {
          "output_type": "stream",
          "text": [
            "Sentence: rt timesnow bjp s chitrakwagh tweets saying no one from devendra fadnavis immediate family has taken vaccine yet but why there is si \n",
            "['rt timesnow bjp s chitrakwagh tweets saying no one from devendra fadnavis immediate family has taken vaccine yet but why there is si ']\n",
            "Prediction: -0.005896435584872961, -5.136351585388184\n",
            "Negative prediction\n",
            "Prediction: negative\n"
          ],
          "name": "stdout"
        },
        {
          "output_type": "stream",
          "text": [
            "127.0.0.1 - - [20/Apr/2021 14:15:14] \"\u001b[37mPOST /predict HTTP/1.1\u001b[0m\" 200 -\n"
          ],
          "name": "stderr"
        },
        {
          "output_type": "stream",
          "text": [
            "Sentence: rt scott maxwell ron desantis says the media won t tell the full story of how publix got an exclusive vaccine deal well we ve been try \n",
            "['rt scott maxwell ron desantis says the media won t tell the full story of how publix got an exclusive vaccine deal well we ve been try ']\n",
            "Prediction: 0.0, -20.353023529052734\n",
            "Negative prediction\n",
            "Prediction: negative\n"
          ],
          "name": "stdout"
        },
        {
          "output_type": "stream",
          "text": [
            "127.0.0.1 - - [20/Apr/2021 14:15:14] \"\u001b[37mPOST /predict HTTP/1.1\u001b[0m\" 200 -\n"
          ],
          "name": "stderr"
        },
        {
          "output_type": "stream",
          "text": [
            "Sentence: rt mikenorbert   my mom is    th and something in queue to get her vaccine appointment refreshed the page on a different device and the \n",
            "['rt mikenorbert   my mom is    th and something in queue to get her vaccine appointment refreshed the page on a different device and the ']\n",
            "Prediction: -2.3841855067985307e-07, -15.513101577758789\n",
            "Negative prediction\n",
            "Prediction: negative\n"
          ],
          "name": "stdout"
        },
        {
          "output_type": "stream",
          "text": [
            "127.0.0.1 - - [20/Apr/2021 14:15:15] \"\u001b[37mPOST /predict HTTP/1.1\u001b[0m\" 200 -\n"
          ],
          "name": "stderr"
        },
        {
          "output_type": "stream",
          "text": [
            "Sentence: rt yardleyshooting does anyone know of specific medication s being given to counter vaccine side effects \n",
            "['rt yardleyshooting does anyone know of specific medication s being given to counter vaccine side effects ']\n",
            "Prediction: -20.333274841308594, 0.0\n",
            "Positive prediction\n",
            "Prediction: positive\n"
          ],
          "name": "stdout"
        },
        {
          "output_type": "stream",
          "text": [
            "127.0.0.1 - - [20/Apr/2021 14:15:15] \"\u001b[37mPOST /predict HTTP/1.1\u001b[0m\" 200 -\n"
          ],
          "name": "stderr"
        },
        {
          "output_type": "stream",
          "text": [
            "Sentence: rt prezbristol all mass residents    and older are now eligible to get the vaccine read here how easy it is to pre register or find an \n",
            "['rt prezbristol all mass residents    and older are now eligible to get the vaccine read here how easy it is to pre register or find an ']\n",
            "Prediction: 0.0, -40.208580017089844\n",
            "Negative prediction\n",
            "Prediction: negative\n"
          ],
          "name": "stdout"
        },
        {
          "output_type": "stream",
          "text": [
            "127.0.0.1 - - [20/Apr/2021 14:15:15] \"\u001b[37mPOST /predict HTTP/1.1\u001b[0m\" 200 -\n"
          ],
          "name": "stderr"
        },
        {
          "output_type": "stream",
          "text": [
            "Sentence:  coyotedirty jencat     jesusis         kdawg    pushing fauci amp gates vaccine crimes against humanity https t co usgmmhdhet\n",
            "[' coyotedirty jencat     jesusis         kdawg    pushing fauci amp gates vaccine crimes against humanity https t co usgmmhdhet']\n",
            "Prediction: -0.4417230188846588, -1.02981698513031\n",
            "Negative prediction\n",
            "Prediction: negative\n"
          ],
          "name": "stdout"
        },
        {
          "output_type": "stream",
          "text": [
            "127.0.0.1 - - [20/Apr/2021 14:15:15] \"\u001b[37mPOST /predict HTTP/1.1\u001b[0m\" 200 -\n"
          ],
          "name": "stderr"
        },
        {
          "output_type": "stream",
          "text": [
            "Sentence:  irfandhalla the biden climate summit is thursday fri so another vaccine export announcement to canada and mexico w https t co dvbucqppxi\n",
            "[' irfandhalla the biden climate summit is thursday fri so another vaccine export announcement to canada and mexico w https t co dvbucqppxi']\n",
            "Prediction: -0.5709385871887207, -0.8323975205421448\n",
            "Negative prediction\n",
            "Prediction: negative\n"
          ],
          "name": "stdout"
        },
        {
          "output_type": "stream",
          "text": [
            "127.0.0.1 - - [20/Apr/2021 14:15:16] \"\u001b[37mPOST /predict HTTP/1.1\u001b[0m\" 200 -\n"
          ],
          "name": "stderr"
        },
        {
          "output_type": "stream",
          "text": [
            "Sentence: cvs virginia beach       m   williamsburg       m   williamsburg       m  winchester       m   winchester      https t co h qcmxkjnu\n",
            "['cvs virginia beach       m   williamsburg       m   williamsburg       m  winchester       m   winchester      https t co h qcmxkjnu']\n",
            "Prediction: -0.4417230188846588, -1.02981698513031\n",
            "Negative prediction\n",
            "Prediction: negative\n"
          ],
          "name": "stdout"
        },
        {
          "output_type": "stream",
          "text": [
            "127.0.0.1 - - [20/Apr/2021 14:15:16] \"\u001b[37mPOST /predict HTTP/1.1\u001b[0m\" 200 -\n"
          ],
          "name": "stderr"
        },
        {
          "output_type": "stream",
          "text": [
            "Sentence: i mentioned some time ago my employer might be doing gift cards to incentivize getting the vaccine that is actually happening now \n",
            "['i mentioned some time ago my employer might be doing gift cards to incentivize getting the vaccine that is actually happening now ']\n",
            "Prediction: -30.681026458740234, 0.0\n",
            "Positive prediction\n",
            "Prediction: positive\n"
          ],
          "name": "stdout"
        },
        {
          "output_type": "stream",
          "text": [
            "127.0.0.1 - - [20/Apr/2021 14:15:16] \"\u001b[37mPOST /predict HTTP/1.1\u001b[0m\" 200 -\n"
          ],
          "name": "stderr"
        },
        {
          "output_type": "stream",
          "text": [
            "Sentence: rt allahpundit johnson amp johnson suffers another setback as fda tells md vaccine maker to suspend production https t co dmucvtziea\n",
            "['rt allahpundit johnson amp johnson suffers another setback as fda tells md vaccine maker to suspend production https t co dmucvtziea']\n",
            "Prediction: -0.4417230188846588, -1.02981698513031\n",
            "Negative prediction\n",
            "Prediction: negative\n"
          ],
          "name": "stdout"
        },
        {
          "output_type": "stream",
          "text": [
            "127.0.0.1 - - [20/Apr/2021 14:15:16] \"\u001b[37mPOST /predict HTTP/1.1\u001b[0m\" 200 -\n"
          ],
          "name": "stderr"
        },
        {
          "output_type": "stream",
          "text": [
            "Sentence: cvs richmond       m   roanoke       m    roanoke       m   roanoke       p   rocky mount       m  ruther gle https t co gb rcjf wb\n",
            "['cvs richmond       m   roanoke       m    roanoke       m   roanoke       p   rocky mount       m  ruther gle https t co gb rcjf wb']\n",
            "Prediction: -0.4417230188846588, -1.02981698513031\n",
            "Negative prediction\n",
            "Prediction: negative\n"
          ],
          "name": "stdout"
        },
        {
          "output_type": "stream",
          "text": [
            "127.0.0.1 - - [20/Apr/2021 14:15:17] \"\u001b[37mPOST /predict HTTP/1.1\u001b[0m\" 200 -\n"
          ],
          "name": "stderr"
        },
        {
          "output_type": "stream",
          "text": [
            "Sentence: rt joncoopertweets ted nugent has announced that he s fallen badly sick with covid    since the pandemic began last year nugent has des \n",
            "['rt joncoopertweets ted nugent has announced that he s fallen badly sick with covid    since the pandemic began last year nugent has des ']\n",
            "Prediction: 0.0, -35.14141082763672\n",
            "Negative prediction\n",
            "Prediction: negative\n"
          ],
          "name": "stdout"
        },
        {
          "output_type": "stream",
          "text": [
            "127.0.0.1 - - [20/Apr/2021 14:15:17] \"\u001b[37mPOST /predict HTTP/1.1\u001b[0m\" 200 -\n"
          ],
          "name": "stderr"
        },
        {
          "output_type": "stream",
          "text": [
            "Sentence: rt rajshekhartoi jan   vaccine announced in india jan    drive kicks off for healthcare frontline wrkrs feb  st week simultaneous vac \n",
            "['rt rajshekhartoi jan   vaccine announced in india jan    drive kicks off for healthcare frontline wrkrs feb  st week simultaneous vac ']\n",
            "Prediction: -10.276847839355469, -3.4450891689630225e-05\n",
            "Positive prediction\n",
            "Prediction: positive\n"
          ],
          "name": "stdout"
        },
        {
          "output_type": "stream",
          "text": [
            "127.0.0.1 - - [20/Apr/2021 14:15:17] \"\u001b[37mPOST /predict HTTP/1.1\u001b[0m\" 200 -\n"
          ],
          "name": "stderr"
        },
        {
          "output_type": "stream",
          "text": [
            "Sentence: rt m s beg if india s pandemic had a photo this would be it a    year old wants to be discharged because she doesn t want treatment fr \n",
            "['rt m s beg if india s pandemic had a photo this would be it a    year old wants to be discharged because she doesn t want treatment fr ']\n",
            "Prediction: 0.0, -36.9069938659668\n",
            "Negative prediction\n",
            "Prediction: negative\n"
          ],
          "name": "stdout"
        },
        {
          "output_type": "stream",
          "text": [
            "127.0.0.1 - - [20/Apr/2021 14:15:17] \"\u001b[37mPOST /predict HTTP/1.1\u001b[0m\" 200 -\n"
          ],
          "name": "stderr"
        },
        {
          "output_type": "stream",
          "text": [
            "Sentence: rt yash parmar    drharshvardhan drhvoffice sir i am a resident of visakhapatnam andhra pradesh and i have been booking appointment f \n",
            "['rt yash parmar    drharshvardhan drhvoffice sir i am a resident of visakhapatnam andhra pradesh and i have been booking appointment f ']\n",
            "Prediction: -0.4417230188846588, -1.02981698513031\n",
            "Negative prediction\n",
            "Prediction: negative\n"
          ],
          "name": "stdout"
        },
        {
          "output_type": "stream",
          "text": [
            "127.0.0.1 - - [20/Apr/2021 14:15:18] \"\u001b[37mPOST /predict HTTP/1.1\u001b[0m\" 200 -\n"
          ],
          "name": "stderr"
        },
        {
          "output_type": "stream",
          "text": [
            "Sentence: rt lmlauramarsh on the phone with them now i told them by law the vaccine is free they said the shot itself is free but the administra \n",
            "['rt lmlauramarsh on the phone with them now i told them by law the vaccine is free they said the shot itself is free but the administra ']\n",
            "Prediction: -35.005348205566406, 0.0\n",
            "Positive prediction\n",
            "Prediction: positive\n"
          ],
          "name": "stdout"
        },
        {
          "output_type": "stream",
          "text": [
            "127.0.0.1 - - [20/Apr/2021 14:15:18] \"\u001b[37mPOST /predict HTTP/1.1\u001b[0m\" 200 -\n"
          ],
          "name": "stderr"
        },
        {
          "output_type": "stream",
          "text": [
            "Sentence: omg y all just scheduled my vaccine appointments\n",
            "['omg y all just scheduled my vaccine appointments']\n",
            "Prediction: -0.4417230188846588, -1.02981698513031\n",
            "Negative prediction\n",
            "Prediction: negative\n"
          ],
          "name": "stdout"
        },
        {
          "output_type": "stream",
          "text": [
            "127.0.0.1 - - [20/Apr/2021 14:15:18] \"\u001b[37mPOST /predict HTTP/1.1\u001b[0m\" 200 -\n"
          ],
          "name": "stderr"
        },
        {
          "output_type": "stream",
          "text": [
            "Sentence: cvs charlottesville       m   chatham       m    chesapeake       m    christiansburg       m   clarksville    https t co ueczq dke \n",
            "['cvs charlottesville       m   chatham       m    chesapeake       m    christiansburg       m   clarksville    https t co ueczq dke ']\n",
            "Prediction: -0.4417230188846588, -1.02981698513031\n",
            "Negative prediction\n",
            "Prediction: negative\n"
          ],
          "name": "stdout"
        },
        {
          "output_type": "stream",
          "text": [
            "127.0.0.1 - - [20/Apr/2021 14:15:18] \"\u001b[37mPOST /predict HTTP/1.1\u001b[0m\" 200 -\n"
          ],
          "name": "stderr"
        },
        {
          "output_type": "stream",
          "text": [
            "Sentence: rt klrobson my friend accurately described ontario as vaccine hunger games \n",
            "['rt klrobson my friend accurately described ontario as vaccine hunger games ']\n",
            "Prediction: 0.0, -21.974590301513672\n",
            "Negative prediction\n",
            "Prediction: negative\n"
          ],
          "name": "stdout"
        },
        {
          "output_type": "stream",
          "text": [
            "127.0.0.1 - - [20/Apr/2021 14:15:19] \"\u001b[37mPOST /predict HTTP/1.1\u001b[0m\" 200 -\n"
          ],
          "name": "stderr"
        },
        {
          "output_type": "stream",
          "text": [
            "Sentence: rt andrewbostom yale joins the non evidence based c   vaccine totalitarians forcing an unnecessary eua only vax upon very low c   risk st \n",
            "['rt andrewbostom yale joins the non evidence based c   vaccine totalitarians forcing an unnecessary eua only vax upon very low c   risk st ']\n",
            "Prediction: -0.4417230188846588, -1.02981698513031\n",
            "Negative prediction\n",
            "Prediction: negative\n"
          ],
          "name": "stdout"
        },
        {
          "output_type": "stream",
          "text": [
            "127.0.0.1 - - [20/Apr/2021 14:15:19] \"\u001b[37mPOST /predict HTTP/1.1\u001b[0m\" 200 -\n"
          ],
          "name": "stderr"
        },
        {
          "output_type": "stream",
          "text": [
            "Sentence: cvs abingdon       m  alexandria       m  alexandria       m  alexandria       m  appomattox       m   arling https t co k dbgiqcno\n",
            "['cvs abingdon       m  alexandria       m  alexandria       m  alexandria       m  appomattox       m   arling https t co k dbgiqcno']\n",
            "Prediction: -0.4417230188846588, -1.02981698513031\n",
            "Negative prediction\n",
            "Prediction: negative\n"
          ],
          "name": "stdout"
        },
        {
          "output_type": "stream",
          "text": [
            "127.0.0.1 - - [20/Apr/2021 14:15:19] \"\u001b[37mPOST /predict HTTP/1.1\u001b[0m\" 200 -\n"
          ],
          "name": "stderr"
        },
        {
          "output_type": "stream",
          "text": [
            "Sentence: herpes infection possibly linked to covid    vaccine study says https t co wp nlhe r  via nypost\n",
            "['herpes infection possibly linked to covid    vaccine study says https t co wp nlhe r  via nypost']\n",
            "Prediction: -0.4417230188846588, -1.02981698513031\n",
            "Negative prediction\n",
            "Prediction: negative\n"
          ],
          "name": "stdout"
        },
        {
          "output_type": "stream",
          "text": [
            "127.0.0.1 - - [20/Apr/2021 14:15:19] \"\u001b[37mPOST /predict HTTP/1.1\u001b[0m\" 200 -\n"
          ],
          "name": "stderr"
        },
        {
          "output_type": "stream",
          "text": [
            "Sentence: rt zeynep thousands of retweets for implying a  x surge of b     variant is related to school openings in the uk and rising despite vac \n",
            "['rt zeynep thousands of retweets for implying a  x surge of b     variant is related to school openings in the uk and rising despite vac ']\n",
            "Prediction: -0.4417230188846588, -1.02981698513031\n",
            "Negative prediction\n",
            "Prediction: negative\n"
          ],
          "name": "stdout"
        },
        {
          "output_type": "stream",
          "text": [
            "127.0.0.1 - - [20/Apr/2021 14:15:20] \"\u001b[37mPOST /predict HTTP/1.1\u001b[0m\" 200 -\n"
          ],
          "name": "stderr"
        },
        {
          "output_type": "stream",
          "text": [
            "Sentence: rt vijayabaskarofl today we received   lakh doses of covid vaccine that shall be distributed across all vaccine centres on behalf of ho \n",
            "['rt vijayabaskarofl today we received   lakh doses of covid vaccine that shall be distributed across all vaccine centres on behalf of ho ']\n",
            "Prediction: -16.478851318359375, -1.1920928244535389e-07\n",
            "Positive prediction\n",
            "Prediction: positive\n"
          ],
          "name": "stdout"
        },
        {
          "output_type": "stream",
          "text": [
            "127.0.0.1 - - [20/Apr/2021 14:15:20] \"\u001b[37mPOST /predict HTTP/1.1\u001b[0m\" 200 -\n"
          ],
          "name": "stderr"
        },
        {
          "output_type": "stream",
          "text": [
            "Sentence: rt akshitasinghb ye bjp ki vaccine hai hum nahi lagaenge open vaccine for all modi exporting our vaccines we want vaccine for all v \n",
            "['rt akshitasinghb ye bjp ki vaccine hai hum nahi lagaenge open vaccine for all modi exporting our vaccines we want vaccine for all v ']\n",
            "Prediction: -2.622600959512056e-06, -12.835427284240723\n",
            "Negative prediction\n",
            "Prediction: negative\n"
          ],
          "name": "stdout"
        },
        {
          "output_type": "stream",
          "text": [
            "127.0.0.1 - - [20/Apr/2021 14:15:20] \"\u001b[37mPOST /predict HTTP/1.1\u001b[0m\" 200 -\n"
          ],
          "name": "stderr"
        },
        {
          "output_type": "stream",
          "text": [
            "Sentence: rt iansams new poll gt gt    of americans say the j amp j pause was the right call republicans were almost as likely to support the pause as \n",
            "['rt iansams new poll gt gt    of americans say the j amp j pause was the right call republicans were almost as likely to support the pause as ']\n",
            "Prediction: -20.171703338623047, 0.0\n",
            "Positive prediction\n",
            "Prediction: positive\n"
          ],
          "name": "stdout"
        },
        {
          "output_type": "stream",
          "text": [
            "127.0.0.1 - - [20/Apr/2021 14:15:20] \"\u001b[37mPOST /predict HTTP/1.1\u001b[0m\" 200 -\n"
          ],
          "name": "stderr"
        },
        {
          "output_type": "stream",
          "text": [
            "Sentence:   justinfrank lsarsour ilhanmn figured as much our military sure seems to be lacking in brainpower lately with   https t co lkwvaerqib\n",
            "['  justinfrank lsarsour ilhanmn figured as much our military sure seems to be lacking in brainpower lately with   https t co lkwvaerqib']\n",
            "Prediction: 0.0, -43.63970947265625\n",
            "Negative prediction\n",
            "Prediction: negative\n"
          ],
          "name": "stdout"
        },
        {
          "output_type": "stream",
          "text": [
            "127.0.0.1 - - [20/Apr/2021 14:15:20] \"\u001b[37mPOST /predict HTTP/1.1\u001b[0m\" 200 -\n"
          ],
          "name": "stderr"
        },
        {
          "output_type": "stream",
          "text": [
            "Sentence: rt potus thanks for tuning into last night s roll up your sleeves special today every american    is eligible to get a covid    vaccin \n",
            "['rt potus thanks for tuning into last night s roll up your sleeves special today every american    is eligible to get a covid    vaccin ']\n",
            "Prediction: -0.0003668589051812887, -7.9106926918029785\n",
            "Negative prediction\n",
            "Prediction: negative\n"
          ],
          "name": "stdout"
        },
        {
          "output_type": "stream",
          "text": [
            "127.0.0.1 - - [20/Apr/2021 14:15:21] \"\u001b[37mPOST /predict HTTP/1.1\u001b[0m\" 200 -\n"
          ],
          "name": "stderr"
        },
        {
          "output_type": "stream",
          "text": [
            "Sentence: rt sauniell an infertility diagnosis requires a lot of tests the vaccine has not been out long enough for it to make a women infertile a \n",
            "['rt sauniell an infertility diagnosis requires a lot of tests the vaccine has not been out long enough for it to make a women infertile a ']\n",
            "Prediction: -0.002491348423063755, -5.996171474456787\n",
            "Negative prediction\n",
            "Prediction: negative\n"
          ],
          "name": "stdout"
        },
        {
          "output_type": "stream",
          "text": [
            "127.0.0.1 - - [20/Apr/2021 14:15:21] \"\u001b[37mPOST /predict HTTP/1.1\u001b[0m\" 200 -\n"
          ],
          "name": "stderr"
        },
        {
          "output_type": "stream",
          "text": [
            "Sentence: hy vee https t co gpbpjj   d      fairfield       forest city       fort dodge       fort madison       https t co vac k  e q\n",
            "['hy vee https t co gpbpjj   d      fairfield       forest city       fort dodge       fort madison       https t co vac k  e q']\n",
            "Prediction: -0.4417230188846588, -1.02981698513031\n",
            "Negative prediction\n",
            "Prediction: negative\n"
          ],
          "name": "stdout"
        },
        {
          "output_type": "stream",
          "text": [
            "127.0.0.1 - - [20/Apr/2021 14:15:21] \"\u001b[37mPOST /predict HTTP/1.1\u001b[0m\" 200 -\n"
          ],
          "name": "stderr"
        },
        {
          "output_type": "stream",
          "text": [
            "Sentence: rt rajivkumar  finminindia s approval of       cr for seruminstindia amp        cr to bharatbiotech for boosting the production of \n",
            "['rt rajivkumar  finminindia s approval of       cr for seruminstindia amp        cr to bharatbiotech for boosting the production of ']\n",
            "Prediction: -0.4417230188846588, -1.02981698513031\n",
            "Negative prediction\n",
            "Prediction: negative\n"
          ],
          "name": "stdout"
        },
        {
          "output_type": "stream",
          "text": [
            "127.0.0.1 - - [20/Apr/2021 14:15:21] \"\u001b[37mPOST /predict HTTP/1.1\u001b[0m\" 200 -\n"
          ],
          "name": "stderr"
        },
        {
          "output_type": "stream",
          "text": [
            "Sentence: rt joebiden today every adult is eligible to get a covid    vaccine better days are ahead \n",
            "['rt joebiden today every adult is eligible to get a covid    vaccine better days are ahead ']\n",
            "Prediction: -2.5247085094451904, -0.083470419049263\n",
            "Positive prediction\n",
            "Prediction: positive\n"
          ],
          "name": "stdout"
        },
        {
          "output_type": "stream",
          "text": [
            "127.0.0.1 - - [20/Apr/2021 14:15:22] \"\u001b[37mPOST /predict HTTP/1.1\u001b[0m\" 200 -\n"
          ],
          "name": "stderr"
        },
        {
          "output_type": "stream",
          "text": [
            "Sentence: rt travisallen   if you don t need a vaccine because god will protect you then why do you need a gun \n",
            "['rt travisallen   if you don t need a vaccine because god will protect you then why do you need a gun ']\n",
            "Prediction: -12.521852493286133, -3.6954811548639555e-06\n",
            "Positive prediction\n",
            "Prediction: positive\n"
          ],
          "name": "stdout"
        },
        {
          "output_type": "stream",
          "text": [
            "127.0.0.1 - - [20/Apr/2021 14:15:22] \"\u001b[37mPOST /predict HTTP/1.1\u001b[0m\" 200 -\n"
          ],
          "name": "stderr"
        },
        {
          "output_type": "stream",
          "text": [
            "Sentence: rt pleasebegneiss nurse giving me vaccine be sure you drink lots of fluids me that s literally all i drink\n",
            "['rt pleasebegneiss nurse giving me vaccine be sure you drink lots of fluids me that s literally all i drink']\n",
            "Prediction: -15.375885963439941, -2.3841855067985307e-07\n",
            "Positive prediction\n",
            "Prediction: positive\n"
          ],
          "name": "stdout"
        },
        {
          "output_type": "stream",
          "text": [
            "127.0.0.1 - - [20/Apr/2021 14:15:22] \"\u001b[37mPOST /predict HTTP/1.1\u001b[0m\" 200 -\n"
          ],
          "name": "stderr"
        },
        {
          "output_type": "stream",
          "text": [
            "Sentence: rt billshortenmp only    disability facilities out of      have received their complete vaccinations absolutely unforgivable https t \n",
            "['rt billshortenmp only    disability facilities out of      have received their complete vaccinations absolutely unforgivable https t ']\n",
            "Prediction: -0.4417230188846588, -1.02981698513031\n",
            "Negative prediction\n",
            "Prediction: negative\n"
          ],
          "name": "stdout"
        },
        {
          "output_type": "stream",
          "text": [
            "127.0.0.1 - - [20/Apr/2021 14:15:22] \"\u001b[37mPOST /predict HTTP/1.1\u001b[0m\" 200 -\n"
          ],
          "name": "stderr"
        },
        {
          "output_type": "stream",
          "text": [
            "Sentence: rt dustyroseyyc i don t know anyone who has been seriously sick from covid    i also don t know anyone who has been even remotely sic \n",
            "['rt dustyroseyyc i don t know anyone who has been seriously sick from covid    i also don t know anyone who has been even remotely sic ']\n",
            "Prediction: 0.0, -18.569725036621094\n",
            "Negative prediction\n",
            "Prediction: negative\n"
          ],
          "name": "stdout"
        },
        {
          "output_type": "stream",
          "text": [
            "127.0.0.1 - - [20/Apr/2021 14:15:23] \"\u001b[37mPOST /predict HTTP/1.1\u001b[0m\" 200 -\n"
          ],
          "name": "stderr"
        },
        {
          "output_type": "stream",
          "text": [
            "Sentence: rt potus as of today every american is eligible to receive the covid    vaccine for yourself your neighbors and your family please \n",
            "['rt potus as of today every american is eligible to receive the covid    vaccine for yourself your neighbors and your family please ']\n",
            "Prediction: -16.478851318359375, -1.1920928244535389e-07\n",
            "Positive prediction\n",
            "Prediction: positive\n"
          ],
          "name": "stdout"
        },
        {
          "output_type": "stream",
          "text": [
            "127.0.0.1 - - [20/Apr/2021 14:15:23] \"\u001b[37mPOST /predict HTTP/1.1\u001b[0m\" 200 -\n"
          ],
          "name": "stderr"
        },
        {
          "output_type": "stream",
          "text": [
            "Sentence: rt lexypanterra i repeat i am not getting the fucking vaccine and there is no way the world can tell us we have to what is thi \n",
            "['rt lexypanterra i repeat i am not getting the fucking vaccine and there is no way the world can tell us we have to what is thi ']\n",
            "Prediction: -18.092138290405273, 0.0\n",
            "Positive prediction\n",
            "Prediction: positive\n"
          ],
          "name": "stdout"
        },
        {
          "output_type": "stream",
          "text": [
            "127.0.0.1 - - [20/Apr/2021 14:15:23] \"\u001b[37mPOST /predict HTTP/1.1\u001b[0m\" 200 -\n"
          ],
          "name": "stderr"
        },
        {
          "output_type": "stream",
          "text": [
            "Sentence: rt iyc nero fiddled while rome burned iyc national spokesperson gautamseth inc questions the modi government on revelations of variou \n",
            "['rt iyc nero fiddled while rome burned iyc national spokesperson gautamseth inc questions the modi government on revelations of variou ']\n",
            "Prediction: -0.4417230188846588, -1.02981698513031\n",
            "Negative prediction\n",
            "Prediction: negative\n"
          ],
          "name": "stdout"
        },
        {
          "output_type": "stream",
          "text": [
            "127.0.0.1 - - [20/Apr/2021 14:15:23] \"\u001b[37mPOST /predict HTTP/1.1\u001b[0m\" 200 -\n"
          ],
          "name": "stderr"
        },
        {
          "output_type": "stream",
          "text": [
            "Sentence:  barryheeney lorrain         m n  a people with no underlying conditions receive jab then die soon afterwards t https t co sk  lwtwtn\n",
            "[' barryheeney lorrain         m n  a people with no underlying conditions receive jab then die soon afterwards t https t co sk  lwtwtn']\n",
            "Prediction: -25.755573272705078, 0.0\n",
            "Positive prediction\n",
            "Prediction: positive\n"
          ],
          "name": "stdout"
        },
        {
          "output_type": "stream",
          "text": [
            "127.0.0.1 - - [20/Apr/2021 14:15:24] \"\u001b[37mPOST /predict HTTP/1.1\u001b[0m\" 200 -\n"
          ],
          "name": "stderr"
        },
        {
          "output_type": "stream",
          "text": [
            "Sentence: not quite tired yet but need to sleep soon since i have to get up in about   hours so i have time to eat drink a t https t co b befvclfi\n",
            "['not quite tired yet but need to sleep soon since i have to get up in about   hours so i have time to eat drink a t https t co b befvclfi']\n",
            "Prediction: -25.406822204589844, 0.0\n",
            "Positive prediction\n",
            "Prediction: positive\n"
          ],
          "name": "stdout"
        },
        {
          "output_type": "stream",
          "text": [
            "127.0.0.1 - - [20/Apr/2021 14:15:24] \"\u001b[37mPOST /predict HTTP/1.1\u001b[0m\" 200 -\n"
          ],
          "name": "stderr"
        },
        {
          "output_type": "stream",
          "text": [
            "Sentence: rt freedoomer cloudnikki scimitar ss kiranmartis  anshsharma vijayavignesh kmrmanish   nitesamurai who i think in another   month \n",
            "['rt freedoomer cloudnikki scimitar ss kiranmartis  anshsharma vijayavignesh kmrmanish   nitesamurai who i think in another   month ']\n",
            "Prediction: 0.0, -21.31149673461914\n",
            "Negative prediction\n",
            "Prediction: negative\n"
          ],
          "name": "stdout"
        },
        {
          "output_type": "stream",
          "text": [
            "127.0.0.1 - - [20/Apr/2021 14:15:24] \"\u001b[37mPOST /predict HTTP/1.1\u001b[0m\" 200 -\n"
          ],
          "name": "stderr"
        },
        {
          "output_type": "stream",
          "text": [
            "Sentence: rt vijayabaskarofl today we received   lakh doses of covid vaccine that shall be distributed across all vaccine centres on behalf of ho \n",
            "['rt vijayabaskarofl today we received   lakh doses of covid vaccine that shall be distributed across all vaccine centres on behalf of ho ']\n",
            "Prediction: -16.478851318359375, -1.1920928244535389e-07\n",
            "Positive prediction\n",
            "Prediction: positive\n"
          ],
          "name": "stdout"
        }
      ]
    },
    {
      "cell_type": "code",
      "metadata": {
        "id": "YpiYuc8RbNZG"
      },
      "source": [
        ""
      ],
      "execution_count": null,
      "outputs": []
    }
  ]
}